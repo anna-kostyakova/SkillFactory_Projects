{
 "cells": [
  {
   "cell_type": "markdown",
   "metadata": {},
   "source": [
    "# Predict TripAdvisor Rating\n",
    "\n",
    "## Задание\n",
    "Необходимо предсказать рейтинг ресторана в TripAdvisor."
   ]
  },
  {
   "cell_type": "markdown",
   "metadata": {},
   "source": [
    "## Описание признаков\n",
    "\n",
    "- Restaurant_id — идентификационный номер ресторана / сети ресторанов;\n",
    "- City — город, в котором находится ресторан;\n",
    "- Cuisine Style — кухня или кухни, к которым можно отнести блюда, предлагаемые в ресторане;\n",
    "- Ranking — место, которое занимает данный ресторан среди всех ресторанов своего города;\n",
    "- Rating — рейтинг ресторана по данным TripAdvisor (именно это значение должна будет предсказывать модель);\n",
    "- Price Range — диапазон цен в ресторане;\n",
    "- Number of Reviews — количество отзывов о ресторане;\n",
    "- Reviews — данные о двух отзывах, которые отображаются на сайте ресторана;\n",
    "- URL_TA — URL страницы ресторана на TripAdvisor;\n",
    "- ID_TA — идентификатор ресторана в базе данных TripAdvisor."
   ]
  },
  {
   "cell_type": "markdown",
   "metadata": {},
   "source": [
    "## Загрузка необходимых библиотек"
   ]
  },
  {
   "cell_type": "code",
   "execution_count": 1,
   "metadata": {},
   "outputs": [],
   "source": [
    "import pandas as pd\n",
    "import numpy as np\n",
    "import collections\n",
    "import matplotlib.pyplot as plt\n",
    "import seaborn as sns \n",
    "from datetime import datetime\n",
    "%matplotlib inline\n",
    "\n",
    "# Загружаем специальный удобный инструмент для разделения датасета:\n",
    "from sklearn.model_selection import train_test_split\n",
    "\n",
    "from sklearn.ensemble import RandomForestRegressor # инструмент для создания и обучения модели\n",
    "from sklearn import metrics # инструменты для оценки точности модели\n",
    "\n",
    "import warnings; warnings.simplefilter('ignore')"
   ]
  },
  {
   "cell_type": "code",
   "execution_count": 2,
   "metadata": {},
   "outputs": [],
   "source": [
    "# Фиксируем RANDOM SEED\n",
    "\n",
    "RANDOM_SEED = 42"
   ]
  },
  {
   "cell_type": "code",
   "execution_count": 3,
   "metadata": {},
   "outputs": [],
   "source": [
    "# Зафиксируем версию пакетов, чтобы эксперименты были воспроизводимы\n",
    "\n",
    "!pip freeze > requirements.txt"
   ]
  },
  {
   "cell_type": "markdown",
   "metadata": {},
   "source": [
    "## Функции, которые нам могут понадобиться."
   ]
  },
  {
   "cell_type": "code",
   "execution_count": 4,
   "metadata": {},
   "outputs": [],
   "source": [
    "# Создадим функция для определения границ выбросов.\n",
    "\n",
    "def find_IQR(column):\n",
    "    perc_25 = data[column].quantile(0.25, interpolation=\"midpoint\")\n",
    "    perc_75 = data[column].quantile(0.75, interpolation=\"midpoint\")\n",
    "    IQR = perc_75 - perc_25\n",
    "    print('Q1: {}'.format(perc_25), 'Q3: {}'.format(perc_75), 'IQR: {}'.format(IQR),\n",
    "          'Граница выбросов: [{a},{b}]'.format(a=perc_25 - 1.5*IQR, b=perc_75 + 1.5*IQR), sep='\\n')"
   ]
  },
  {
   "cell_type": "markdown",
   "metadata": {},
   "source": [
    "## Data"
   ]
  },
  {
   "cell_type": "code",
   "execution_count": 5,
   "metadata": {},
   "outputs": [],
   "source": [
    "df_train = pd.read_csv('main_task.csv')\n",
    "df_test = pd.read_csv('kaggle_task.csv')\n",
    "sample_submission = pd.read_csv('sample_submission.csv')"
   ]
  },
  {
   "cell_type": "code",
   "execution_count": 6,
   "metadata": {},
   "outputs": [
    {
     "name": "stdout",
     "output_type": "stream",
     "text": [
      "<class 'pandas.core.frame.DataFrame'>\n",
      "RangeIndex: 40000 entries, 0 to 39999\n",
      "Data columns (total 10 columns):\n",
      " #   Column             Non-Null Count  Dtype  \n",
      "---  ------             --------------  -----  \n",
      " 0   Restaurant_id      40000 non-null  object \n",
      " 1   City               40000 non-null  object \n",
      " 2   Cuisine Style      30717 non-null  object \n",
      " 3   Ranking            40000 non-null  float64\n",
      " 4   Rating             40000 non-null  float64\n",
      " 5   Price Range        26114 non-null  object \n",
      " 6   Number of Reviews  37457 non-null  float64\n",
      " 7   Reviews            40000 non-null  object \n",
      " 8   URL_TA             40000 non-null  object \n",
      " 9   ID_TA              40000 non-null  object \n",
      "dtypes: float64(3), object(7)\n",
      "memory usage: 3.1+ MB\n"
     ]
    }
   ],
   "source": [
    "df_train.info()"
   ]
  },
  {
   "cell_type": "code",
   "execution_count": 7,
   "metadata": {},
   "outputs": [
    {
     "data": {
      "text/html": [
       "<div>\n",
       "<style scoped>\n",
       "    .dataframe tbody tr th:only-of-type {\n",
       "        vertical-align: middle;\n",
       "    }\n",
       "\n",
       "    .dataframe tbody tr th {\n",
       "        vertical-align: top;\n",
       "    }\n",
       "\n",
       "    .dataframe thead th {\n",
       "        text-align: right;\n",
       "    }\n",
       "</style>\n",
       "<table border=\"1\" class=\"dataframe\">\n",
       "  <thead>\n",
       "    <tr style=\"text-align: right;\">\n",
       "      <th></th>\n",
       "      <th>Restaurant_id</th>\n",
       "      <th>City</th>\n",
       "      <th>Cuisine Style</th>\n",
       "      <th>Ranking</th>\n",
       "      <th>Rating</th>\n",
       "      <th>Price Range</th>\n",
       "      <th>Number of Reviews</th>\n",
       "      <th>Reviews</th>\n",
       "      <th>URL_TA</th>\n",
       "      <th>ID_TA</th>\n",
       "    </tr>\n",
       "  </thead>\n",
       "  <tbody>\n",
       "    <tr>\n",
       "      <th>15642</th>\n",
       "      <td>id_6059</td>\n",
       "      <td>Barcelona</td>\n",
       "      <td>['Italian']</td>\n",
       "      <td>6060.0</td>\n",
       "      <td>3.5</td>\n",
       "      <td>NaN</td>\n",
       "      <td>3.0</td>\n",
       "      <td>[[], []]</td>\n",
       "      <td>/Restaurant_Review-g187497-d1074450-Reviews-A_...</td>\n",
       "      <td>d1074450</td>\n",
       "    </tr>\n",
       "    <tr>\n",
       "      <th>21997</th>\n",
       "      <td>id_5478</td>\n",
       "      <td>Paris</td>\n",
       "      <td>['Japanese']</td>\n",
       "      <td>5479.0</td>\n",
       "      <td>5.0</td>\n",
       "      <td>$$ - $$$</td>\n",
       "      <td>12.0</td>\n",
       "      <td>[['Simple affordable Japanese restaurant', 'Mu...</td>\n",
       "      <td>/Restaurant_Review-g187147-d8574680-Reviews-Sa...</td>\n",
       "      <td>d8574680</td>\n",
       "    </tr>\n",
       "    <tr>\n",
       "      <th>39761</th>\n",
       "      <td>id_1957</td>\n",
       "      <td>Paris</td>\n",
       "      <td>['French', 'European', 'Vegetarian Friendly']</td>\n",
       "      <td>1958.0</td>\n",
       "      <td>4.0</td>\n",
       "      <td>$$ - $$$</td>\n",
       "      <td>287.0</td>\n",
       "      <td>[['Cute restaurant in Montmartre', 'I will not...</td>\n",
       "      <td>/Restaurant_Review-g187147-d1907374-Reviews-Le...</td>\n",
       "      <td>d1907374</td>\n",
       "    </tr>\n",
       "    <tr>\n",
       "      <th>38350</th>\n",
       "      <td>id_555</td>\n",
       "      <td>Munich</td>\n",
       "      <td>NaN</td>\n",
       "      <td>560.0</td>\n",
       "      <td>4.5</td>\n",
       "      <td>NaN</td>\n",
       "      <td>27.0</td>\n",
       "      <td>[[], []]</td>\n",
       "      <td>/Restaurant_Review-g187309-d11659115-Reviews-T...</td>\n",
       "      <td>d11659115</td>\n",
       "    </tr>\n",
       "    <tr>\n",
       "      <th>15628</th>\n",
       "      <td>id_1519</td>\n",
       "      <td>Stockholm</td>\n",
       "      <td>NaN</td>\n",
       "      <td>1521.0</td>\n",
       "      <td>4.0</td>\n",
       "      <td>NaN</td>\n",
       "      <td>4.0</td>\n",
       "      <td>[['We enjoyed it. right for the evening'], ['0...</td>\n",
       "      <td>/Restaurant_Review-g189852-d3303412-Reviews-Ga...</td>\n",
       "      <td>d3303412</td>\n",
       "    </tr>\n",
       "  </tbody>\n",
       "</table>\n",
       "</div>"
      ],
      "text/plain": [
       "      Restaurant_id       City                                  Cuisine Style  \\\n",
       "15642       id_6059  Barcelona                                    ['Italian']   \n",
       "21997       id_5478      Paris                                   ['Japanese']   \n",
       "39761       id_1957      Paris  ['French', 'European', 'Vegetarian Friendly']   \n",
       "38350        id_555     Munich                                            NaN   \n",
       "15628       id_1519  Stockholm                                            NaN   \n",
       "\n",
       "       Ranking  Rating Price Range  Number of Reviews  \\\n",
       "15642   6060.0     3.5         NaN                3.0   \n",
       "21997   5479.0     5.0    $$ - $$$               12.0   \n",
       "39761   1958.0     4.0    $$ - $$$              287.0   \n",
       "38350    560.0     4.5         NaN               27.0   \n",
       "15628   1521.0     4.0         NaN                4.0   \n",
       "\n",
       "                                                 Reviews  \\\n",
       "15642                                           [[], []]   \n",
       "21997  [['Simple affordable Japanese restaurant', 'Mu...   \n",
       "39761  [['Cute restaurant in Montmartre', 'I will not...   \n",
       "38350                                           [[], []]   \n",
       "15628  [['We enjoyed it. right for the evening'], ['0...   \n",
       "\n",
       "                                                  URL_TA      ID_TA  \n",
       "15642  /Restaurant_Review-g187497-d1074450-Reviews-A_...   d1074450  \n",
       "21997  /Restaurant_Review-g187147-d8574680-Reviews-Sa...   d8574680  \n",
       "39761  /Restaurant_Review-g187147-d1907374-Reviews-Le...   d1907374  \n",
       "38350  /Restaurant_Review-g187309-d11659115-Reviews-T...  d11659115  \n",
       "15628  /Restaurant_Review-g189852-d3303412-Reviews-Ga...   d3303412  "
      ]
     },
     "execution_count": 7,
     "metadata": {},
     "output_type": "execute_result"
    }
   ],
   "source": [
    "df_train.sample(5)"
   ]
  },
  {
   "cell_type": "code",
   "execution_count": 8,
   "metadata": {},
   "outputs": [
    {
     "name": "stdout",
     "output_type": "stream",
     "text": [
      "<class 'pandas.core.frame.DataFrame'>\n",
      "RangeIndex: 10000 entries, 0 to 9999\n",
      "Data columns (total 9 columns):\n",
      " #   Column             Non-Null Count  Dtype  \n",
      "---  ------             --------------  -----  \n",
      " 0   Restaurant_id      10000 non-null  object \n",
      " 1   City               10000 non-null  object \n",
      " 2   Cuisine Style      7693 non-null   object \n",
      " 3   Ranking            10000 non-null  float64\n",
      " 4   Price Range        6525 non-null   object \n",
      " 5   Number of Reviews  9343 non-null   float64\n",
      " 6   Reviews            9998 non-null   object \n",
      " 7   URL_TA             10000 non-null  object \n",
      " 8   ID_TA              10000 non-null  object \n",
      "dtypes: float64(2), object(7)\n",
      "memory usage: 703.2+ KB\n"
     ]
    }
   ],
   "source": [
    "df_test.info()"
   ]
  },
  {
   "cell_type": "code",
   "execution_count": 9,
   "metadata": {
    "scrolled": false
   },
   "outputs": [
    {
     "data": {
      "text/html": [
       "<div>\n",
       "<style scoped>\n",
       "    .dataframe tbody tr th:only-of-type {\n",
       "        vertical-align: middle;\n",
       "    }\n",
       "\n",
       "    .dataframe tbody tr th {\n",
       "        vertical-align: top;\n",
       "    }\n",
       "\n",
       "    .dataframe thead th {\n",
       "        text-align: right;\n",
       "    }\n",
       "</style>\n",
       "<table border=\"1\" class=\"dataframe\">\n",
       "  <thead>\n",
       "    <tr style=\"text-align: right;\">\n",
       "      <th></th>\n",
       "      <th>Restaurant_id</th>\n",
       "      <th>City</th>\n",
       "      <th>Cuisine Style</th>\n",
       "      <th>Ranking</th>\n",
       "      <th>Price Range</th>\n",
       "      <th>Number of Reviews</th>\n",
       "      <th>Reviews</th>\n",
       "      <th>URL_TA</th>\n",
       "      <th>ID_TA</th>\n",
       "    </tr>\n",
       "  </thead>\n",
       "  <tbody>\n",
       "    <tr>\n",
       "      <th>0</th>\n",
       "      <td>id_0</td>\n",
       "      <td>Paris</td>\n",
       "      <td>['Bar', 'Pub']</td>\n",
       "      <td>12963.0</td>\n",
       "      <td>$$ - $$$</td>\n",
       "      <td>4.0</td>\n",
       "      <td>[[], []]</td>\n",
       "      <td>/Restaurant_Review-g187147-d10746918-Reviews-L...</td>\n",
       "      <td>d10746918</td>\n",
       "    </tr>\n",
       "    <tr>\n",
       "      <th>1</th>\n",
       "      <td>id_1</td>\n",
       "      <td>Helsinki</td>\n",
       "      <td>['European', 'Scandinavian', 'Gluten Free Opti...</td>\n",
       "      <td>106.0</td>\n",
       "      <td>$$ - $$$</td>\n",
       "      <td>97.0</td>\n",
       "      <td>[['Very good reviews!', 'Fine dining in Hakani...</td>\n",
       "      <td>/Restaurant_Review-g189934-d6674944-Reviews-Ra...</td>\n",
       "      <td>d6674944</td>\n",
       "    </tr>\n",
       "    <tr>\n",
       "      <th>2</th>\n",
       "      <td>id_2</td>\n",
       "      <td>Edinburgh</td>\n",
       "      <td>['Vegetarian Friendly']</td>\n",
       "      <td>810.0</td>\n",
       "      <td>$$ - $$$</td>\n",
       "      <td>28.0</td>\n",
       "      <td>[['Better than the Links', 'Ivy Black'], ['12/...</td>\n",
       "      <td>/Restaurant_Review-g186525-d13129638-Reviews-B...</td>\n",
       "      <td>d13129638</td>\n",
       "    </tr>\n",
       "    <tr>\n",
       "      <th>3</th>\n",
       "      <td>id_3</td>\n",
       "      <td>London</td>\n",
       "      <td>['Italian', 'Mediterranean', 'European', 'Vege...</td>\n",
       "      <td>1669.0</td>\n",
       "      <td>$$$$</td>\n",
       "      <td>202.0</td>\n",
       "      <td>[['Most exquisite', 'Delicious and authentic']...</td>\n",
       "      <td>/Restaurant_Review-g186338-d680417-Reviews-Qui...</td>\n",
       "      <td>d680417</td>\n",
       "    </tr>\n",
       "    <tr>\n",
       "      <th>4</th>\n",
       "      <td>id_4</td>\n",
       "      <td>Bratislava</td>\n",
       "      <td>['Italian', 'Mediterranean', 'European', 'Seaf...</td>\n",
       "      <td>37.0</td>\n",
       "      <td>$$$$</td>\n",
       "      <td>162.0</td>\n",
       "      <td>[['Always the best in bratislava', 'Very good ...</td>\n",
       "      <td>/Restaurant_Review-g274924-d1112354-Reviews-Ma...</td>\n",
       "      <td>d1112354</td>\n",
       "    </tr>\n",
       "  </tbody>\n",
       "</table>\n",
       "</div>"
      ],
      "text/plain": [
       "  Restaurant_id        City  \\\n",
       "0          id_0       Paris   \n",
       "1          id_1    Helsinki   \n",
       "2          id_2   Edinburgh   \n",
       "3          id_3      London   \n",
       "4          id_4  Bratislava   \n",
       "\n",
       "                                       Cuisine Style  Ranking Price Range  \\\n",
       "0                                     ['Bar', 'Pub']  12963.0    $$ - $$$   \n",
       "1  ['European', 'Scandinavian', 'Gluten Free Opti...    106.0    $$ - $$$   \n",
       "2                            ['Vegetarian Friendly']    810.0    $$ - $$$   \n",
       "3  ['Italian', 'Mediterranean', 'European', 'Vege...   1669.0        $$$$   \n",
       "4  ['Italian', 'Mediterranean', 'European', 'Seaf...     37.0        $$$$   \n",
       "\n",
       "   Number of Reviews                                            Reviews  \\\n",
       "0                4.0                                           [[], []]   \n",
       "1               97.0  [['Very good reviews!', 'Fine dining in Hakani...   \n",
       "2               28.0  [['Better than the Links', 'Ivy Black'], ['12/...   \n",
       "3              202.0  [['Most exquisite', 'Delicious and authentic']...   \n",
       "4              162.0  [['Always the best in bratislava', 'Very good ...   \n",
       "\n",
       "                                              URL_TA      ID_TA  \n",
       "0  /Restaurant_Review-g187147-d10746918-Reviews-L...  d10746918  \n",
       "1  /Restaurant_Review-g189934-d6674944-Reviews-Ra...   d6674944  \n",
       "2  /Restaurant_Review-g186525-d13129638-Reviews-B...  d13129638  \n",
       "3  /Restaurant_Review-g186338-d680417-Reviews-Qui...    d680417  \n",
       "4  /Restaurant_Review-g274924-d1112354-Reviews-Ma...   d1112354  "
      ]
     },
     "execution_count": 9,
     "metadata": {},
     "output_type": "execute_result"
    }
   ],
   "source": [
    "df_test.head(5)"
   ]
  },
  {
   "cell_type": "code",
   "execution_count": 10,
   "metadata": {},
   "outputs": [
    {
     "name": "stdout",
     "output_type": "stream",
     "text": [
      "<class 'pandas.core.frame.DataFrame'>\n",
      "RangeIndex: 10000 entries, 0 to 9999\n",
      "Data columns (total 2 columns):\n",
      " #   Column         Non-Null Count  Dtype  \n",
      "---  ------         --------------  -----  \n",
      " 0   Restaurant_id  10000 non-null  object \n",
      " 1   Rating         10000 non-null  float64\n",
      "dtypes: float64(1), object(1)\n",
      "memory usage: 156.4+ KB\n"
     ]
    }
   ],
   "source": [
    "sample_submission.info()"
   ]
  },
  {
   "cell_type": "code",
   "execution_count": 11,
   "metadata": {},
   "outputs": [
    {
     "data": {
      "text/html": [
       "<div>\n",
       "<style scoped>\n",
       "    .dataframe tbody tr th:only-of-type {\n",
       "        vertical-align: middle;\n",
       "    }\n",
       "\n",
       "    .dataframe tbody tr th {\n",
       "        vertical-align: top;\n",
       "    }\n",
       "\n",
       "    .dataframe thead th {\n",
       "        text-align: right;\n",
       "    }\n",
       "</style>\n",
       "<table border=\"1\" class=\"dataframe\">\n",
       "  <thead>\n",
       "    <tr style=\"text-align: right;\">\n",
       "      <th></th>\n",
       "      <th>Restaurant_id</th>\n",
       "      <th>Rating</th>\n",
       "    </tr>\n",
       "  </thead>\n",
       "  <tbody>\n",
       "    <tr>\n",
       "      <th>0</th>\n",
       "      <td>id_0</td>\n",
       "      <td>2.0</td>\n",
       "    </tr>\n",
       "    <tr>\n",
       "      <th>1</th>\n",
       "      <td>id_1</td>\n",
       "      <td>2.5</td>\n",
       "    </tr>\n",
       "    <tr>\n",
       "      <th>2</th>\n",
       "      <td>id_2</td>\n",
       "      <td>4.0</td>\n",
       "    </tr>\n",
       "    <tr>\n",
       "      <th>3</th>\n",
       "      <td>id_3</td>\n",
       "      <td>1.0</td>\n",
       "    </tr>\n",
       "    <tr>\n",
       "      <th>4</th>\n",
       "      <td>id_4</td>\n",
       "      <td>4.0</td>\n",
       "    </tr>\n",
       "  </tbody>\n",
       "</table>\n",
       "</div>"
      ],
      "text/plain": [
       "  Restaurant_id  Rating\n",
       "0          id_0     2.0\n",
       "1          id_1     2.5\n",
       "2          id_2     4.0\n",
       "3          id_3     1.0\n",
       "4          id_4     4.0"
      ]
     },
     "execution_count": 11,
     "metadata": {},
     "output_type": "execute_result"
    }
   ],
   "source": [
    "sample_submission.head(5)"
   ]
  },
  {
   "cell_type": "markdown",
   "metadata": {},
   "source": [
    "Для корректной обработки признаков объединяем train и test в один датасет."
   ]
  },
  {
   "cell_type": "code",
   "execution_count": 12,
   "metadata": {},
   "outputs": [],
   "source": [
    "df_train['sample'] = 1 # помечаем где у нас трейн\n",
    "df_test['sample'] = 0 # помечаем где у нас тест\n",
    "df_test['Rating'] = 0 # в тесте у нас нет значения Rating, мы его должны предсказать, по этому пока просто заполняем нулями\n",
    "\n",
    "data = df_test.append(df_train, sort=False).reset_index(drop=True) # объединяем"
   ]
  },
  {
   "cell_type": "code",
   "execution_count": 13,
   "metadata": {},
   "outputs": [
    {
     "name": "stdout",
     "output_type": "stream",
     "text": [
      "<class 'pandas.core.frame.DataFrame'>\n",
      "RangeIndex: 50000 entries, 0 to 49999\n",
      "Data columns (total 11 columns):\n",
      " #   Column             Non-Null Count  Dtype  \n",
      "---  ------             --------------  -----  \n",
      " 0   Restaurant_id      50000 non-null  object \n",
      " 1   City               50000 non-null  object \n",
      " 2   Cuisine Style      38410 non-null  object \n",
      " 3   Ranking            50000 non-null  float64\n",
      " 4   Price Range        32639 non-null  object \n",
      " 5   Number of Reviews  46800 non-null  float64\n",
      " 6   Reviews            49998 non-null  object \n",
      " 7   URL_TA             50000 non-null  object \n",
      " 8   ID_TA              50000 non-null  object \n",
      " 9   sample             50000 non-null  int64  \n",
      " 10  Rating             50000 non-null  float64\n",
      "dtypes: float64(3), int64(1), object(7)\n",
      "memory usage: 4.2+ MB\n"
     ]
    }
   ],
   "source": [
    "data.info()"
   ]
  },
  {
   "cell_type": "code",
   "execution_count": 14,
   "metadata": {},
   "outputs": [
    {
     "data": {
      "text/html": [
       "<div>\n",
       "<style scoped>\n",
       "    .dataframe tbody tr th:only-of-type {\n",
       "        vertical-align: middle;\n",
       "    }\n",
       "\n",
       "    .dataframe tbody tr th {\n",
       "        vertical-align: top;\n",
       "    }\n",
       "\n",
       "    .dataframe thead th {\n",
       "        text-align: right;\n",
       "    }\n",
       "</style>\n",
       "<table border=\"1\" class=\"dataframe\">\n",
       "  <thead>\n",
       "    <tr style=\"text-align: right;\">\n",
       "      <th></th>\n",
       "      <th>Restaurant_id</th>\n",
       "      <th>City</th>\n",
       "      <th>Cuisine Style</th>\n",
       "      <th>Ranking</th>\n",
       "      <th>Price Range</th>\n",
       "      <th>Number of Reviews</th>\n",
       "      <th>Reviews</th>\n",
       "      <th>URL_TA</th>\n",
       "      <th>ID_TA</th>\n",
       "      <th>sample</th>\n",
       "      <th>Rating</th>\n",
       "    </tr>\n",
       "  </thead>\n",
       "  <tbody>\n",
       "    <tr>\n",
       "      <th>31568</th>\n",
       "      <td>id_8242</td>\n",
       "      <td>Paris</td>\n",
       "      <td>['Chinese', 'Asian', 'Taiwanese']</td>\n",
       "      <td>8243.0</td>\n",
       "      <td>$</td>\n",
       "      <td>NaN</td>\n",
       "      <td>[[], []]</td>\n",
       "      <td>/Restaurant_Review-g187147-d13094987-Reviews-T...</td>\n",
       "      <td>d13094987</td>\n",
       "      <td>1</td>\n",
       "      <td>5.0</td>\n",
       "    </tr>\n",
       "    <tr>\n",
       "      <th>37095</th>\n",
       "      <td>id_3628</td>\n",
       "      <td>Lisbon</td>\n",
       "      <td>NaN</td>\n",
       "      <td>3633.0</td>\n",
       "      <td>NaN</td>\n",
       "      <td>4.0</td>\n",
       "      <td>[[], []]</td>\n",
       "      <td>/Restaurant_Review-g189158-d12439450-Reviews-S...</td>\n",
       "      <td>d12439450</td>\n",
       "      <td>1</td>\n",
       "      <td>3.5</td>\n",
       "    </tr>\n",
       "    <tr>\n",
       "      <th>26824</th>\n",
       "      <td>id_715</td>\n",
       "      <td>Oslo</td>\n",
       "      <td>['European', 'Scandinavian', 'Norwegian']</td>\n",
       "      <td>716.0</td>\n",
       "      <td>$</td>\n",
       "      <td>7.0</td>\n",
       "      <td>[['Great bar &amp; bike shop', 'Spunky Scandinavia...</td>\n",
       "      <td>/Restaurant_Review-g190479-d10701863-Reviews-O...</td>\n",
       "      <td>d10701863</td>\n",
       "      <td>1</td>\n",
       "      <td>4.5</td>\n",
       "    </tr>\n",
       "    <tr>\n",
       "      <th>31392</th>\n",
       "      <td>id_1241</td>\n",
       "      <td>Warsaw</td>\n",
       "      <td>['Asian', 'Thai', 'Vietnamese']</td>\n",
       "      <td>1242.0</td>\n",
       "      <td>$</td>\n",
       "      <td>2.0</td>\n",
       "      <td>[[], []]</td>\n",
       "      <td>/Restaurant_Review-g274856-d12593386-Reviews-Z...</td>\n",
       "      <td>d12593386</td>\n",
       "      <td>1</td>\n",
       "      <td>4.5</td>\n",
       "    </tr>\n",
       "    <tr>\n",
       "      <th>48708</th>\n",
       "      <td>id_5253</td>\n",
       "      <td>Milan</td>\n",
       "      <td>['Italian']</td>\n",
       "      <td>5256.0</td>\n",
       "      <td>NaN</td>\n",
       "      <td>3.0</td>\n",
       "      <td>[[], []]</td>\n",
       "      <td>/Restaurant_Review-g187849-d1021643-Reviews-Br...</td>\n",
       "      <td>d1021643</td>\n",
       "      <td>1</td>\n",
       "      <td>3.5</td>\n",
       "    </tr>\n",
       "  </tbody>\n",
       "</table>\n",
       "</div>"
      ],
      "text/plain": [
       "      Restaurant_id    City                              Cuisine Style  \\\n",
       "31568       id_8242   Paris          ['Chinese', 'Asian', 'Taiwanese']   \n",
       "37095       id_3628  Lisbon                                        NaN   \n",
       "26824        id_715    Oslo  ['European', 'Scandinavian', 'Norwegian']   \n",
       "31392       id_1241  Warsaw            ['Asian', 'Thai', 'Vietnamese']   \n",
       "48708       id_5253   Milan                                ['Italian']   \n",
       "\n",
       "       Ranking Price Range  Number of Reviews  \\\n",
       "31568   8243.0           $                NaN   \n",
       "37095   3633.0         NaN                4.0   \n",
       "26824    716.0           $                7.0   \n",
       "31392   1242.0           $                2.0   \n",
       "48708   5256.0         NaN                3.0   \n",
       "\n",
       "                                                 Reviews  \\\n",
       "31568                                           [[], []]   \n",
       "37095                                           [[], []]   \n",
       "26824  [['Great bar & bike shop', 'Spunky Scandinavia...   \n",
       "31392                                           [[], []]   \n",
       "48708                                           [[], []]   \n",
       "\n",
       "                                                  URL_TA      ID_TA  sample  \\\n",
       "31568  /Restaurant_Review-g187147-d13094987-Reviews-T...  d13094987       1   \n",
       "37095  /Restaurant_Review-g189158-d12439450-Reviews-S...  d12439450       1   \n",
       "26824  /Restaurant_Review-g190479-d10701863-Reviews-O...  d10701863       1   \n",
       "31392  /Restaurant_Review-g274856-d12593386-Reviews-Z...  d12593386       1   \n",
       "48708  /Restaurant_Review-g187849-d1021643-Reviews-Br...   d1021643       1   \n",
       "\n",
       "       Rating  \n",
       "31568     5.0  \n",
       "37095     3.5  \n",
       "26824     4.5  \n",
       "31392     4.5  \n",
       "48708     3.5  "
      ]
     },
     "execution_count": 14,
     "metadata": {},
     "output_type": "execute_result"
    }
   ],
   "source": [
    "data.sample(5)"
   ]
  },
  {
   "cell_type": "markdown",
   "metadata": {},
   "source": [
    "В нашем получившемся общем датасете мы видим 10 признаков (sample не считаем, так как это искуственный признак для дальнейшего разделения датасета). Три признака заполнены числовыми значениями, остальные номинативными. Что содержится в каждом из признаков посмотрим дальше, являются ли они категориальными и т.д. В некоторых признаках содержится достаточно большое количество пропусков.\n",
    "По условиям задания мы не можем удалять строки, так что будем заполнять пропуски и, возможно, создавать отдельный признак пропусков, так как отсуствия значения может быть также важной информацией для модели.\n",
    "\n",
    "Переименуем колонки для удобства обращения к признакам."
   ]
  },
  {
   "cell_type": "code",
   "execution_count": 15,
   "metadata": {},
   "outputs": [],
   "source": [
    "data.rename(columns={'Restaurant_id': 'rest_id', 'City': 'city',\n",
    "                     'Cuisine Style': 'cuisine_style', 'Ranking': 'ranking',\n",
    "                     'Rating': 'rating', 'Price Range': 'price_range',\n",
    "                    'Number of Reviews': 'number_of_rev', 'Reviews': 'reviews',\n",
    "                    'URL_TA': 'url_ta', 'ID_TA': 'id_ta'}, inplace=True)"
   ]
  },
  {
   "cell_type": "code",
   "execution_count": 16,
   "metadata": {},
   "outputs": [
    {
     "data": {
      "text/plain": [
       "Index(['rest_id', 'city', 'cuisine_style', 'ranking', 'price_range',\n",
       "       'number_of_rev', 'reviews', 'url_ta', 'id_ta', 'sample', 'rating'],\n",
       "      dtype='object')"
      ]
     },
     "execution_count": 16,
     "metadata": {},
     "output_type": "execute_result"
    }
   ],
   "source": [
    "# проверим\n",
    "\n",
    "data.columns"
   ]
  },
  {
   "cell_type": "markdown",
   "metadata": {},
   "source": [
    "## Cleaning and Prepping Data"
   ]
  },
  {
   "cell_type": "code",
   "execution_count": 17,
   "metadata": {},
   "outputs": [
    {
     "data": {
      "text/plain": [
       "rest_id              0\n",
       "city                 0\n",
       "cuisine_style    11590\n",
       "ranking              0\n",
       "price_range      17361\n",
       "number_of_rev     3200\n",
       "reviews              2\n",
       "url_ta               0\n",
       "id_ta                0\n",
       "sample               0\n",
       "rating               0\n",
       "dtype: int64"
      ]
     },
     "execution_count": 17,
     "metadata": {},
     "output_type": "execute_result"
    }
   ],
   "source": [
    "# посмотрим на кол-во пропусков, с которым предстоит работать\n",
    "\n",
    "data.isnull().sum()"
   ]
  },
  {
   "cell_type": "markdown",
   "metadata": {},
   "source": [
    "### ['rest_id']\n",
    "\n",
    "Не уверена, что данный признак будет полезен для модели. Однако визуально видна зависимость между данным признаком и признаком ranking. Посмотрим на корреляцию."
   ]
  },
  {
   "cell_type": "code",
   "execution_count": 18,
   "metadata": {},
   "outputs": [],
   "source": [
    "data.rest_id = data.rest_id.apply(lambda x: float(x[3:]))"
   ]
  },
  {
   "cell_type": "code",
   "execution_count": 19,
   "metadata": {},
   "outputs": [
    {
     "data": {
      "text/html": [
       "<div>\n",
       "<style scoped>\n",
       "    .dataframe tbody tr th:only-of-type {\n",
       "        vertical-align: middle;\n",
       "    }\n",
       "\n",
       "    .dataframe tbody tr th {\n",
       "        vertical-align: top;\n",
       "    }\n",
       "\n",
       "    .dataframe thead th {\n",
       "        text-align: right;\n",
       "    }\n",
       "</style>\n",
       "<table border=\"1\" class=\"dataframe\">\n",
       "  <thead>\n",
       "    <tr style=\"text-align: right;\">\n",
       "      <th></th>\n",
       "      <th>rest_id</th>\n",
       "      <th>ranking</th>\n",
       "    </tr>\n",
       "  </thead>\n",
       "  <tbody>\n",
       "    <tr>\n",
       "      <th>rest_id</th>\n",
       "      <td>1.00000</td>\n",
       "      <td>0.82509</td>\n",
       "    </tr>\n",
       "    <tr>\n",
       "      <th>ranking</th>\n",
       "      <td>0.82509</td>\n",
       "      <td>1.00000</td>\n",
       "    </tr>\n",
       "  </tbody>\n",
       "</table>\n",
       "</div>"
      ],
      "text/plain": [
       "         rest_id  ranking\n",
       "rest_id  1.00000  0.82509\n",
       "ranking  0.82509  1.00000"
      ]
     },
     "execution_count": 19,
     "metadata": {},
     "output_type": "execute_result"
    }
   ],
   "source": [
    "data[['rest_id', 'ranking']].corr()"
   ]
  },
  {
   "cell_type": "markdown",
   "metadata": {},
   "source": [
    "Да, корреляция есть. В таком случае признак rest_id потом удалим. Пока оставим, может пригодиться для формирования новых признаков."
   ]
  },
  {
   "cell_type": "markdown",
   "metadata": {},
   "source": [
    "### ['city']"
   ]
  },
  {
   "cell_type": "code",
   "execution_count": 20,
   "metadata": {},
   "outputs": [
    {
     "data": {
      "text/plain": [
       "count      50000\n",
       "unique        31\n",
       "top       London\n",
       "freq        7193\n",
       "Name: city, dtype: object"
      ]
     },
     "execution_count": 20,
     "metadata": {},
     "output_type": "execute_result"
    }
   ],
   "source": [
    "data.city.describe()"
   ]
  },
  {
   "cell_type": "code",
   "execution_count": 21,
   "metadata": {},
   "outputs": [
    {
     "data": {
      "text/plain": [
       "London        7193\n",
       "Paris         6108\n",
       "Madrid        3813\n",
       "Barcelona     3395\n",
       "Berlin        2705\n",
       "Milan         2694\n",
       "Rome          2589\n",
       "Prague        1816\n",
       "Lisbon        1647\n",
       "Vienna        1443\n",
       "Amsterdam     1372\n",
       "Brussels      1314\n",
       "Hamburg       1186\n",
       "Munich        1145\n",
       "Lyon          1126\n",
       "Stockholm     1033\n",
       "Budapest      1021\n",
       "Warsaw         925\n",
       "Dublin         836\n",
       "Copenhagen     819\n",
       "Athens         776\n",
       "Edinburgh      745\n",
       "Zurich         685\n",
       "Oporto         642\n",
       "Geneva         590\n",
       "Krakow         554\n",
       "Oslo           488\n",
       "Helsinki       475\n",
       "Bratislava     380\n",
       "Luxembourg     263\n",
       "Ljubljana      222\n",
       "Name: city, dtype: int64"
      ]
     },
     "execution_count": 21,
     "metadata": {},
     "output_type": "execute_result"
    }
   ],
   "source": [
    "data.city.value_counts()"
   ]
  },
  {
   "cell_type": "markdown",
   "metadata": {},
   "source": [
    "В данном признаки нет пропусков. На конечном этапе закодируем данный признак с помощью get_dummies. Пока оставим, как есть, для удобства создания новых признаков при необходимости."
   ]
  },
  {
   "cell_type": "markdown",
   "metadata": {},
   "source": [
    "### ['number_of_rev']"
   ]
  },
  {
   "cell_type": "code",
   "execution_count": 22,
   "metadata": {},
   "outputs": [
    {
     "data": {
      "text/plain": [
       "count    46800.000000\n",
       "mean       124.471197\n",
       "std        294.114345\n",
       "min          2.000000\n",
       "25%          9.000000\n",
       "50%         33.000000\n",
       "75%        115.000000\n",
       "max       9660.000000\n",
       "Name: number_of_rev, dtype: float64"
      ]
     },
     "execution_count": 22,
     "metadata": {},
     "output_type": "execute_result"
    }
   ],
   "source": [
    "data.number_of_rev.describe()"
   ]
  },
  {
   "cell_type": "code",
   "execution_count": 23,
   "metadata": {},
   "outputs": [
    {
     "data": {
      "text/plain": [
       "3200"
      ]
     },
     "execution_count": 23,
     "metadata": {},
     "output_type": "execute_result"
    }
   ],
   "source": [
    "data.number_of_rev.isnull().sum()"
   ]
  },
  {
   "cell_type": "markdown",
   "metadata": {},
   "source": [
    "У нас присутствует 3200 пропусков. Отсутствие данного значения может быть важной информацией для модели. Поэтому давайте вынесем все пропуски в отдельный признак. А пропуски заполним нулем."
   ]
  },
  {
   "cell_type": "code",
   "execution_count": 24,
   "metadata": {},
   "outputs": [],
   "source": [
    "data['number_of_rev_is_NAN'] = pd.isna(data.number_of_rev).astype('uint8')"
   ]
  },
  {
   "cell_type": "code",
   "execution_count": 25,
   "metadata": {},
   "outputs": [],
   "source": [
    "data.number_of_rev.fillna(0, inplace=True)"
   ]
  },
  {
   "cell_type": "code",
   "execution_count": 26,
   "metadata": {},
   "outputs": [
    {
     "name": "stdout",
     "output_type": "stream",
     "text": [
      "Q1: 7.0\n",
      "Q3: 105.0\n",
      "IQR: 98.0\n",
      "Граница выбросов: [-140.0,252.0]\n"
     ]
    }
   ],
   "source": [
    "# посмотрим, есть ли выбросы\n",
    "\n",
    "find_IQR('number_of_rev')"
   ]
  },
  {
   "cell_type": "markdown",
   "metadata": {},
   "source": [
    "Посмотрим, сколько значений у нас выбиывается за верхнюю границу выбросов."
   ]
  },
  {
   "cell_type": "code",
   "execution_count": 27,
   "metadata": {},
   "outputs": [
    {
     "data": {
      "text/plain": [
       "5946"
      ]
     },
     "execution_count": 27,
     "metadata": {},
     "output_type": "execute_result"
    }
   ],
   "source": [
    "sum(data.number_of_rev > 252)"
   ]
  },
  {
   "cell_type": "markdown",
   "metadata": {},
   "source": [
    "Достаточно много. Посмотрим распределение на гистограмме, чтобы не отсекать сразу так много."
   ]
  },
  {
   "cell_type": "code",
   "execution_count": 28,
   "metadata": {},
   "outputs": [
    {
     "data": {
      "text/plain": [
       "<matplotlib.axes._subplots.AxesSubplot at 0x12683b940>"
      ]
     },
     "execution_count": 28,
     "metadata": {},
     "output_type": "execute_result"
    },
    {
     "data": {
      "image/png": "[encoded data removed]",
      "text/plain": [
       "<Figure size 432x288 with 1 Axes>"
      ]
     },
     "metadata": {
      "needs_background": "light"
     },
     "output_type": "display_data"
    }
   ],
   "source": [
    "data.number_of_rev.hist(bins=80)"
   ]
  },
  {
   "cell_type": "markdown",
   "metadata": {},
   "source": [
    "Так, мы видим что гистограмма смещена вправо, хвост длинный и уходит на убыль где-то в районе значения 1200. Посмотрим, сколько у нас значения больше 1200."
   ]
  },
  {
   "cell_type": "code",
   "execution_count": 29,
   "metadata": {},
   "outputs": [
    {
     "data": {
      "text/plain": [
       "571"
      ]
     },
     "execution_count": 29,
     "metadata": {},
     "output_type": "execute_result"
    }
   ],
   "source": [
    "sum(data.number_of_rev > 1200)"
   ]
  },
  {
   "cell_type": "markdown",
   "metadata": {},
   "source": [
    "Давайте заменим эти значения на 1200."
   ]
  },
  {
   "cell_type": "code",
   "execution_count": 30,
   "metadata": {},
   "outputs": [],
   "source": [
    "data.number_of_rev = data.number_of_rev.apply(lambda x: 1200 if x > 1200 else x)"
   ]
  },
  {
   "cell_type": "code",
   "execution_count": 31,
   "metadata": {},
   "outputs": [
    {
     "data": {
      "text/plain": [
       "count    50000.000000\n",
       "mean       107.395580\n",
       "std        204.081303\n",
       "min          0.000000\n",
       "25%          7.000000\n",
       "50%         28.000000\n",
       "75%        105.000000\n",
       "max       1200.000000\n",
       "Name: number_of_rev, dtype: float64"
      ]
     },
     "execution_count": 31,
     "metadata": {},
     "output_type": "execute_result"
    }
   ],
   "source": [
    "# проверим\n",
    "\n",
    "data.number_of_rev.describe()"
   ]
  },
  {
   "cell_type": "markdown",
   "metadata": {},
   "source": [
    "### ['price_range']"
   ]
  },
  {
   "cell_type": "code",
   "execution_count": 32,
   "metadata": {},
   "outputs": [
    {
     "data": {
      "text/plain": [
       "$$ - $$$    23041\n",
       "$            7816\n",
       "$$$$         1782\n",
       "Name: price_range, dtype: int64"
      ]
     },
     "execution_count": 32,
     "metadata": {},
     "output_type": "execute_result"
    }
   ],
   "source": [
    "data.price_range.value_counts()"
   ]
  },
  {
   "cell_type": "code",
   "execution_count": 33,
   "metadata": {},
   "outputs": [
    {
     "data": {
      "text/plain": [
       "17361"
      ]
     },
     "execution_count": 33,
     "metadata": {},
     "output_type": "execute_result"
    }
   ],
   "source": [
    "sum(data.price_range.isnull())"
   ]
  },
  {
   "cell_type": "markdown",
   "metadata": {},
   "source": [
    "Вынесем пропуски в отдельный признак, присвоим значениям порядковый номер, пропуски заменим на ноль."
   ]
  },
  {
   "cell_type": "code",
   "execution_count": 34,
   "metadata": {},
   "outputs": [],
   "source": [
    "price = {'$' : 1, '$$ - $$$' : 2, '$$$$' : 3}\n",
    "data.price_range = data.price_range.map(price)"
   ]
  },
  {
   "cell_type": "code",
   "execution_count": 35,
   "metadata": {
    "scrolled": true
   },
   "outputs": [
    {
     "data": {
      "text/plain": [
       "count    32639.000000\n",
       "mean         1.815129\n",
       "std          0.509800\n",
       "min          1.000000\n",
       "25%          2.000000\n",
       "50%          2.000000\n",
       "75%          2.000000\n",
       "max          3.000000\n",
       "Name: price_range, dtype: float64"
      ]
     },
     "execution_count": 35,
     "metadata": {},
     "output_type": "execute_result"
    }
   ],
   "source": [
    "data.price_range.describe()"
   ]
  },
  {
   "cell_type": "code",
   "execution_count": 36,
   "metadata": {},
   "outputs": [],
   "source": [
    "data['price_range_is_NAN'] = pd.isna(data.price_range).astype('uint8')"
   ]
  },
  {
   "cell_type": "code",
   "execution_count": 37,
   "metadata": {},
   "outputs": [],
   "source": [
    "data.price_range = data.price_range.fillna(0)"
   ]
  },
  {
   "cell_type": "code",
   "execution_count": 38,
   "metadata": {},
   "outputs": [
    {
     "data": {
      "text/plain": [
       "2.0    23041\n",
       "0.0    17361\n",
       "1.0     7816\n",
       "3.0     1782\n",
       "Name: price_range, dtype: int64"
      ]
     },
     "execution_count": 38,
     "metadata": {},
     "output_type": "execute_result"
    }
   ],
   "source": [
    "# посмотрим, что получилось\n",
    "\n",
    "data.price_range.value_counts()"
   ]
  },
  {
   "cell_type": "markdown",
   "metadata": {},
   "source": [
    "### ['id_ta']"
   ]
  },
  {
   "cell_type": "markdown",
   "metadata": {},
   "source": [
    "Не уверена, что данный признак нам пригодится, но давайте пока есть оставим и посмотрим в модели по значимости признака. Уберем все лишнее."
   ]
  },
  {
   "cell_type": "code",
   "execution_count": 39,
   "metadata": {},
   "outputs": [
    {
     "data": {
      "text/plain": [
       "d11999956    2\n",
       "d4748208     2\n",
       "d10440367    2\n",
       "d2010743     2\n",
       "d13002276    2\n",
       "            ..\n",
       "d7144321     1\n",
       "d3528347     1\n",
       "d10682586    1\n",
       "d778842      1\n",
       "d8319732     1\n",
       "Name: id_ta, Length: 49963, dtype: int64"
      ]
     },
     "execution_count": 39,
     "metadata": {},
     "output_type": "execute_result"
    }
   ],
   "source": [
    "data.id_ta.value_counts()"
   ]
  },
  {
   "cell_type": "markdown",
   "metadata": {},
   "source": [
    "Интересно, у нас есть рестораны с одним и тем же идентификатором в системе. Давайте посмотрим на них поподробнее. "
   ]
  },
  {
   "cell_type": "code",
   "execution_count": 40,
   "metadata": {},
   "outputs": [
    {
     "data": {
      "text/plain": [
       "37"
      ]
     },
     "execution_count": 40,
     "metadata": {},
     "output_type": "execute_result"
    }
   ],
   "source": [
    "# посмотрим, сколько у нас таких ресторанов\n",
    "\n",
    "sum(data.id_ta.value_counts() > 1)"
   ]
  },
  {
   "cell_type": "markdown",
   "metadata": {},
   "source": [
    "А если вернуться к колонке rest_id и посмотреть, есть ли там дважды встречающиеся значения"
   ]
  },
  {
   "cell_type": "code",
   "execution_count": 41,
   "metadata": {},
   "outputs": [
    {
     "data": {
      "text/plain": [
       "871.0      19\n",
       "227.0      19\n",
       "436.0      19\n",
       "633.0      19\n",
       "344.0      18\n",
       "           ..\n",
       "11420.0     1\n",
       "6603.0      1\n",
       "8793.0      1\n",
       "5548.0      1\n",
       "11783.0     1\n",
       "Name: rest_id, Length: 13094, dtype: int64"
      ]
     },
     "execution_count": 41,
     "metadata": {},
     "output_type": "execute_result"
    }
   ],
   "source": [
    "data.rest_id.value_counts()"
   ]
  },
  {
   "cell_type": "code",
   "execution_count": 42,
   "metadata": {},
   "outputs": [
    {
     "data": {
      "text/plain": [
       "9287"
      ]
     },
     "execution_count": 42,
     "metadata": {},
     "output_type": "execute_result"
    }
   ],
   "source": [
    "sum(data.rest_id.value_counts() >= 2)"
   ]
  },
  {
   "cell_type": "markdown",
   "metadata": {},
   "source": [
    "В ситуации с rest_id можно предположить, что это сеть ресторанов, как Макдональдс. Следственно затем мы можем создать признак, который бы указывал, является ли ресторан частью сети или нет. В ситуации с id_ta может быть это некая компания, которая владеет несколькими разными ресторанами. Сказать сложно. Давайте отфильтруем эти значения и посмотрим на них повнимательнее."
   ]
  },
  {
   "cell_type": "code",
   "execution_count": 43,
   "metadata": {},
   "outputs": [
    {
     "data": {
      "text/plain": [
       "13094"
      ]
     },
     "execution_count": 43,
     "metadata": {},
     "output_type": "execute_result"
    }
   ],
   "source": [
    "data.rest_id.nunique()"
   ]
  },
  {
   "cell_type": "code",
   "execution_count": 44,
   "metadata": {},
   "outputs": [],
   "source": [
    "data_id_ta_notunique = data[data['id_ta'].map(data['id_ta'].value_counts()) > 1]"
   ]
  },
  {
   "cell_type": "code",
   "execution_count": 45,
   "metadata": {},
   "outputs": [],
   "source": [
    "data_id_ta_notunique.id_ta = data_id_ta_notunique.id_ta.apply(lambda x: int(x[1:]))"
   ]
  },
  {
   "cell_type": "code",
   "execution_count": 46,
   "metadata": {},
   "outputs": [
    {
     "data": {
      "text/plain": [
       "987900      2\n",
       "10316215    2\n",
       "1235635     2\n",
       "4748208     2\n",
       "10440367    2\n",
       "11698990    2\n",
       "1568045     2\n",
       "4914988     2\n",
       "13002276    2\n",
       "4600226     2\n",
       "12488993    2\n",
       "7337366     2\n",
       "3748757     2\n",
       "1028622     2\n",
       "9877640     2\n",
       "1315077     2\n",
       "5617412     2\n",
       "697406      2\n",
       "7809594     2\n",
       "2010743     2\n",
       "7827387     2\n",
       "10047799    2\n",
       "2669414     2\n",
       "3161682     2\n",
       "2360290     2\n",
       "11674463    2\n",
       "2477531     2\n",
       "5618007     2\n",
       "11921719    2\n",
       "11999956    2\n",
       "7342803     2\n",
       "793170      2\n",
       "3396817     2\n",
       "8753348     2\n",
       "3685055     2\n",
       "3647024     2\n",
       "9802625     2\n",
       "Name: id_ta, dtype: int64"
      ]
     },
     "execution_count": 46,
     "metadata": {},
     "output_type": "execute_result"
    }
   ],
   "source": [
    "data_id_ta_notunique.id_ta.value_counts()"
   ]
  },
  {
   "cell_type": "code",
   "execution_count": 47,
   "metadata": {
    "scrolled": true
   },
   "outputs": [
    {
     "data": {
      "text/html": [
       "<div>\n",
       "<style scoped>\n",
       "    .dataframe tbody tr th:only-of-type {\n",
       "        vertical-align: middle;\n",
       "    }\n",
       "\n",
       "    .dataframe tbody tr th {\n",
       "        vertical-align: top;\n",
       "    }\n",
       "\n",
       "    .dataframe thead th {\n",
       "        text-align: right;\n",
       "    }\n",
       "</style>\n",
       "<table border=\"1\" class=\"dataframe\">\n",
       "  <thead>\n",
       "    <tr style=\"text-align: right;\">\n",
       "      <th></th>\n",
       "      <th>rest_id</th>\n",
       "      <th>city</th>\n",
       "      <th>cuisine_style</th>\n",
       "      <th>ranking</th>\n",
       "      <th>price_range</th>\n",
       "      <th>number_of_rev</th>\n",
       "      <th>reviews</th>\n",
       "      <th>url_ta</th>\n",
       "      <th>id_ta</th>\n",
       "      <th>sample</th>\n",
       "      <th>rating</th>\n",
       "      <th>number_of_rev_is_NAN</th>\n",
       "      <th>price_range_is_NAN</th>\n",
       "    </tr>\n",
       "  </thead>\n",
       "  <tbody>\n",
       "    <tr>\n",
       "      <th>18019</th>\n",
       "      <td>2361.0</td>\n",
       "      <td>Madrid</td>\n",
       "      <td>['Seafood', 'Mediterranean', 'European', 'Span...</td>\n",
       "      <td>2363.0</td>\n",
       "      <td>2.0</td>\n",
       "      <td>190.0</td>\n",
       "      <td>[['Nice restaurant in Madrid', 'Highly reccome...</td>\n",
       "      <td>/Restaurant_Review-g187514-d987900-Reviews-Com...</td>\n",
       "      <td>987900</td>\n",
       "      <td>1</td>\n",
       "      <td>4.0</td>\n",
       "      <td>0</td>\n",
       "      <td>0</td>\n",
       "    </tr>\n",
       "    <tr>\n",
       "      <th>32998</th>\n",
       "      <td>2312.0</td>\n",
       "      <td>Madrid</td>\n",
       "      <td>['Seafood', 'Mediterranean', 'European', 'Span...</td>\n",
       "      <td>2314.0</td>\n",
       "      <td>2.0</td>\n",
       "      <td>190.0</td>\n",
       "      <td>[['Nice restaurant in Madrid', 'Highly reccome...</td>\n",
       "      <td>/Restaurant_Review-g187514-d987900-Reviews-Com...</td>\n",
       "      <td>987900</td>\n",
       "      <td>1</td>\n",
       "      <td>4.0</td>\n",
       "      <td>0</td>\n",
       "      <td>0</td>\n",
       "    </tr>\n",
       "  </tbody>\n",
       "</table>\n",
       "</div>"
      ],
      "text/plain": [
       "       rest_id    city                                      cuisine_style  \\\n",
       "18019   2361.0  Madrid  ['Seafood', 'Mediterranean', 'European', 'Span...   \n",
       "32998   2312.0  Madrid  ['Seafood', 'Mediterranean', 'European', 'Span...   \n",
       "\n",
       "       ranking  price_range  number_of_rev  \\\n",
       "18019   2363.0          2.0          190.0   \n",
       "32998   2314.0          2.0          190.0   \n",
       "\n",
       "                                                 reviews  \\\n",
       "18019  [['Nice restaurant in Madrid', 'Highly reccome...   \n",
       "32998  [['Nice restaurant in Madrid', 'Highly reccome...   \n",
       "\n",
       "                                                  url_ta   id_ta  sample  \\\n",
       "18019  /Restaurant_Review-g187514-d987900-Reviews-Com...  987900       1   \n",
       "32998  /Restaurant_Review-g187514-d987900-Reviews-Com...  987900       1   \n",
       "\n",
       "       rating  number_of_rev_is_NAN  price_range_is_NAN  \n",
       "18019     4.0                     0                   0  \n",
       "32998     4.0                     0                   0  "
      ]
     },
     "execution_count": 47,
     "metadata": {},
     "output_type": "execute_result"
    }
   ],
   "source": [
    "# посмотрим на пару таких ресторанов\n",
    "\n",
    "data_id_ta_notunique.query('id_ta == 987900')"
   ]
  },
  {
   "cell_type": "markdown",
   "metadata": {},
   "source": [
    "Мы видим, что все значения, кроме rest_id совпадают, может у них название разное и разный url? Посмотрим."
   ]
  },
  {
   "cell_type": "code",
   "execution_count": 48,
   "metadata": {},
   "outputs": [
    {
     "data": {
      "text/plain": [
       "'/Restaurant_Review-g187514-d987900-Reviews-Compostela_Restaurante-Madrid.html'"
      ]
     },
     "execution_count": 48,
     "metadata": {},
     "output_type": "execute_result"
    }
   ],
   "source": [
    "data_id_ta_notunique.url_ta[18019]"
   ]
  },
  {
   "cell_type": "code",
   "execution_count": 49,
   "metadata": {},
   "outputs": [
    {
     "data": {
      "text/plain": [
       "'/Restaurant_Review-g187514-d987900-Reviews-Compostela_Restaurante-Madrid.html'"
      ]
     },
     "execution_count": 49,
     "metadata": {},
     "output_type": "execute_result"
    }
   ],
   "source": [
    "data_id_ta_notunique.url_ta[32998]"
   ]
  },
  {
   "cell_type": "markdown",
   "metadata": {},
   "source": [
    "Нет, и тут все одинаковое. Значит у нас 37 ресторанов в датасете дублируются. Однако по условиям задачи удалять строки из датасета нельзя. Поэтому не трогаем эти дубликаты. Возможно, затем колонку id_ta удалим за ненадобностью, пока просто уберем символ d в начале и приведем к числовому значению и пойдем дальше."
   ]
  },
  {
   "cell_type": "code",
   "execution_count": 50,
   "metadata": {},
   "outputs": [],
   "source": [
    "data.id_ta = data.id_ta.apply(lambda x: int(x[1:]))"
   ]
  },
  {
   "cell_type": "markdown",
   "metadata": {},
   "source": [
    "### ['url_ta']"
   ]
  },
  {
   "cell_type": "code",
   "execution_count": 51,
   "metadata": {
    "scrolled": false
   },
   "outputs": [
    {
     "data": {
      "text/html": [
       "<div>\n",
       "<style scoped>\n",
       "    .dataframe tbody tr th:only-of-type {\n",
       "        vertical-align: middle;\n",
       "    }\n",
       "\n",
       "    .dataframe tbody tr th {\n",
       "        vertical-align: top;\n",
       "    }\n",
       "\n",
       "    .dataframe thead th {\n",
       "        text-align: right;\n",
       "    }\n",
       "</style>\n",
       "<table border=\"1\" class=\"dataframe\">\n",
       "  <thead>\n",
       "    <tr style=\"text-align: right;\">\n",
       "      <th></th>\n",
       "      <th>rest_id</th>\n",
       "      <th>city</th>\n",
       "      <th>cuisine_style</th>\n",
       "      <th>ranking</th>\n",
       "      <th>price_range</th>\n",
       "      <th>number_of_rev</th>\n",
       "      <th>reviews</th>\n",
       "      <th>url_ta</th>\n",
       "      <th>id_ta</th>\n",
       "      <th>sample</th>\n",
       "      <th>rating</th>\n",
       "      <th>number_of_rev_is_NAN</th>\n",
       "      <th>price_range_is_NAN</th>\n",
       "    </tr>\n",
       "  </thead>\n",
       "  <tbody>\n",
       "    <tr>\n",
       "      <th>0</th>\n",
       "      <td>0.0</td>\n",
       "      <td>Paris</td>\n",
       "      <td>['Bar', 'Pub']</td>\n",
       "      <td>12963.0</td>\n",
       "      <td>2.0</td>\n",
       "      <td>4.0</td>\n",
       "      <td>[[], []]</td>\n",
       "      <td>/Restaurant_Review-g187147-d10746918-Reviews-L...</td>\n",
       "      <td>10746918</td>\n",
       "      <td>0</td>\n",
       "      <td>0.0</td>\n",
       "      <td>0</td>\n",
       "      <td>0</td>\n",
       "    </tr>\n",
       "    <tr>\n",
       "      <th>1</th>\n",
       "      <td>1.0</td>\n",
       "      <td>Helsinki</td>\n",
       "      <td>['European', 'Scandinavian', 'Gluten Free Opti...</td>\n",
       "      <td>106.0</td>\n",
       "      <td>2.0</td>\n",
       "      <td>97.0</td>\n",
       "      <td>[['Very good reviews!', 'Fine dining in Hakani...</td>\n",
       "      <td>/Restaurant_Review-g189934-d6674944-Reviews-Ra...</td>\n",
       "      <td>6674944</td>\n",
       "      <td>0</td>\n",
       "      <td>0.0</td>\n",
       "      <td>0</td>\n",
       "      <td>0</td>\n",
       "    </tr>\n",
       "    <tr>\n",
       "      <th>2</th>\n",
       "      <td>2.0</td>\n",
       "      <td>Edinburgh</td>\n",
       "      <td>['Vegetarian Friendly']</td>\n",
       "      <td>810.0</td>\n",
       "      <td>2.0</td>\n",
       "      <td>28.0</td>\n",
       "      <td>[['Better than the Links', 'Ivy Black'], ['12/...</td>\n",
       "      <td>/Restaurant_Review-g186525-d13129638-Reviews-B...</td>\n",
       "      <td>13129638</td>\n",
       "      <td>0</td>\n",
       "      <td>0.0</td>\n",
       "      <td>0</td>\n",
       "      <td>0</td>\n",
       "    </tr>\n",
       "    <tr>\n",
       "      <th>3</th>\n",
       "      <td>3.0</td>\n",
       "      <td>London</td>\n",
       "      <td>['Italian', 'Mediterranean', 'European', 'Vege...</td>\n",
       "      <td>1669.0</td>\n",
       "      <td>3.0</td>\n",
       "      <td>202.0</td>\n",
       "      <td>[['Most exquisite', 'Delicious and authentic']...</td>\n",
       "      <td>/Restaurant_Review-g186338-d680417-Reviews-Qui...</td>\n",
       "      <td>680417</td>\n",
       "      <td>0</td>\n",
       "      <td>0.0</td>\n",
       "      <td>0</td>\n",
       "      <td>0</td>\n",
       "    </tr>\n",
       "    <tr>\n",
       "      <th>4</th>\n",
       "      <td>4.0</td>\n",
       "      <td>Bratislava</td>\n",
       "      <td>['Italian', 'Mediterranean', 'European', 'Seaf...</td>\n",
       "      <td>37.0</td>\n",
       "      <td>3.0</td>\n",
       "      <td>162.0</td>\n",
       "      <td>[['Always the best in bratislava', 'Very good ...</td>\n",
       "      <td>/Restaurant_Review-g274924-d1112354-Reviews-Ma...</td>\n",
       "      <td>1112354</td>\n",
       "      <td>0</td>\n",
       "      <td>0.0</td>\n",
       "      <td>0</td>\n",
       "      <td>0</td>\n",
       "    </tr>\n",
       "    <tr>\n",
       "      <th>5</th>\n",
       "      <td>5.0</td>\n",
       "      <td>Paris</td>\n",
       "      <td>['French', 'Cafe', 'Fast Food']</td>\n",
       "      <td>5093.0</td>\n",
       "      <td>1.0</td>\n",
       "      <td>24.0</td>\n",
       "      <td>[['Lunch Break', 'Good to Quick Bite'], ['09/0...</td>\n",
       "      <td>/Restaurant_Review-g187147-d8458643-Reviews-Le...</td>\n",
       "      <td>8458643</td>\n",
       "      <td>0</td>\n",
       "      <td>0.0</td>\n",
       "      <td>0</td>\n",
       "      <td>0</td>\n",
       "    </tr>\n",
       "  </tbody>\n",
       "</table>\n",
       "</div>"
      ],
      "text/plain": [
       "   rest_id        city                                      cuisine_style  \\\n",
       "0      0.0       Paris                                     ['Bar', 'Pub']   \n",
       "1      1.0    Helsinki  ['European', 'Scandinavian', 'Gluten Free Opti...   \n",
       "2      2.0   Edinburgh                            ['Vegetarian Friendly']   \n",
       "3      3.0      London  ['Italian', 'Mediterranean', 'European', 'Vege...   \n",
       "4      4.0  Bratislava  ['Italian', 'Mediterranean', 'European', 'Seaf...   \n",
       "5      5.0       Paris                    ['French', 'Cafe', 'Fast Food']   \n",
       "\n",
       "   ranking  price_range  number_of_rev  \\\n",
       "0  12963.0          2.0            4.0   \n",
       "1    106.0          2.0           97.0   \n",
       "2    810.0          2.0           28.0   \n",
       "3   1669.0          3.0          202.0   \n",
       "4     37.0          3.0          162.0   \n",
       "5   5093.0          1.0           24.0   \n",
       "\n",
       "                                             reviews  \\\n",
       "0                                           [[], []]   \n",
       "1  [['Very good reviews!', 'Fine dining in Hakani...   \n",
       "2  [['Better than the Links', 'Ivy Black'], ['12/...   \n",
       "3  [['Most exquisite', 'Delicious and authentic']...   \n",
       "4  [['Always the best in bratislava', 'Very good ...   \n",
       "5  [['Lunch Break', 'Good to Quick Bite'], ['09/0...   \n",
       "\n",
       "                                              url_ta     id_ta  sample  \\\n",
       "0  /Restaurant_Review-g187147-d10746918-Reviews-L...  10746918       0   \n",
       "1  /Restaurant_Review-g189934-d6674944-Reviews-Ra...   6674944       0   \n",
       "2  /Restaurant_Review-g186525-d13129638-Reviews-B...  13129638       0   \n",
       "3  /Restaurant_Review-g186338-d680417-Reviews-Qui...    680417       0   \n",
       "4  /Restaurant_Review-g274924-d1112354-Reviews-Ma...   1112354       0   \n",
       "5  /Restaurant_Review-g187147-d8458643-Reviews-Le...   8458643       0   \n",
       "\n",
       "   rating  number_of_rev_is_NAN  price_range_is_NAN  \n",
       "0     0.0                     0                   0  \n",
       "1     0.0                     0                   0  \n",
       "2     0.0                     0                   0  \n",
       "3     0.0                     0                   0  \n",
       "4     0.0                     0                   0  \n",
       "5     0.0                     0                   0  "
      ]
     },
     "execution_count": 51,
     "metadata": {},
     "output_type": "execute_result"
    }
   ],
   "source": [
    "data.loc[data.url_ta[0]:5]"
   ]
  },
  {
   "cell_type": "code",
   "execution_count": 52,
   "metadata": {
    "scrolled": true
   },
   "outputs": [
    {
     "data": {
      "text/plain": [
       "'/Restaurant_Review-g187147-d10746918-Reviews-Le_Perchoir-Paris_Ile_de_France.html'"
      ]
     },
     "execution_count": 52,
     "metadata": {},
     "output_type": "execute_result"
    }
   ],
   "source": [
    "data.url_ta[0]"
   ]
  },
  {
   "cell_type": "code",
   "execution_count": 53,
   "metadata": {
    "scrolled": false
   },
   "outputs": [
    {
     "data": {
      "text/plain": [
       "'/Restaurant_Review-g189934-d6674944-Reviews-Ravintola_Kolmon3n-Helsinki_Uusimaa.html'"
      ]
     },
     "execution_count": 53,
     "metadata": {},
     "output_type": "execute_result"
    }
   ],
   "source": [
    "data.url_ta[1]"
   ]
  },
  {
   "cell_type": "markdown",
   "metadata": {},
   "source": [
    "Мы видим, что url ресторана состоит из двух закодированных величин. Первая, судя по совпадениям, означает город, вторая совпадает с id_ta. Парсинг данных мы в данной задаче мы не используем. \n",
    "Давайте отделим код города."
   ]
  },
  {
   "cell_type": "code",
   "execution_count": 54,
   "metadata": {},
   "outputs": [],
   "source": [
    "data.url_ta = data.url_ta.apply(lambda x: x[20:26])"
   ]
  },
  {
   "cell_type": "code",
   "execution_count": 55,
   "metadata": {},
   "outputs": [],
   "source": [
    "data.url_ta = data.url_ta.apply(lambda x: float(x))"
   ]
  },
  {
   "cell_type": "code",
   "execution_count": 56,
   "metadata": {},
   "outputs": [
    {
     "data": {
      "text/plain": [
       "189934.0"
      ]
     },
     "execution_count": 56,
     "metadata": {},
     "output_type": "execute_result"
    }
   ],
   "source": [
    "data.url_ta[1]"
   ]
  },
  {
   "cell_type": "markdown",
   "metadata": {},
   "source": [
    "У нас осталось еще два признака, которые мы не трогали - стиль кухни и сами отзывы. Так как это текстовые объекты, а нам для модели необходимы числовые, то данные признаки сами по себе мы обработать не можем, но можем на их основе создать новые числовые, чем и займемся."
   ]
  },
  {
   "cell_type": "markdown",
   "metadata": {},
   "source": [
    "## Feature Engineering"
   ]
  },
  {
   "cell_type": "markdown",
   "metadata": {},
   "source": [
    "### ['cuisine_style']"
   ]
  },
  {
   "cell_type": "code",
   "execution_count": 57,
   "metadata": {},
   "outputs": [
    {
     "data": {
      "text/plain": [
       "str"
      ]
     },
     "execution_count": 57,
     "metadata": {},
     "output_type": "execute_result"
    }
   ],
   "source": [
    "type(data.cuisine_style[0])"
   ]
  },
  {
   "cell_type": "code",
   "execution_count": 58,
   "metadata": {},
   "outputs": [
    {
     "data": {
      "text/plain": [
       "11590"
      ]
     },
     "execution_count": 58,
     "metadata": {},
     "output_type": "execute_result"
    }
   ],
   "source": [
    "data.cuisine_style.isnull().sum()"
   ]
  },
  {
   "cell_type": "markdown",
   "metadata": {},
   "source": [
    "У нас 11590 пустых значений. Давайте вынесем их в отдельный признак. Предположим, что ресторан и сам не определился со стилем кухни, поэтому ничего не указывает. И может это будет полезно для модели."
   ]
  },
  {
   "cell_type": "code",
   "execution_count": 59,
   "metadata": {},
   "outputs": [],
   "source": [
    "data['cuisine_style_is_NAN'] = pd.isna(data.cuisine_style).astype('uint8')"
   ]
  },
  {
   "cell_type": "code",
   "execution_count": 60,
   "metadata": {},
   "outputs": [],
   "source": [
    "# Пустые значения заполним категорией Other.\n",
    "\n",
    "data.cuisine_style = data.cuisine_style.fillna(\"['Other']\")"
   ]
  },
  {
   "cell_type": "code",
   "execution_count": 61,
   "metadata": {},
   "outputs": [],
   "source": [
    "# переформатируем строку в список\n",
    "\n",
    "data.cuisine_style = data.cuisine_style.apply(lambda x: eval(x))"
   ]
  },
  {
   "cell_type": "markdown",
   "metadata": {},
   "source": [
    "Добавим признак кол-ва кухонь в ресторане."
   ]
  },
  {
   "cell_type": "code",
   "execution_count": 62,
   "metadata": {},
   "outputs": [],
   "source": [
    "data['number_of_cuisines'] = data.cuisine_style.apply(lambda x: len(x))"
   ]
  },
  {
   "cell_type": "markdown",
   "metadata": {},
   "source": [
    "Посмтрим, какие кухни у нас чаще всего встречаются, а какие наоборот являются самыми редкими."
   ]
  },
  {
   "cell_type": "code",
   "execution_count": 63,
   "metadata": {},
   "outputs": [],
   "source": [
    "group_city_cuisine = data.groupby(['city'])['cuisine_style'].sum().reset_index()"
   ]
  },
  {
   "cell_type": "markdown",
   "metadata": {},
   "source": [
    "Посчитаем кол-во уникальных кухонь, используя счетчик. Посмотрим, какие кухни входят топ-10, как самые часто встречающиеся и как самые редко встречающиеся."
   ]
  },
  {
   "cell_type": "code",
   "execution_count": 64,
   "metadata": {},
   "outputs": [
    {
     "name": "stdout",
     "output_type": "stream",
     "text": [
      "[('Vegetarian Friendly', 14021), ('European', 12561), ('Other', 11590), ('Mediterranean', 7820), ('Italian', 7433), ('Vegan Options', 5684), ('Gluten Free Options', 5185), ('Bar', 4094), ('French', 3970), ('Asian', 3786)]\n",
      "\n",
      "[('Caucasian', 4), ('Azerbaijani', 3), ('Welsh', 3), ('Yunnan', 2), ('Polynesian', 2), ('Fujian', 2), ('Latvian', 1), ('Burmese', 1), ('Salvadoran', 1), ('Xinjiang', 1)]\n"
     ]
    }
   ],
   "source": [
    "c = collections.Counter()\n",
    "\n",
    "for cuisine_style in group_city_cuisine.cuisine_style:\n",
    "    for x in cuisine_style:\n",
    "        c[x] += 1\n",
    "\n",
    "print(c.most_common(10))\n",
    "print()\n",
    "print(c.most_common()[-10:])"
   ]
  },
  {
   "cell_type": "markdown",
   "metadata": {},
   "source": [
    "Добавим признак, имеет ли ресторан кухню, входящую в топ-10 по популярности и по редкости."
   ]
  },
  {
   "cell_type": "code",
   "execution_count": 65,
   "metadata": {},
   "outputs": [],
   "source": [
    "# сначала признак самых часто встречающихся кухонь\n",
    "\n",
    "top_10_cuisine = []\n",
    "top_10_cuisine = data.explode('cuisine_style')['cuisine_style'].value_counts()[\n",
    "    data.explode('cuisine_style')['cuisine_style'].value_counts() >= 3786].index.tolist()"
   ]
  },
  {
   "cell_type": "code",
   "execution_count": 66,
   "metadata": {},
   "outputs": [],
   "source": [
    "def most_common_cuisines(column):\n",
    "    x = 0\n",
    "    for i in top_10_cuisine:\n",
    "        if i in column:\n",
    "            x += 1\n",
    "    return x\n",
    "\n",
    "data['most_common_cuisine'] = data.cuisine_style.apply(most_common_cuisines)"
   ]
  },
  {
   "cell_type": "code",
   "execution_count": 67,
   "metadata": {},
   "outputs": [],
   "source": [
    "# теперь самые редкие\n",
    "\n",
    "top_unique_cuisine = []\n",
    "top_unique_cuisine = data.explode('cuisine_style')['cuisine_style'].value_counts()[\n",
    "    data.explode('cuisine_style')['cuisine_style'].value_counts() <= 4].index.tolist()"
   ]
  },
  {
   "cell_type": "code",
   "execution_count": 68,
   "metadata": {},
   "outputs": [],
   "source": [
    "def top_unique_cuisines(column):\n",
    "    x = 0\n",
    "    for i in top_unique_cuisine:\n",
    "        if i in column:\n",
    "            x += 1\n",
    "    return x\n",
    "\n",
    "data['top_unique_cuisine'] = data.cuisine_style.apply(top_unique_cuisines)"
   ]
  },
  {
   "cell_type": "markdown",
   "metadata": {},
   "source": [
    "Пока идем дальше, возможно, дальше еще какую-нибудь информацию сможем получить из признака кухонь."
   ]
  },
  {
   "cell_type": "markdown",
   "metadata": {},
   "source": [
    "### ['reviews']"
   ]
  },
  {
   "cell_type": "code",
   "execution_count": 69,
   "metadata": {},
   "outputs": [
    {
     "data": {
      "text/plain": [
       "2"
      ]
     },
     "execution_count": 69,
     "metadata": {},
     "output_type": "execute_result"
    }
   ],
   "source": [
    "data.reviews.isnull().sum()"
   ]
  },
  {
   "cell_type": "code",
   "execution_count": 70,
   "metadata": {},
   "outputs": [
    {
     "data": {
      "text/plain": [
       "[[], []]                                                                                                              8112\n",
       "[['Nice restaurant in Madrid', 'Highly reccomended'], ['11/10/2017', '05/21/2017']]                                      2\n",
       "[['Delicious'], ['06/06/2017']]                                                                                          2\n",
       "[['Good service and clean', 'Chinese fusion cuisine - ok to try if you...'], ['11/21/2017', '05/23/2017']]               2\n",
       "[['Happened to drop in', 'Right for a quick bite'], ['11/30/2016', '06/20/2015']]                                        2\n",
       "                                                                                                                      ... \n",
       "[['nice place, good food and frendly service', 'Fine Chinese Food'], ['08/30/2014', '08/14/2014']]                       1\n",
       "[['Christmas Lunch', 'Amazing food and ambience'], ['12/25/2017', '12/12/2017']]                                         1\n",
       "[['Wonderful local roman variety of pizza, pi...', 'I have no idea what I ordered'], ['09/30/2017', '09/20/2017']]       1\n",
       "[['Always great', 'Midnight steak'], ['08/11/2017', '12/07/2016']]                                                       1\n",
       "[['Could Be The Best Chippie In The UK But...', 'YAS ANGIE YOU QUEEN'], ['06/29/2017', '09/17/2017']]                    1\n",
       "Name: reviews, Length: 41857, dtype: int64"
      ]
     },
     "execution_count": 70,
     "metadata": {},
     "output_type": "execute_result"
    }
   ],
   "source": [
    "data.reviews.value_counts()"
   ]
  },
  {
   "cell_type": "markdown",
   "metadata": {},
   "source": [
    "Итак, мы видим, что данный признак состоит из текстового отзыва и даты. У нас есть два пропуска явных и 8112 пропусков не явных, не имеющих внутри ничего кроме скобок. Отсутствие отзыва может быть важным для модели. Поэтому давайте вынесем все отзывы в отдельных признак."
   ]
  },
  {
   "cell_type": "code",
   "execution_count": 71,
   "metadata": {},
   "outputs": [],
   "source": [
    "data['review_is_NAN'] = (data.reviews == '[[], []]').astype('uint8')"
   ]
  },
  {
   "cell_type": "code",
   "execution_count": 72,
   "metadata": {},
   "outputs": [],
   "source": [
    "data['review_is_NAN'] = pd.isna(data.reviews).astype('uint8')"
   ]
  },
  {
   "cell_type": "markdown",
   "metadata": {},
   "source": [
    "Отделим дату от отзыва и посмотрим, какую информацию мы можем получить из даты."
   ]
  },
  {
   "cell_type": "code",
   "execution_count": 73,
   "metadata": {},
   "outputs": [],
   "source": [
    "data['date_of_review'] = data['reviews'].apply(\n",
    "    lambda x: [0] if pd.isna(x) else x[2:-2].split('], [')[1][1:-1].split(\"', '\"))"
   ]
  },
  {
   "cell_type": "markdown",
   "metadata": {},
   "source": [
    "Добавим признак кол-ва дней между отзывами."
   ]
  },
  {
   "cell_type": "code",
   "execution_count": 74,
   "metadata": {},
   "outputs": [],
   "source": [
    "data['days_between_reviews'] = data.date_of_review.apply(lambda x: None if x == [] else pd.to_datetime(x).max() - pd.to_datetime(x).min())"
   ]
  },
  {
   "cell_type": "code",
   "execution_count": 75,
   "metadata": {
    "scrolled": true
   },
   "outputs": [
    {
     "data": {
      "text/plain": [
       "count                       41888\n",
       "mean     123 days 05:05:55.462184\n",
       "std      212 days 14:08:22.315988\n",
       "min               0 days 00:00:00\n",
       "25%               8 days 00:00:00\n",
       "50%              49 days 00:00:00\n",
       "75%             148 days 00:00:00\n",
       "max            3296 days 00:00:00\n",
       "Name: days_between_reviews, dtype: object"
      ]
     },
     "execution_count": 75,
     "metadata": {},
     "output_type": "execute_result"
    }
   ],
   "source": [
    "# посмторим на показатели\n",
    "\n",
    "data.days_between_reviews.describe()"
   ]
  },
  {
   "cell_type": "markdown",
   "metadata": {},
   "source": [
    "У нас есть максимальное значение в 3296 дней. Давайте переведем значения в числа и посмотрим выбросы. "
   ]
  },
  {
   "cell_type": "code",
   "execution_count": 76,
   "metadata": {},
   "outputs": [],
   "source": [
    "data['days_between_reviews'] = data['days_between_reviews'].apply(lambda x: x.days)"
   ]
  },
  {
   "cell_type": "code",
   "execution_count": 77,
   "metadata": {},
   "outputs": [
    {
     "name": "stdout",
     "output_type": "stream",
     "text": [
      "Q1: 8.0\n",
      "Q3: 148.0\n",
      "IQR: 140.0\n",
      "Граница выбросов: [-202.0,358.0]\n"
     ]
    }
   ],
   "source": [
    "# посмотрим выбросы\n",
    "\n",
    "find_IQR('days_between_reviews')"
   ]
  },
  {
   "cell_type": "code",
   "execution_count": 78,
   "metadata": {},
   "outputs": [
    {
     "data": {
      "text/plain": [
       "3492"
      ]
     },
     "execution_count": 78,
     "metadata": {},
     "output_type": "execute_result"
    }
   ],
   "source": [
    "len(data.query('days_between_reviews > 358'))"
   ]
  },
  {
   "cell_type": "code",
   "execution_count": 79,
   "metadata": {},
   "outputs": [
    {
     "data": {
      "text/plain": [
       "<matplotlib.axes._subplots.AxesSubplot at 0x125131040>"
      ]
     },
     "execution_count": 79,
     "metadata": {},
     "output_type": "execute_result"
    },
    {
     "data": {
      "image/png": "[encoded data removed]",
      "text/plain": [
       "<Figure size 432x288 with 1 Axes>"
      ]
     },
     "metadata": {
      "needs_background": "light"
     },
     "output_type": "display_data"
    }
   ],
   "source": [
    "data.days_between_reviews.hist(bins=100)"
   ]
  },
  {
   "cell_type": "markdown",
   "metadata": {},
   "source": [
    "По выбросам мы видим, что хвост тянется непрерывно до 1200. Давайте посмотрим, сколько у нас таких значений и сгладим выбросы."
   ]
  },
  {
   "cell_type": "code",
   "execution_count": 80,
   "metadata": {},
   "outputs": [
    {
     "data": {
      "text/plain": [
       "285"
      ]
     },
     "execution_count": 80,
     "metadata": {},
     "output_type": "execute_result"
    }
   ],
   "source": [
    "len(data.query('days_between_reviews > 1200'))"
   ]
  },
  {
   "cell_type": "code",
   "execution_count": 81,
   "metadata": {},
   "outputs": [],
   "source": [
    "data.days_between_reviews = data.days_between_reviews.apply(lambda x: 1200 if x > 1200 else x)"
   ]
  },
  {
   "cell_type": "code",
   "execution_count": 82,
   "metadata": {},
   "outputs": [
    {
     "data": {
      "text/plain": [
       "8112"
      ]
     },
     "execution_count": 82,
     "metadata": {},
     "output_type": "execute_result"
    }
   ],
   "source": [
    "data.days_between_reviews.isnull().sum()"
   ]
  },
  {
   "cell_type": "markdown",
   "metadata": {},
   "source": [
    "Пропусков много, заполним пропуски медианой."
   ]
  },
  {
   "cell_type": "code",
   "execution_count": 83,
   "metadata": {},
   "outputs": [
    {
     "data": {
      "text/plain": [
       "count    41888.000000\n",
       "mean       120.315651\n",
       "std        190.546256\n",
       "min          0.000000\n",
       "25%          8.000000\n",
       "50%         49.000000\n",
       "75%        148.000000\n",
       "max       1200.000000\n",
       "Name: days_between_reviews, dtype: float64"
      ]
     },
     "execution_count": 83,
     "metadata": {},
     "output_type": "execute_result"
    }
   ],
   "source": [
    "data.days_between_reviews.describe()"
   ]
  },
  {
   "cell_type": "code",
   "execution_count": 84,
   "metadata": {},
   "outputs": [],
   "source": [
    "data.days_between_reviews = data.days_between_reviews.fillna(data.days_between_reviews.median())"
   ]
  },
  {
   "cell_type": "code",
   "execution_count": 85,
   "metadata": {},
   "outputs": [
    {
     "data": {
      "text/plain": [
       "0"
      ]
     },
     "execution_count": 85,
     "metadata": {},
     "output_type": "execute_result"
    }
   ],
   "source": [
    "# проверяем\n",
    "\n",
    "data.days_between_reviews.isnull().sum()"
   ]
  },
  {
   "cell_type": "markdown",
   "metadata": {},
   "source": [
    "Добавим еще один признак - кол-во дней с последнего отзыва до настоящего момента."
   ]
  },
  {
   "cell_type": "code",
   "execution_count": 86,
   "metadata": {},
   "outputs": [],
   "source": [
    "data['days_tillnow'] = data.date_of_review.apply(\n",
    "    lambda x: None if x == [] else datetime.now() - pd.to_datetime(x).max())"
   ]
  },
  {
   "cell_type": "code",
   "execution_count": 87,
   "metadata": {},
   "outputs": [],
   "source": [
    "data['days_tillnow'] = data['days_tillnow'].apply(lambda x: x.days)"
   ]
  },
  {
   "cell_type": "code",
   "execution_count": 88,
   "metadata": {},
   "outputs": [
    {
     "data": {
      "text/plain": [
       "8112"
      ]
     },
     "execution_count": 88,
     "metadata": {},
     "output_type": "execute_result"
    }
   ],
   "source": [
    "data.days_tillnow.isnull().sum()"
   ]
  },
  {
   "cell_type": "code",
   "execution_count": 89,
   "metadata": {},
   "outputs": [
    {
     "data": {
      "text/plain": [
       "count    41888.000000\n",
       "mean      1363.871276\n",
       "std        382.403027\n",
       "min       1073.000000\n",
       "25%       1152.000000\n",
       "50%       1226.500000\n",
       "75%       1410.000000\n",
       "max      18661.000000\n",
       "Name: days_tillnow, dtype: float64"
      ]
     },
     "execution_count": 89,
     "metadata": {},
     "output_type": "execute_result"
    }
   ],
   "source": [
    "data.days_tillnow.describe()"
   ]
  },
  {
   "cell_type": "markdown",
   "metadata": {},
   "source": [
    "Заменим пропуски на среднее."
   ]
  },
  {
   "cell_type": "code",
   "execution_count": 90,
   "metadata": {},
   "outputs": [],
   "source": [
    "data.days_tillnow = data.days_tillnow.fillna(data.days_tillnow.mean())"
   ]
  },
  {
   "cell_type": "markdown",
   "metadata": {},
   "source": [
    "### Посмотрим распределение признаков"
   ]
  },
  {
   "cell_type": "code",
   "execution_count": 91,
   "metadata": {},
   "outputs": [
    {
     "data": {
      "text/plain": [
       "<matplotlib.axes._subplots.AxesSubplot at 0x129af5940>"
      ]
     },
     "execution_count": 91,
     "metadata": {},
     "output_type": "execute_result"
    },
    {
     "data": {
      "image/png": "[encoded data removed]",
      "text/plain": [
       "<Figure size 720x504 with 1 Axes>"
      ]
     },
     "metadata": {
      "needs_background": "light"
     },
     "output_type": "display_data"
    }
   ],
   "source": [
    "plt.rcParams['figure.figsize'] = (10,7)\n",
    "data['ranking'].hist(bins=100)"
   ]
  },
  {
   "cell_type": "code",
   "execution_count": 92,
   "metadata": {},
   "outputs": [
    {
     "data": {
      "text/plain": [
       "<matplotlib.axes._subplots.AxesSubplot at 0x1262808b0>"
      ]
     },
     "execution_count": 92,
     "metadata": {},
     "output_type": "execute_result"
    },
    {
     "data": {
      "image/png": "[encoded data removed]",
      "text/plain": [
       "<Figure size 720x504 with 1 Axes>"
      ]
     },
     "metadata": {
      "needs_background": "light"
     },
     "output_type": "display_data"
    }
   ],
   "source": [
    "data['city'].value_counts(ascending=True).plot(kind='barh')"
   ]
  },
  {
   "cell_type": "code",
   "execution_count": 93,
   "metadata": {},
   "outputs": [
    {
     "data": {
      "text/plain": [
       "<matplotlib.axes._subplots.AxesSubplot at 0x125211c70>"
      ]
     },
     "execution_count": 93,
     "metadata": {},
     "output_type": "execute_result"
    },
    {
     "data": {
      "image/png": "[encoded data removed]",
      "text/plain": [
       "<Figure size 720x504 with 1 Axes>"
      ]
     },
     "metadata": {
      "needs_background": "light"
     },
     "output_type": "display_data"
    }
   ],
   "source": [
    "data['ranking'][data['city'] =='London'].hist(bins=100)"
   ]
  },
  {
   "cell_type": "code",
   "execution_count": 94,
   "metadata": {},
   "outputs": [
    {
     "data": {
      "image/png": "[encoded data removed]",
      "text/plain": [
       "<Figure size 720x504 with 1 Axes>"
      ]
     },
     "metadata": {
      "needs_background": "light"
     },
     "output_type": "display_data"
    }
   ],
   "source": [
    "# посмотрим на топ 10 городов\n",
    "for x in (data['city'].value_counts())[0:10].index:\n",
    "    data['ranking'][data['city'] == x].hist(bins=100)\n",
    "plt.show()"
   ]
  },
  {
   "cell_type": "markdown",
   "metadata": {},
   "source": [
    "Получается, что Ranking имеет нормальное распределение, просто в больших городах больше ресторанов, из-за мы этого имеем смещение."
   ]
  },
  {
   "cell_type": "code",
   "execution_count": 95,
   "metadata": {},
   "outputs": [
    {
     "data": {
      "text/plain": [
       "<matplotlib.axes._subplots.AxesSubplot at 0x10ec71e80>"
      ]
     },
     "execution_count": 95,
     "metadata": {},
     "output_type": "execute_result"
    },
    {
     "data": {
      "image/png": "[encoded data removed]",
      "text/plain": [
       "<Figure size 1080x720 with 2 Axes>"
      ]
     },
     "metadata": {
      "needs_background": "light"
     },
     "output_type": "display_data"
    }
   ],
   "source": [
    "plt.rcParams['figure.figsize'] = (15,10)\n",
    "sns.heatmap(data.drop(['sample'], axis=1).corr(),)"
   ]
  },
  {
   "cell_type": "markdown",
   "metadata": {},
   "source": [
    "Добавим несколько признаков, которые могут улучшить работу нашей модели."
   ]
  },
  {
   "cell_type": "code",
   "execution_count": 96,
   "metadata": {},
   "outputs": [],
   "source": [
    "# признак население (по информации из Википедии)\n",
    "\n",
    "population = {\n",
    "    'London' : 8909081,\n",
    "    'Paris' : 2148271,\n",
    "    'Madrid' : 3223334,\n",
    "    'Barcelona' : 1620343,\n",
    "    'Berlin' : 3769495,\n",
    "    'Milan' : 1399860,\n",
    "    'Rome' : 2860009,\n",
    "    'Prague' : 1324277,\n",
    "    'Lisbon' : 505526,\n",
    "    'Vienna' : 2600000,\n",
    "    'Amsterdam' : 872680,\n",
    "    'Brussels' : 1208542,\n",
    "    'Hamburg' : 1845229,\n",
    "    'Munich' : 1484226,\n",
    "    'Lyon' : 516092,\n",
    "    'Stockholm' : 975904,\n",
    "    'Budapest' : 1752286,\n",
    "    'Warsaw' : 1793579,\n",
    "    'Dublin' : 554554,\n",
    "    'Copenhagen' : 794128,\n",
    "    'Athens' : 664046,\n",
    "    'Edinburgh' : 488050, \n",
    "    'Zurich' : 415215,\n",
    "    'Oporto' : 287591,\n",
    "    'Geneva' : 201818, \n",
    "    'Krakow' : 779115, \n",
    "    'Oslo' : 697549, \n",
    "    'Helsinki' : 656229,\n",
    "    'Bratislava' : 437726,\n",
    "    'Luxembourg' : 626108,\n",
    "    'Ljubljana' : 295504\n",
    "}\n",
    "\n",
    "data['population'] = data.city.map(population)"
   ]
  },
  {
   "cell_type": "code",
   "execution_count": 97,
   "metadata": {},
   "outputs": [],
   "source": [
    "# Признак - индекс покупательской способности согласно рейтингу Numbeo (2018)\n",
    "\n",
    "purchasing_power_index = {\n",
    "    'London' : 24,\n",
    "    'Paris' : 22,\n",
    "    'Madrid' : 23,\n",
    "    'Barcelona' : 30,\n",
    "    'Berlin' : 8,\n",
    "    'Milan' : 40,\n",
    "    'Rome' : 37,\n",
    "    'Prague' : 31,\n",
    "    'Lisbon' : 48,\n",
    "    'Vienna' : 21,\n",
    "    'Amsterdam' : 19,\n",
    "    'Brussels' : 15,\n",
    "    'Hamburg' : 7,\n",
    "    'Munich' : 6,\n",
    "    'Lyon' : 70,\n",
    "    'Stockholm' : 13,\n",
    "    'Budapest' : 51,\n",
    "    'Warsaw' : 29,\n",
    "    'Dublin' : 27,\n",
    "    'Copenhagen' : 10,\n",
    "    'Athens' : 53,\n",
    "    'Edinburgh' : 16, \n",
    "    'Zurich' : 2,\n",
    "    'Oporto' : 42,\n",
    "    'Geneva' : 3, \n",
    "    'Krakow' : 36, \n",
    "    'Oslo' : 17, \n",
    "    'Helsinki' : 9,\n",
    "    'Bratislava' : 39,\n",
    "    'Luxembourg' : 4,\n",
    "    'Ljubljana' : 32\n",
    "}\n",
    "\n",
    "data['purchasing_power'] = data.city.map(purchasing_power_index)"
   ]
  },
  {
   "cell_type": "code",
   "execution_count": 98,
   "metadata": {},
   "outputs": [],
   "source": [
    "# Признак - является ли город столицей (1 - да, 0 - нет)\n",
    "\n",
    "capital = ['London', 'Paris', 'Madrid', 'Berlin', 'Rome', 'Prague',\n",
    "          'Lisbon', 'Vienna', 'Amsterdam', 'Brussels', 'Stockholm',\n",
    "          'Budapest', 'Warsaw', 'Dublin', 'Copenhagen', 'Athens',\n",
    "          'Edinburgh', 'Oslo', 'Helsinki', 'Bratislava',\n",
    "          'Luxembourg', 'Ljubljana']\n",
    "data['is_capital'] = data.city.apply(lambda x: 1 if x in capital else 0)"
   ]
  },
  {
   "cell_type": "code",
   "execution_count": 99,
   "metadata": {},
   "outputs": [],
   "source": [
    "# Добавим признак кол-ва ресторанов в городе\n",
    "\n",
    "number_of_rest_city = data.groupby('city')['ranking'].count().to_dict()\n",
    "data['rest_city_count'] = data.city.map(number_of_rest_city)"
   ]
  },
  {
   "cell_type": "code",
   "execution_count": 100,
   "metadata": {},
   "outputs": [],
   "source": [
    "# Добавим признак относительного ранга ресторана по городу\n",
    "\n",
    "data['city_ranking'] = data.ranking / data.rest_city_count"
   ]
  },
  {
   "cell_type": "markdown",
   "metadata": {},
   "source": [
    "С городами пока все. Идем дальше. Повизуализируем еще."
   ]
  },
  {
   "cell_type": "code",
   "execution_count": 101,
   "metadata": {},
   "outputs": [
    {
     "data": {
      "text/plain": [
       "<seaborn.axisgrid.JointGrid at 0x12629b700>"
      ]
     },
     "execution_count": 101,
     "metadata": {},
     "output_type": "execute_result"
    },
    {
     "data": {
      "image/png": "[encoded data removed]",
      "text/plain": [
       "<Figure size 432x432 with 3 Axes>"
      ]
     },
     "metadata": {
      "needs_background": "light"
     },
     "output_type": "display_data"
    }
   ],
   "source": [
    "sns.jointplot(x = 'ranking', y = 'number_of_rev', data = data, kind = 'reg')"
   ]
  },
  {
   "cell_type": "code",
   "execution_count": 102,
   "metadata": {
    "scrolled": false
   },
   "outputs": [
    {
     "data": {
      "text/plain": [
       "<matplotlib.axes._subplots.AxesSubplot at 0x12bc18580>"
      ]
     },
     "execution_count": 102,
     "metadata": {},
     "output_type": "execute_result"
    },
    {
     "data": {
      "image/png": "[encoded data removed]",
      "text/plain": [
       "<Figure size 1080x720 with 2 Axes>"
      ]
     },
     "metadata": {
      "needs_background": "light"
     },
     "output_type": "display_data"
    }
   ],
   "source": [
    "plt.rcParams['figure.figsize'] = (15,10)\n",
    "sns.heatmap(data.drop(['sample'], axis=1).corr(),)"
   ]
  },
  {
   "cell_type": "markdown",
   "metadata": {},
   "source": [
    "Добавим следующие признаки:\n",
    "- ранг ресторана на основании кол-ва отзывов\n",
    "- соотношение кол-ва отзывов и населения города"
   ]
  },
  {
   "cell_type": "code",
   "execution_count": 103,
   "metadata": {},
   "outputs": [],
   "source": [
    "# ранг ресторана на основании кол-ва отзывов\n",
    "\n",
    "data['ranking_rev_count'] = data.ranking * data.number_of_rev"
   ]
  },
  {
   "cell_type": "code",
   "execution_count": 104,
   "metadata": {},
   "outputs": [],
   "source": [
    "# соотношение кол-ва отзывов и населения города\n",
    "\n",
    "data['reviews_per_city_pop'] = data.number_of_rev / data.population"
   ]
  },
  {
   "cell_type": "code",
   "execution_count": 105,
   "metadata": {},
   "outputs": [],
   "source": [
    "# Признак среднее кол-во отзывов в городе\n",
    "\n",
    "mean_rev_per_city = data.groupby('city')['number_of_rev'].mean()\n",
    "mean_rev_per_city = mean_rev_per_city.apply(lambda x: round(x, 2))\n",
    "data['mean_rev_per_city'] = data.city.map(mean_rev_per_city)"
   ]
  },
  {
   "cell_type": "code",
   "execution_count": 106,
   "metadata": {
    "scrolled": false
   },
   "outputs": [
    {
     "data": {
      "image/png": "[encoded data removed]",
      "text/plain": [
       "<Figure size 1440x720 with 2 Axes>"
      ]
     },
     "metadata": {
      "needs_background": "light"
     },
     "output_type": "display_data"
    }
   ],
   "source": [
    "fig, ax = plt.subplots(1,1, figsize = (20,10))\n",
    "ax = sns.heatmap(data.corr(),annot = True, cmap = 'coolwarm')"
   ]
  },
  {
   "cell_type": "code",
   "execution_count": 107,
   "metadata": {},
   "outputs": [],
   "source": [
    "# Добавим признак туристическая привлекательность.\n",
    "# Место города в рейтинге топ-100 городов посещения в 2018 году (так как датасет устаревший)\n",
    "# Источник - Euromonitor international\n",
    "\n",
    "# Так как не все города входят в топ-100, то города делим на группы:\n",
    "# 1 - место 1-25\n",
    "# 2 - место 26-50\n",
    "# 3 - место 51-75\n",
    "# 4 - место 76-100\n",
    "# 5 - место выше 100\n",
    "\n",
    "tourist_attract = {\n",
    "    'London' : 1,\n",
    "    'Paris' : 1,\n",
    "    'Madrid' : 2,\n",
    "    'Barcelona' : 2,\n",
    "    'Berlin' : 2,\n",
    "    'Milan' : 5,\n",
    "    'Rome' : 1,\n",
    "    'Prague' : 1,\n",
    "    'Lisbon' : 3,\n",
    "    'Vienna' : 2,\n",
    "    'Amsterdam' : 1,\n",
    "    'Brussels' : 3,\n",
    "    'Hamburg' : 5,\n",
    "    'Munich' : 3,\n",
    "    'Lyon' : 5,\n",
    "    'Stockholm' : 4,\n",
    "    'Budapest' : 3,\n",
    "    'Warsaw' : 3,\n",
    "    'Dublin' : 5,\n",
    "    'Copenhagen' : 3,\n",
    "    'Athens' : 2,\n",
    "    'Edinburgh' : 5, \n",
    "    'Zurich' : 5,\n",
    "    'Oporto' : 4,\n",
    "    'Geneva' : 5, \n",
    "    'Krakow' : 3, \n",
    "    'Oslo' : 5, \n",
    "    'Helsinki' : 5,\n",
    "    'Bratislava' : 5,\n",
    "    'Luxembourg' : 5,\n",
    "    'Ljubljana' : 5\n",
    "}\n",
    "\n",
    "data['tourist_attract'] = data.city.map(tourist_attract)"
   ]
  },
  {
   "cell_type": "markdown",
   "metadata": {},
   "source": [
    "Так как у нас есть связь между городом и рангам большая и она сильно влияет на модель, создадим вспомогательный признак максимального ранга по городу."
   ]
  },
  {
   "cell_type": "code",
   "execution_count": 108,
   "metadata": {},
   "outputs": [],
   "source": [
    "# Максимальный ранг\n",
    "\n",
    "ranking_max_per_city = data.groupby('city')['ranking'].max()\n",
    "data['rating_max_per_city'] = data.city.map(ranking_max_per_city)"
   ]
  },
  {
   "cell_type": "markdown",
   "metadata": {},
   "source": [
    "### Отбор признаков\n",
    "\n",
    "В ходе работы над проектом были также добавлены следующие признаки: длина отзыва, входит ле ресторан в сеть ресторанов, среднее кол-во туристов в городе, принадлежность к той или иной стране. Однако данные признаки ухудшили работу модели и от них было принято решение отказаться.\n",
    "\n",
    "Также экспериментально было выяснено, что признаки rest_id, number_of_rev_is_NAN, review_is_NAN, is_capital также увеличивают MAE в итоге. Так что в при отборе признаков для модели, они также не учитывались."
   ]
  },
  {
   "cell_type": "markdown",
   "metadata": {},
   "source": [
    "## Закодируем признаки"
   ]
  },
  {
   "cell_type": "code",
   "execution_count": 109,
   "metadata": {},
   "outputs": [],
   "source": [
    "data = pd.get_dummies(data, columns=['city'], dummy_na=True)"
   ]
  },
  {
   "cell_type": "markdown",
   "metadata": {},
   "source": [
    "## Data Preprocessing"
   ]
  },
  {
   "cell_type": "code",
   "execution_count": 110,
   "metadata": {},
   "outputs": [
    {
     "name": "stdout",
     "output_type": "stream",
     "text": [
      "<class 'pandas.core.frame.DataFrame'>\n",
      "RangeIndex: 50000 entries, 0 to 49999\n",
      "Data columns (total 62 columns):\n",
      " #   Column                Non-Null Count  Dtype  \n",
      "---  ------                --------------  -----  \n",
      " 0   rest_id               50000 non-null  float64\n",
      " 1   cuisine_style         50000 non-null  object \n",
      " 2   ranking               50000 non-null  float64\n",
      " 3   price_range           50000 non-null  float64\n",
      " 4   number_of_rev         50000 non-null  float64\n",
      " 5   reviews               49998 non-null  object \n",
      " 6   url_ta                50000 non-null  float64\n",
      " 7   id_ta                 50000 non-null  int64  \n",
      " 8   sample                50000 non-null  int64  \n",
      " 9   rating                50000 non-null  float64\n",
      " 10  number_of_rev_is_NAN  50000 non-null  uint8  \n",
      " 11  price_range_is_NAN    50000 non-null  uint8  \n",
      " 12  cuisine_style_is_NAN  50000 non-null  uint8  \n",
      " 13  number_of_cuisines    50000 non-null  int64  \n",
      " 14  most_common_cuisine   50000 non-null  int64  \n",
      " 15  top_unique_cuisine    50000 non-null  int64  \n",
      " 16  review_is_NAN         50000 non-null  uint8  \n",
      " 17  date_of_review        50000 non-null  object \n",
      " 18  days_between_reviews  50000 non-null  float64\n",
      " 19  days_tillnow          50000 non-null  float64\n",
      " 20  population            50000 non-null  int64  \n",
      " 21  purchasing_power      50000 non-null  int64  \n",
      " 22  is_capital            50000 non-null  int64  \n",
      " 23  rest_city_count       50000 non-null  int64  \n",
      " 24  city_ranking          50000 non-null  float64\n",
      " 25  ranking_rev_count     50000 non-null  float64\n",
      " 26  reviews_per_city_pop  50000 non-null  float64\n",
      " 27  mean_rev_per_city     50000 non-null  float64\n",
      " 28  tourist_attract       50000 non-null  int64  \n",
      " 29  rating_max_per_city   50000 non-null  float64\n",
      " 30  city_Amsterdam        50000 non-null  uint8  \n",
      " 31  city_Athens           50000 non-null  uint8  \n",
      " 32  city_Barcelona        50000 non-null  uint8  \n",
      " 33  city_Berlin           50000 non-null  uint8  \n",
      " 34  city_Bratislava       50000 non-null  uint8  \n",
      " 35  city_Brussels         50000 non-null  uint8  \n",
      " 36  city_Budapest         50000 non-null  uint8  \n",
      " 37  city_Copenhagen       50000 non-null  uint8  \n",
      " 38  city_Dublin           50000 non-null  uint8  \n",
      " 39  city_Edinburgh        50000 non-null  uint8  \n",
      " 40  city_Geneva           50000 non-null  uint8  \n",
      " 41  city_Hamburg          50000 non-null  uint8  \n",
      " 42  city_Helsinki         50000 non-null  uint8  \n",
      " 43  city_Krakow           50000 non-null  uint8  \n",
      " 44  city_Lisbon           50000 non-null  uint8  \n",
      " 45  city_Ljubljana        50000 non-null  uint8  \n",
      " 46  city_London           50000 non-null  uint8  \n",
      " 47  city_Luxembourg       50000 non-null  uint8  \n",
      " 48  city_Lyon             50000 non-null  uint8  \n",
      " 49  city_Madrid           50000 non-null  uint8  \n",
      " 50  city_Milan            50000 non-null  uint8  \n",
      " 51  city_Munich           50000 non-null  uint8  \n",
      " 52  city_Oporto           50000 non-null  uint8  \n",
      " 53  city_Oslo             50000 non-null  uint8  \n",
      " 54  city_Paris            50000 non-null  uint8  \n",
      " 55  city_Prague           50000 non-null  uint8  \n",
      " 56  city_Rome             50000 non-null  uint8  \n",
      " 57  city_Stockholm        50000 non-null  uint8  \n",
      " 58  city_Vienna           50000 non-null  uint8  \n",
      " 59  city_Warsaw           50000 non-null  uint8  \n",
      " 60  city_Zurich           50000 non-null  uint8  \n",
      " 61  city_nan              50000 non-null  uint8  \n",
      "dtypes: float64(13), int64(10), object(3), uint8(36)\n",
      "memory usage: 11.6+ MB\n"
     ]
    }
   ],
   "source": [
    "data.info()"
   ]
  },
  {
   "cell_type": "code",
   "execution_count": 111,
   "metadata": {},
   "outputs": [
    {
     "data": {
      "text/html": [
       "<div>\n",
       "<style scoped>\n",
       "    .dataframe tbody tr th:only-of-type {\n",
       "        vertical-align: middle;\n",
       "    }\n",
       "\n",
       "    .dataframe tbody tr th {\n",
       "        vertical-align: top;\n",
       "    }\n",
       "\n",
       "    .dataframe thead th {\n",
       "        text-align: right;\n",
       "    }\n",
       "</style>\n",
       "<table border=\"1\" class=\"dataframe\">\n",
       "  <thead>\n",
       "    <tr style=\"text-align: right;\">\n",
       "      <th></th>\n",
       "      <th>rest_id</th>\n",
       "      <th>cuisine_style</th>\n",
       "      <th>ranking</th>\n",
       "      <th>price_range</th>\n",
       "      <th>number_of_rev</th>\n",
       "      <th>reviews</th>\n",
       "      <th>url_ta</th>\n",
       "      <th>id_ta</th>\n",
       "      <th>sample</th>\n",
       "      <th>rating</th>\n",
       "      <th>number_of_rev_is_NAN</th>\n",
       "      <th>price_range_is_NAN</th>\n",
       "      <th>cuisine_style_is_NAN</th>\n",
       "      <th>number_of_cuisines</th>\n",
       "      <th>most_common_cuisine</th>\n",
       "      <th>top_unique_cuisine</th>\n",
       "      <th>review_is_NAN</th>\n",
       "      <th>date_of_review</th>\n",
       "      <th>days_between_reviews</th>\n",
       "      <th>days_tillnow</th>\n",
       "      <th>population</th>\n",
       "      <th>purchasing_power</th>\n",
       "      <th>is_capital</th>\n",
       "      <th>rest_city_count</th>\n",
       "      <th>city_ranking</th>\n",
       "      <th>ranking_rev_count</th>\n",
       "      <th>reviews_per_city_pop</th>\n",
       "      <th>mean_rev_per_city</th>\n",
       "      <th>tourist_attract</th>\n",
       "      <th>rating_max_per_city</th>\n",
       "      <th>city_Amsterdam</th>\n",
       "      <th>city_Athens</th>\n",
       "      <th>city_Barcelona</th>\n",
       "      <th>city_Berlin</th>\n",
       "      <th>city_Bratislava</th>\n",
       "      <th>city_Brussels</th>\n",
       "      <th>city_Budapest</th>\n",
       "      <th>city_Copenhagen</th>\n",
       "      <th>city_Dublin</th>\n",
       "      <th>city_Edinburgh</th>\n",
       "      <th>city_Geneva</th>\n",
       "      <th>city_Hamburg</th>\n",
       "      <th>city_Helsinki</th>\n",
       "      <th>city_Krakow</th>\n",
       "      <th>city_Lisbon</th>\n",
       "      <th>city_Ljubljana</th>\n",
       "      <th>city_London</th>\n",
       "      <th>city_Luxembourg</th>\n",
       "      <th>city_Lyon</th>\n",
       "      <th>city_Madrid</th>\n",
       "      <th>city_Milan</th>\n",
       "      <th>city_Munich</th>\n",
       "      <th>city_Oporto</th>\n",
       "      <th>city_Oslo</th>\n",
       "      <th>city_Paris</th>\n",
       "      <th>city_Prague</th>\n",
       "      <th>city_Rome</th>\n",
       "      <th>city_Stockholm</th>\n",
       "      <th>city_Vienna</th>\n",
       "      <th>city_Warsaw</th>\n",
       "      <th>city_Zurich</th>\n",
       "      <th>city_nan</th>\n",
       "    </tr>\n",
       "  </thead>\n",
       "  <tbody>\n",
       "    <tr>\n",
       "      <th>20391</th>\n",
       "      <td>2352.0</td>\n",
       "      <td>[Other]</td>\n",
       "      <td>2355.0</td>\n",
       "      <td>0.0</td>\n",
       "      <td>3.0</td>\n",
       "      <td>[[], []]</td>\n",
       "      <td>189158.0</td>\n",
       "      <td>5988347</td>\n",
       "      <td>1</td>\n",
       "      <td>3.5</td>\n",
       "      <td>0</td>\n",
       "      <td>1</td>\n",
       "      <td>1</td>\n",
       "      <td>1</td>\n",
       "      <td>1</td>\n",
       "      <td>0</td>\n",
       "      <td>0</td>\n",
       "      <td>[]</td>\n",
       "      <td>49.0</td>\n",
       "      <td>1363.871276</td>\n",
       "      <td>505526</td>\n",
       "      <td>48</td>\n",
       "      <td>1</td>\n",
       "      <td>1647</td>\n",
       "      <td>1.429872</td>\n",
       "      <td>7065.0</td>\n",
       "      <td>0.000006</td>\n",
       "      <td>109.72</td>\n",
       "      <td>3</td>\n",
       "      <td>3717.0</td>\n",
       "      <td>0</td>\n",
       "      <td>0</td>\n",
       "      <td>0</td>\n",
       "      <td>0</td>\n",
       "      <td>0</td>\n",
       "      <td>0</td>\n",
       "      <td>0</td>\n",
       "      <td>0</td>\n",
       "      <td>0</td>\n",
       "      <td>0</td>\n",
       "      <td>0</td>\n",
       "      <td>0</td>\n",
       "      <td>0</td>\n",
       "      <td>0</td>\n",
       "      <td>1</td>\n",
       "      <td>0</td>\n",
       "      <td>0</td>\n",
       "      <td>0</td>\n",
       "      <td>0</td>\n",
       "      <td>0</td>\n",
       "      <td>0</td>\n",
       "      <td>0</td>\n",
       "      <td>0</td>\n",
       "      <td>0</td>\n",
       "      <td>0</td>\n",
       "      <td>0</td>\n",
       "      <td>0</td>\n",
       "      <td>0</td>\n",
       "      <td>0</td>\n",
       "      <td>0</td>\n",
       "      <td>0</td>\n",
       "      <td>0</td>\n",
       "    </tr>\n",
       "    <tr>\n",
       "      <th>5793</th>\n",
       "      <td>5793.0</td>\n",
       "      <td>[Spanish, Mediterranean, Gluten Free Options]</td>\n",
       "      <td>408.0</td>\n",
       "      <td>3.0</td>\n",
       "      <td>112.0</td>\n",
       "      <td>[['Excellent steak house near Sagrada Familia'...</td>\n",
       "      <td>187497.0</td>\n",
       "      <td>12873128</td>\n",
       "      <td>0</td>\n",
       "      <td>0.0</td>\n",
       "      <td>0</td>\n",
       "      <td>0</td>\n",
       "      <td>0</td>\n",
       "      <td>3</td>\n",
       "      <td>2</td>\n",
       "      <td>0</td>\n",
       "      <td>0</td>\n",
       "      <td>[01/07/2018, 01/03/2018]</td>\n",
       "      <td>4.0</td>\n",
       "      <td>1123.000000</td>\n",
       "      <td>1620343</td>\n",
       "      <td>30</td>\n",
       "      <td>0</td>\n",
       "      <td>3395</td>\n",
       "      <td>0.120177</td>\n",
       "      <td>45696.0</td>\n",
       "      <td>0.000069</td>\n",
       "      <td>116.13</td>\n",
       "      <td>2</td>\n",
       "      <td>7796.0</td>\n",
       "      <td>0</td>\n",
       "      <td>0</td>\n",
       "      <td>1</td>\n",
       "      <td>0</td>\n",
       "      <td>0</td>\n",
       "      <td>0</td>\n",
       "      <td>0</td>\n",
       "      <td>0</td>\n",
       "      <td>0</td>\n",
       "      <td>0</td>\n",
       "      <td>0</td>\n",
       "      <td>0</td>\n",
       "      <td>0</td>\n",
       "      <td>0</td>\n",
       "      <td>0</td>\n",
       "      <td>0</td>\n",
       "      <td>0</td>\n",
       "      <td>0</td>\n",
       "      <td>0</td>\n",
       "      <td>0</td>\n",
       "      <td>0</td>\n",
       "      <td>0</td>\n",
       "      <td>0</td>\n",
       "      <td>0</td>\n",
       "      <td>0</td>\n",
       "      <td>0</td>\n",
       "      <td>0</td>\n",
       "      <td>0</td>\n",
       "      <td>0</td>\n",
       "      <td>0</td>\n",
       "      <td>0</td>\n",
       "      <td>0</td>\n",
       "    </tr>\n",
       "    <tr>\n",
       "      <th>927</th>\n",
       "      <td>927.0</td>\n",
       "      <td>[French, European, Vegetarian Friendly]</td>\n",
       "      <td>1071.0</td>\n",
       "      <td>2.0</td>\n",
       "      <td>204.0</td>\n",
       "      <td>[['I strongly recommend this place', 'Nice sur...</td>\n",
       "      <td>187147.0</td>\n",
       "      <td>942681</td>\n",
       "      <td>0</td>\n",
       "      <td>0.0</td>\n",
       "      <td>0</td>\n",
       "      <td>0</td>\n",
       "      <td>0</td>\n",
       "      <td>3</td>\n",
       "      <td>3</td>\n",
       "      <td>0</td>\n",
       "      <td>0</td>\n",
       "      <td>[06/10/2017, 04/28/2017]</td>\n",
       "      <td>43.0</td>\n",
       "      <td>1334.000000</td>\n",
       "      <td>2148271</td>\n",
       "      <td>22</td>\n",
       "      <td>1</td>\n",
       "      <td>6108</td>\n",
       "      <td>0.175344</td>\n",
       "      <td>218484.0</td>\n",
       "      <td>0.000095</td>\n",
       "      <td>107.36</td>\n",
       "      <td>1</td>\n",
       "      <td>13986.0</td>\n",
       "      <td>0</td>\n",
       "      <td>0</td>\n",
       "      <td>0</td>\n",
       "      <td>0</td>\n",
       "      <td>0</td>\n",
       "      <td>0</td>\n",
       "      <td>0</td>\n",
       "      <td>0</td>\n",
       "      <td>0</td>\n",
       "      <td>0</td>\n",
       "      <td>0</td>\n",
       "      <td>0</td>\n",
       "      <td>0</td>\n",
       "      <td>0</td>\n",
       "      <td>0</td>\n",
       "      <td>0</td>\n",
       "      <td>0</td>\n",
       "      <td>0</td>\n",
       "      <td>0</td>\n",
       "      <td>0</td>\n",
       "      <td>0</td>\n",
       "      <td>0</td>\n",
       "      <td>0</td>\n",
       "      <td>0</td>\n",
       "      <td>1</td>\n",
       "      <td>0</td>\n",
       "      <td>0</td>\n",
       "      <td>0</td>\n",
       "      <td>0</td>\n",
       "      <td>0</td>\n",
       "      <td>0</td>\n",
       "      <td>0</td>\n",
       "    </tr>\n",
       "    <tr>\n",
       "      <th>41513</th>\n",
       "      <td>152.0</td>\n",
       "      <td>[French, Belgian, European]</td>\n",
       "      <td>153.0</td>\n",
       "      <td>3.0</td>\n",
       "      <td>337.0</td>\n",
       "      <td>[['Congratulations', 'Perfection'], ['09/18/20...</td>\n",
       "      <td>188644.0</td>\n",
       "      <td>1091593</td>\n",
       "      <td>1</td>\n",
       "      <td>4.0</td>\n",
       "      <td>0</td>\n",
       "      <td>0</td>\n",
       "      <td>0</td>\n",
       "      <td>3</td>\n",
       "      <td>2</td>\n",
       "      <td>0</td>\n",
       "      <td>0</td>\n",
       "      <td>[09/18/2017, 05/30/2017]</td>\n",
       "      <td>111.0</td>\n",
       "      <td>1234.000000</td>\n",
       "      <td>1208542</td>\n",
       "      <td>15</td>\n",
       "      <td>1</td>\n",
       "      <td>1314</td>\n",
       "      <td>0.116438</td>\n",
       "      <td>51561.0</td>\n",
       "      <td>0.000279</td>\n",
       "      <td>80.42</td>\n",
       "      <td>3</td>\n",
       "      <td>3006.0</td>\n",
       "      <td>0</td>\n",
       "      <td>0</td>\n",
       "      <td>0</td>\n",
       "      <td>0</td>\n",
       "      <td>0</td>\n",
       "      <td>1</td>\n",
       "      <td>0</td>\n",
       "      <td>0</td>\n",
       "      <td>0</td>\n",
       "      <td>0</td>\n",
       "      <td>0</td>\n",
       "      <td>0</td>\n",
       "      <td>0</td>\n",
       "      <td>0</td>\n",
       "      <td>0</td>\n",
       "      <td>0</td>\n",
       "      <td>0</td>\n",
       "      <td>0</td>\n",
       "      <td>0</td>\n",
       "      <td>0</td>\n",
       "      <td>0</td>\n",
       "      <td>0</td>\n",
       "      <td>0</td>\n",
       "      <td>0</td>\n",
       "      <td>0</td>\n",
       "      <td>0</td>\n",
       "      <td>0</td>\n",
       "      <td>0</td>\n",
       "      <td>0</td>\n",
       "      <td>0</td>\n",
       "      <td>0</td>\n",
       "      <td>0</td>\n",
       "    </tr>\n",
       "    <tr>\n",
       "      <th>14294</th>\n",
       "      <td>1894.0</td>\n",
       "      <td>[Japanese, Austrian, European]</td>\n",
       "      <td>1896.0</td>\n",
       "      <td>2.0</td>\n",
       "      <td>3.0</td>\n",
       "      <td>[['Relaxing Atmosphere'], ['01/29/2017']]</td>\n",
       "      <td>190454.0</td>\n",
       "      <td>11652763</td>\n",
       "      <td>1</td>\n",
       "      <td>5.0</td>\n",
       "      <td>0</td>\n",
       "      <td>0</td>\n",
       "      <td>0</td>\n",
       "      <td>3</td>\n",
       "      <td>1</td>\n",
       "      <td>0</td>\n",
       "      <td>0</td>\n",
       "      <td>[01/29/2017]</td>\n",
       "      <td>0.0</td>\n",
       "      <td>1466.000000</td>\n",
       "      <td>2600000</td>\n",
       "      <td>21</td>\n",
       "      <td>1</td>\n",
       "      <td>1443</td>\n",
       "      <td>1.313929</td>\n",
       "      <td>5688.0</td>\n",
       "      <td>0.000001</td>\n",
       "      <td>67.73</td>\n",
       "      <td>2</td>\n",
       "      <td>3444.0</td>\n",
       "      <td>0</td>\n",
       "      <td>0</td>\n",
       "      <td>0</td>\n",
       "      <td>0</td>\n",
       "      <td>0</td>\n",
       "      <td>0</td>\n",
       "      <td>0</td>\n",
       "      <td>0</td>\n",
       "      <td>0</td>\n",
       "      <td>0</td>\n",
       "      <td>0</td>\n",
       "      <td>0</td>\n",
       "      <td>0</td>\n",
       "      <td>0</td>\n",
       "      <td>0</td>\n",
       "      <td>0</td>\n",
       "      <td>0</td>\n",
       "      <td>0</td>\n",
       "      <td>0</td>\n",
       "      <td>0</td>\n",
       "      <td>0</td>\n",
       "      <td>0</td>\n",
       "      <td>0</td>\n",
       "      <td>0</td>\n",
       "      <td>0</td>\n",
       "      <td>0</td>\n",
       "      <td>0</td>\n",
       "      <td>0</td>\n",
       "      <td>1</td>\n",
       "      <td>0</td>\n",
       "      <td>0</td>\n",
       "      <td>0</td>\n",
       "    </tr>\n",
       "  </tbody>\n",
       "</table>\n",
       "</div>"
      ],
      "text/plain": [
       "       rest_id                                  cuisine_style  ranking  \\\n",
       "20391   2352.0                                        [Other]   2355.0   \n",
       "5793    5793.0  [Spanish, Mediterranean, Gluten Free Options]    408.0   \n",
       "927      927.0        [French, European, Vegetarian Friendly]   1071.0   \n",
       "41513    152.0                    [French, Belgian, European]    153.0   \n",
       "14294   1894.0                 [Japanese, Austrian, European]   1896.0   \n",
       "\n",
       "       price_range  number_of_rev  \\\n",
       "20391          0.0            3.0   \n",
       "5793           3.0          112.0   \n",
       "927            2.0          204.0   \n",
       "41513          3.0          337.0   \n",
       "14294          2.0            3.0   \n",
       "\n",
       "                                                 reviews    url_ta     id_ta  \\\n",
       "20391                                           [[], []]  189158.0   5988347   \n",
       "5793   [['Excellent steak house near Sagrada Familia'...  187497.0  12873128   \n",
       "927    [['I strongly recommend this place', 'Nice sur...  187147.0    942681   \n",
       "41513  [['Congratulations', 'Perfection'], ['09/18/20...  188644.0   1091593   \n",
       "14294          [['Relaxing Atmosphere'], ['01/29/2017']]  190454.0  11652763   \n",
       "\n",
       "       sample  rating  number_of_rev_is_NAN  price_range_is_NAN  \\\n",
       "20391       1     3.5                     0                   1   \n",
       "5793        0     0.0                     0                   0   \n",
       "927         0     0.0                     0                   0   \n",
       "41513       1     4.0                     0                   0   \n",
       "14294       1     5.0                     0                   0   \n",
       "\n",
       "       cuisine_style_is_NAN  number_of_cuisines  most_common_cuisine  \\\n",
       "20391                     1                   1                    1   \n",
       "5793                      0                   3                    2   \n",
       "927                       0                   3                    3   \n",
       "41513                     0                   3                    2   \n",
       "14294                     0                   3                    1   \n",
       "\n",
       "       top_unique_cuisine  review_is_NAN            date_of_review  \\\n",
       "20391                   0              0                        []   \n",
       "5793                    0              0  [01/07/2018, 01/03/2018]   \n",
       "927                     0              0  [06/10/2017, 04/28/2017]   \n",
       "41513                   0              0  [09/18/2017, 05/30/2017]   \n",
       "14294                   0              0              [01/29/2017]   \n",
       "\n",
       "       days_between_reviews  days_tillnow  population  purchasing_power  \\\n",
       "20391                  49.0   1363.871276      505526                48   \n",
       "5793                    4.0   1123.000000     1620343                30   \n",
       "927                    43.0   1334.000000     2148271                22   \n",
       "41513                 111.0   1234.000000     1208542                15   \n",
       "14294                   0.0   1466.000000     2600000                21   \n",
       "\n",
       "       is_capital  rest_city_count  city_ranking  ranking_rev_count  \\\n",
       "20391           1             1647      1.429872             7065.0   \n",
       "5793            0             3395      0.120177            45696.0   \n",
       "927             1             6108      0.175344           218484.0   \n",
       "41513           1             1314      0.116438            51561.0   \n",
       "14294           1             1443      1.313929             5688.0   \n",
       "\n",
       "       reviews_per_city_pop  mean_rev_per_city  tourist_attract  \\\n",
       "20391              0.000006             109.72                3   \n",
       "5793               0.000069             116.13                2   \n",
       "927                0.000095             107.36                1   \n",
       "41513              0.000279              80.42                3   \n",
       "14294              0.000001              67.73                2   \n",
       "\n",
       "       rating_max_per_city  city_Amsterdam  city_Athens  city_Barcelona  \\\n",
       "20391               3717.0               0            0               0   \n",
       "5793                7796.0               0            0               1   \n",
       "927                13986.0               0            0               0   \n",
       "41513               3006.0               0            0               0   \n",
       "14294               3444.0               0            0               0   \n",
       "\n",
       "       city_Berlin  city_Bratislava  city_Brussels  city_Budapest  \\\n",
       "20391            0                0              0              0   \n",
       "5793             0                0              0              0   \n",
       "927              0                0              0              0   \n",
       "41513            0                0              1              0   \n",
       "14294            0                0              0              0   \n",
       "\n",
       "       city_Copenhagen  city_Dublin  city_Edinburgh  city_Geneva  \\\n",
       "20391                0            0               0            0   \n",
       "5793                 0            0               0            0   \n",
       "927                  0            0               0            0   \n",
       "41513                0            0               0            0   \n",
       "14294                0            0               0            0   \n",
       "\n",
       "       city_Hamburg  city_Helsinki  city_Krakow  city_Lisbon  city_Ljubljana  \\\n",
       "20391             0              0            0            1               0   \n",
       "5793              0              0            0            0               0   \n",
       "927               0              0            0            0               0   \n",
       "41513             0              0            0            0               0   \n",
       "14294             0              0            0            0               0   \n",
       "\n",
       "       city_London  city_Luxembourg  city_Lyon  city_Madrid  city_Milan  \\\n",
       "20391            0                0          0            0           0   \n",
       "5793             0                0          0            0           0   \n",
       "927              0                0          0            0           0   \n",
       "41513            0                0          0            0           0   \n",
       "14294            0                0          0            0           0   \n",
       "\n",
       "       city_Munich  city_Oporto  city_Oslo  city_Paris  city_Prague  \\\n",
       "20391            0            0          0           0            0   \n",
       "5793             0            0          0           0            0   \n",
       "927              0            0          0           1            0   \n",
       "41513            0            0          0           0            0   \n",
       "14294            0            0          0           0            0   \n",
       "\n",
       "       city_Rome  city_Stockholm  city_Vienna  city_Warsaw  city_Zurich  \\\n",
       "20391          0               0            0            0            0   \n",
       "5793           0               0            0            0            0   \n",
       "927            0               0            0            0            0   \n",
       "41513          0               0            0            0            0   \n",
       "14294          0               0            1            0            0   \n",
       "\n",
       "       city_nan  \n",
       "20391         0  \n",
       "5793          0  \n",
       "927           0  \n",
       "41513         0  \n",
       "14294         0  "
      ]
     },
     "execution_count": 111,
     "metadata": {},
     "output_type": "execute_result"
    }
   ],
   "source": [
    "pd.set_option('display.max_rows', 50)  # показывать больше строк\n",
    "pd.set_option('display.max_columns', 100)  # показывать больше колонок\n",
    "\n",
    "data.sample(5)"
   ]
  },
  {
   "cell_type": "code",
   "execution_count": 112,
   "metadata": {},
   "outputs": [],
   "source": [
    "df_preproc = data.drop(\n",
    "    ['rest_id', 'cuisine_style', 'reviews', 'date_of_review',\n",
    "    'number_of_rev_is_NAN', 'review_is_NAN', 'is_capital'], axis=1)"
   ]
  },
  {
   "cell_type": "code",
   "execution_count": 113,
   "metadata": {},
   "outputs": [
    {
     "name": "stdout",
     "output_type": "stream",
     "text": [
      "<class 'pandas.core.frame.DataFrame'>\n",
      "RangeIndex: 50000 entries, 0 to 49999\n",
      "Data columns (total 55 columns):\n",
      " #   Column                Non-Null Count  Dtype  \n",
      "---  ------                --------------  -----  \n",
      " 0   ranking               50000 non-null  float64\n",
      " 1   price_range           50000 non-null  float64\n",
      " 2   number_of_rev         50000 non-null  float64\n",
      " 3   url_ta                50000 non-null  float64\n",
      " 4   id_ta                 50000 non-null  int64  \n",
      " 5   sample                50000 non-null  int64  \n",
      " 6   rating                50000 non-null  float64\n",
      " 7   price_range_is_NAN    50000 non-null  uint8  \n",
      " 8   cuisine_style_is_NAN  50000 non-null  uint8  \n",
      " 9   number_of_cuisines    50000 non-null  int64  \n",
      " 10  most_common_cuisine   50000 non-null  int64  \n",
      " 11  top_unique_cuisine    50000 non-null  int64  \n",
      " 12  days_between_reviews  50000 non-null  float64\n",
      " 13  days_tillnow          50000 non-null  float64\n",
      " 14  population            50000 non-null  int64  \n",
      " 15  purchasing_power      50000 non-null  int64  \n",
      " 16  rest_city_count       50000 non-null  int64  \n",
      " 17  city_ranking          50000 non-null  float64\n",
      " 18  ranking_rev_count     50000 non-null  float64\n",
      " 19  reviews_per_city_pop  50000 non-null  float64\n",
      " 20  mean_rev_per_city     50000 non-null  float64\n",
      " 21  tourist_attract       50000 non-null  int64  \n",
      " 22  rating_max_per_city   50000 non-null  float64\n",
      " 23  city_Amsterdam        50000 non-null  uint8  \n",
      " 24  city_Athens           50000 non-null  uint8  \n",
      " 25  city_Barcelona        50000 non-null  uint8  \n",
      " 26  city_Berlin           50000 non-null  uint8  \n",
      " 27  city_Bratislava       50000 non-null  uint8  \n",
      " 28  city_Brussels         50000 non-null  uint8  \n",
      " 29  city_Budapest         50000 non-null  uint8  \n",
      " 30  city_Copenhagen       50000 non-null  uint8  \n",
      " 31  city_Dublin           50000 non-null  uint8  \n",
      " 32  city_Edinburgh        50000 non-null  uint8  \n",
      " 33  city_Geneva           50000 non-null  uint8  \n",
      " 34  city_Hamburg          50000 non-null  uint8  \n",
      " 35  city_Helsinki         50000 non-null  uint8  \n",
      " 36  city_Krakow           50000 non-null  uint8  \n",
      " 37  city_Lisbon           50000 non-null  uint8  \n",
      " 38  city_Ljubljana        50000 non-null  uint8  \n",
      " 39  city_London           50000 non-null  uint8  \n",
      " 40  city_Luxembourg       50000 non-null  uint8  \n",
      " 41  city_Lyon             50000 non-null  uint8  \n",
      " 42  city_Madrid           50000 non-null  uint8  \n",
      " 43  city_Milan            50000 non-null  uint8  \n",
      " 44  city_Munich           50000 non-null  uint8  \n",
      " 45  city_Oporto           50000 non-null  uint8  \n",
      " 46  city_Oslo             50000 non-null  uint8  \n",
      " 47  city_Paris            50000 non-null  uint8  \n",
      " 48  city_Prague           50000 non-null  uint8  \n",
      " 49  city_Rome             50000 non-null  uint8  \n",
      " 50  city_Stockholm        50000 non-null  uint8  \n",
      " 51  city_Vienna           50000 non-null  uint8  \n",
      " 52  city_Warsaw           50000 non-null  uint8  \n",
      " 53  city_Zurich           50000 non-null  uint8  \n",
      " 54  city_nan              50000 non-null  uint8  \n",
      "dtypes: float64(12), int64(9), uint8(34)\n",
      "memory usage: 9.6 MB\n"
     ]
    }
   ],
   "source": [
    "df_preproc.info()"
   ]
  },
  {
   "cell_type": "code",
   "execution_count": 114,
   "metadata": {},
   "outputs": [],
   "source": [
    "# Теперь выделим тестовую часть\n",
    "train_data = df_preproc.query('sample == 1').drop(['sample'], axis=1)\n",
    "test_data = df_preproc.query('sample == 0').drop(['sample'], axis=1)\n",
    "\n",
    "y = train_data.rating.values            # наш таргет\n",
    "X = train_data.drop(['rating'], axis=1)"
   ]
  },
  {
   "cell_type": "markdown",
   "metadata": {},
   "source": [
    "Перед тем как отправлять наши данные на обучение, разделим данные на еще один тест и трейн, для валидации. Это поможет нам проверить, как хорошо наша модель работает, до отправки submissiona на kaggle."
   ]
  },
  {
   "cell_type": "code",
   "execution_count": 115,
   "metadata": {},
   "outputs": [],
   "source": [
    "# Воспользуемся специальной функцие train_test_split для разбивки тестовых данных\n",
    "# выделим 20% данных на валидацию (параметр test_size)\n",
    "\n",
    "X_train, X_test, y_train, y_test = train_test_split(X, y, test_size=0.2, random_state=RANDOM_SEED)"
   ]
  },
  {
   "cell_type": "code",
   "execution_count": 116,
   "metadata": {},
   "outputs": [
    {
     "data": {
      "text/plain": [
       "((10000, 54), (40000, 54), (40000, 53), (32000, 53), (8000, 53))"
      ]
     },
     "execution_count": 116,
     "metadata": {},
     "output_type": "execute_result"
    }
   ],
   "source": [
    "# проверяем\n",
    "\n",
    "test_data.shape, train_data.shape, X.shape, X_train.shape, X_test.shape"
   ]
  },
  {
   "cell_type": "markdown",
   "metadata": {},
   "source": [
    "## Model"
   ]
  },
  {
   "cell_type": "code",
   "execution_count": 117,
   "metadata": {},
   "outputs": [],
   "source": [
    "# Создаём модель \n",
    "\n",
    "model = RandomForestRegressor(n_estimators=100, verbose=1, n_jobs=-1, random_state=RANDOM_SEED)"
   ]
  },
  {
   "cell_type": "code",
   "execution_count": 118,
   "metadata": {
    "scrolled": true
   },
   "outputs": [
    {
     "name": "stderr",
     "output_type": "stream",
     "text": [
      "[Parallel(n_jobs=-1)]: Using backend ThreadingBackend with 4 concurrent workers.\n",
      "[Parallel(n_jobs=-1)]: Done  42 tasks      | elapsed:    3.4s\n",
      "[Parallel(n_jobs=-1)]: Done 100 out of 100 | elapsed:    7.4s finished\n",
      "[Parallel(n_jobs=4)]: Using backend ThreadingBackend with 4 concurrent workers.\n",
      "[Parallel(n_jobs=4)]: Done  42 tasks      | elapsed:    0.0s\n",
      "[Parallel(n_jobs=4)]: Done 100 out of 100 | elapsed:    0.1s finished\n"
     ]
    }
   ],
   "source": [
    "# Обучаем модель на тестовом наборе данных\n",
    "model.fit(X_train, y_train)\n",
    "\n",
    "# Используем обученную модель для предсказания рейтинга ресторанов в тестовой выборке.\n",
    "# Предсказанные значения записываем в переменную y_pred\n",
    "y_pred = model.predict(X_test)"
   ]
  },
  {
   "cell_type": "code",
   "execution_count": 119,
   "metadata": {},
   "outputs": [],
   "source": [
    "# Так как признак рейтинга имеет шаг 0.5, округляем предсказание.\n",
    "\n",
    "y_pred = np.round(y_pred * 2) / 2"
   ]
  },
  {
   "cell_type": "code",
   "execution_count": 120,
   "metadata": {
    "scrolled": true
   },
   "outputs": [
    {
     "name": "stdout",
     "output_type": "stream",
     "text": [
      "MAE: 0.1626875\n"
     ]
    }
   ],
   "source": [
    "# Сравниваем предсказанные значения (y_pred) с реальными (y_test), и смотрим насколько они в среднем отличаются\n",
    "# Метрика называется Mean Absolute Error (MAE) и показывает среднее отклонение предсказанных значений от фактических.\n",
    "\n",
    "print('MAE:', metrics.mean_absolute_error(y_test, y_pred))"
   ]
  },
  {
   "cell_type": "code",
   "execution_count": 121,
   "metadata": {},
   "outputs": [
    {
     "data": {
      "text/plain": [
       "<matplotlib.axes._subplots.AxesSubplot at 0x12a4edfd0>"
      ]
     },
     "execution_count": 121,
     "metadata": {},
     "output_type": "execute_result"
    },
    {
     "data": {
      "image/png": "[encoded data removed]",
      "text/plain": [
       "<Figure size 720x720 with 1 Axes>"
      ]
     },
     "metadata": {
      "needs_background": "light"
     },
     "output_type": "display_data"
    }
   ],
   "source": [
    "# Посмотрим самые важные признаки для модели\n",
    "\n",
    "plt.rcParams['figure.figsize'] = (10,10)\n",
    "feat_importances = pd.Series(model.feature_importances_, index=X.columns)\n",
    "feat_importances.nlargest(30).plot(kind='barh')"
   ]
  },
  {
   "cell_type": "markdown",
   "metadata": {},
   "source": [
    "## Submission"
   ]
  },
  {
   "cell_type": "code",
   "execution_count": 122,
   "metadata": {},
   "outputs": [
    {
     "data": {
      "text/html": [
       "<div>\n",
       "<style scoped>\n",
       "    .dataframe tbody tr th:only-of-type {\n",
       "        vertical-align: middle;\n",
       "    }\n",
       "\n",
       "    .dataframe tbody tr th {\n",
       "        vertical-align: top;\n",
       "    }\n",
       "\n",
       "    .dataframe thead th {\n",
       "        text-align: right;\n",
       "    }\n",
       "</style>\n",
       "<table border=\"1\" class=\"dataframe\">\n",
       "  <thead>\n",
       "    <tr style=\"text-align: right;\">\n",
       "      <th></th>\n",
       "      <th>ranking</th>\n",
       "      <th>price_range</th>\n",
       "      <th>number_of_rev</th>\n",
       "      <th>url_ta</th>\n",
       "      <th>id_ta</th>\n",
       "      <th>rating</th>\n",
       "      <th>price_range_is_NAN</th>\n",
       "      <th>cuisine_style_is_NAN</th>\n",
       "      <th>number_of_cuisines</th>\n",
       "      <th>most_common_cuisine</th>\n",
       "      <th>top_unique_cuisine</th>\n",
       "      <th>days_between_reviews</th>\n",
       "      <th>days_tillnow</th>\n",
       "      <th>population</th>\n",
       "      <th>purchasing_power</th>\n",
       "      <th>rest_city_count</th>\n",
       "      <th>city_ranking</th>\n",
       "      <th>ranking_rev_count</th>\n",
       "      <th>reviews_per_city_pop</th>\n",
       "      <th>mean_rev_per_city</th>\n",
       "      <th>tourist_attract</th>\n",
       "      <th>rating_max_per_city</th>\n",
       "      <th>city_Amsterdam</th>\n",
       "      <th>city_Athens</th>\n",
       "      <th>city_Barcelona</th>\n",
       "      <th>city_Berlin</th>\n",
       "      <th>city_Bratislava</th>\n",
       "      <th>city_Brussels</th>\n",
       "      <th>city_Budapest</th>\n",
       "      <th>city_Copenhagen</th>\n",
       "      <th>city_Dublin</th>\n",
       "      <th>city_Edinburgh</th>\n",
       "      <th>city_Geneva</th>\n",
       "      <th>city_Hamburg</th>\n",
       "      <th>city_Helsinki</th>\n",
       "      <th>city_Krakow</th>\n",
       "      <th>city_Lisbon</th>\n",
       "      <th>city_Ljubljana</th>\n",
       "      <th>city_London</th>\n",
       "      <th>city_Luxembourg</th>\n",
       "      <th>city_Lyon</th>\n",
       "      <th>city_Madrid</th>\n",
       "      <th>city_Milan</th>\n",
       "      <th>city_Munich</th>\n",
       "      <th>city_Oporto</th>\n",
       "      <th>city_Oslo</th>\n",
       "      <th>city_Paris</th>\n",
       "      <th>city_Prague</th>\n",
       "      <th>city_Rome</th>\n",
       "      <th>city_Stockholm</th>\n",
       "      <th>city_Vienna</th>\n",
       "      <th>city_Warsaw</th>\n",
       "      <th>city_Zurich</th>\n",
       "      <th>city_nan</th>\n",
       "    </tr>\n",
       "  </thead>\n",
       "  <tbody>\n",
       "    <tr>\n",
       "      <th>9046</th>\n",
       "      <td>8762.0</td>\n",
       "      <td>1.0</td>\n",
       "      <td>10.0</td>\n",
       "      <td>186338.0</td>\n",
       "      <td>10815566</td>\n",
       "      <td>0.0</td>\n",
       "      <td>0</td>\n",
       "      <td>0</td>\n",
       "      <td>5</td>\n",
       "      <td>1</td>\n",
       "      <td>0</td>\n",
       "      <td>35.0</td>\n",
       "      <td>1254.000000</td>\n",
       "      <td>8909081</td>\n",
       "      <td>24</td>\n",
       "      <td>7193</td>\n",
       "      <td>1.218129</td>\n",
       "      <td>87620.0</td>\n",
       "      <td>1.122450e-06</td>\n",
       "      <td>117.09</td>\n",
       "      <td>1</td>\n",
       "      <td>16444.0</td>\n",
       "      <td>0</td>\n",
       "      <td>0</td>\n",
       "      <td>0</td>\n",
       "      <td>0</td>\n",
       "      <td>0</td>\n",
       "      <td>0</td>\n",
       "      <td>0</td>\n",
       "      <td>0</td>\n",
       "      <td>0</td>\n",
       "      <td>0</td>\n",
       "      <td>0</td>\n",
       "      <td>0</td>\n",
       "      <td>0</td>\n",
       "      <td>0</td>\n",
       "      <td>0</td>\n",
       "      <td>0</td>\n",
       "      <td>1</td>\n",
       "      <td>0</td>\n",
       "      <td>0</td>\n",
       "      <td>0</td>\n",
       "      <td>0</td>\n",
       "      <td>0</td>\n",
       "      <td>0</td>\n",
       "      <td>0</td>\n",
       "      <td>0</td>\n",
       "      <td>0</td>\n",
       "      <td>0</td>\n",
       "      <td>0</td>\n",
       "      <td>0</td>\n",
       "      <td>0</td>\n",
       "      <td>0</td>\n",
       "      <td>0</td>\n",
       "    </tr>\n",
       "    <tr>\n",
       "      <th>4201</th>\n",
       "      <td>1033.0</td>\n",
       "      <td>0.0</td>\n",
       "      <td>0.0</td>\n",
       "      <td>274856.0</td>\n",
       "      <td>12030280</td>\n",
       "      <td>0.0</td>\n",
       "      <td>1</td>\n",
       "      <td>1</td>\n",
       "      <td>1</td>\n",
       "      <td>1</td>\n",
       "      <td>0</td>\n",
       "      <td>0.0</td>\n",
       "      <td>1482.000000</td>\n",
       "      <td>1793579</td>\n",
       "      <td>29</td>\n",
       "      <td>925</td>\n",
       "      <td>1.116757</td>\n",
       "      <td>0.0</td>\n",
       "      <td>0.000000e+00</td>\n",
       "      <td>56.84</td>\n",
       "      <td>3</td>\n",
       "      <td>2154.0</td>\n",
       "      <td>0</td>\n",
       "      <td>0</td>\n",
       "      <td>0</td>\n",
       "      <td>0</td>\n",
       "      <td>0</td>\n",
       "      <td>0</td>\n",
       "      <td>0</td>\n",
       "      <td>0</td>\n",
       "      <td>0</td>\n",
       "      <td>0</td>\n",
       "      <td>0</td>\n",
       "      <td>0</td>\n",
       "      <td>0</td>\n",
       "      <td>0</td>\n",
       "      <td>0</td>\n",
       "      <td>0</td>\n",
       "      <td>0</td>\n",
       "      <td>0</td>\n",
       "      <td>0</td>\n",
       "      <td>0</td>\n",
       "      <td>0</td>\n",
       "      <td>0</td>\n",
       "      <td>0</td>\n",
       "      <td>0</td>\n",
       "      <td>0</td>\n",
       "      <td>0</td>\n",
       "      <td>0</td>\n",
       "      <td>0</td>\n",
       "      <td>0</td>\n",
       "      <td>1</td>\n",
       "      <td>0</td>\n",
       "      <td>0</td>\n",
       "    </tr>\n",
       "    <tr>\n",
       "      <th>5794</th>\n",
       "      <td>990.0</td>\n",
       "      <td>2.0</td>\n",
       "      <td>34.0</td>\n",
       "      <td>113649.0</td>\n",
       "      <td>12785767</td>\n",
       "      <td>0.0</td>\n",
       "      <td>0</td>\n",
       "      <td>0</td>\n",
       "      <td>3</td>\n",
       "      <td>1</td>\n",
       "      <td>0</td>\n",
       "      <td>176.0</td>\n",
       "      <td>1074.000000</td>\n",
       "      <td>1208542</td>\n",
       "      <td>15</td>\n",
       "      <td>1314</td>\n",
       "      <td>0.753425</td>\n",
       "      <td>33660.0</td>\n",
       "      <td>2.813307e-05</td>\n",
       "      <td>80.42</td>\n",
       "      <td>3</td>\n",
       "      <td>3006.0</td>\n",
       "      <td>0</td>\n",
       "      <td>0</td>\n",
       "      <td>0</td>\n",
       "      <td>0</td>\n",
       "      <td>0</td>\n",
       "      <td>1</td>\n",
       "      <td>0</td>\n",
       "      <td>0</td>\n",
       "      <td>0</td>\n",
       "      <td>0</td>\n",
       "      <td>0</td>\n",
       "      <td>0</td>\n",
       "      <td>0</td>\n",
       "      <td>0</td>\n",
       "      <td>0</td>\n",
       "      <td>0</td>\n",
       "      <td>0</td>\n",
       "      <td>0</td>\n",
       "      <td>0</td>\n",
       "      <td>0</td>\n",
       "      <td>0</td>\n",
       "      <td>0</td>\n",
       "      <td>0</td>\n",
       "      <td>0</td>\n",
       "      <td>0</td>\n",
       "      <td>0</td>\n",
       "      <td>0</td>\n",
       "      <td>0</td>\n",
       "      <td>0</td>\n",
       "      <td>0</td>\n",
       "      <td>0</td>\n",
       "      <td>0</td>\n",
       "    </tr>\n",
       "    <tr>\n",
       "      <th>3320</th>\n",
       "      <td>1069.0</td>\n",
       "      <td>3.0</td>\n",
       "      <td>277.0</td>\n",
       "      <td>187147.0</td>\n",
       "      <td>719211</td>\n",
       "      <td>0.0</td>\n",
       "      <td>0</td>\n",
       "      <td>0</td>\n",
       "      <td>2</td>\n",
       "      <td>2</td>\n",
       "      <td>0</td>\n",
       "      <td>40.0</td>\n",
       "      <td>1125.000000</td>\n",
       "      <td>2148271</td>\n",
       "      <td>22</td>\n",
       "      <td>6108</td>\n",
       "      <td>0.175016</td>\n",
       "      <td>296113.0</td>\n",
       "      <td>1.289409e-04</td>\n",
       "      <td>107.36</td>\n",
       "      <td>1</td>\n",
       "      <td>13986.0</td>\n",
       "      <td>0</td>\n",
       "      <td>0</td>\n",
       "      <td>0</td>\n",
       "      <td>0</td>\n",
       "      <td>0</td>\n",
       "      <td>0</td>\n",
       "      <td>0</td>\n",
       "      <td>0</td>\n",
       "      <td>0</td>\n",
       "      <td>0</td>\n",
       "      <td>0</td>\n",
       "      <td>0</td>\n",
       "      <td>0</td>\n",
       "      <td>0</td>\n",
       "      <td>0</td>\n",
       "      <td>0</td>\n",
       "      <td>0</td>\n",
       "      <td>0</td>\n",
       "      <td>0</td>\n",
       "      <td>0</td>\n",
       "      <td>0</td>\n",
       "      <td>0</td>\n",
       "      <td>0</td>\n",
       "      <td>0</td>\n",
       "      <td>1</td>\n",
       "      <td>0</td>\n",
       "      <td>0</td>\n",
       "      <td>0</td>\n",
       "      <td>0</td>\n",
       "      <td>0</td>\n",
       "      <td>0</td>\n",
       "      <td>0</td>\n",
       "    </tr>\n",
       "    <tr>\n",
       "      <th>2588</th>\n",
       "      <td>169.0</td>\n",
       "      <td>2.0</td>\n",
       "      <td>113.0</td>\n",
       "      <td>188113.0</td>\n",
       "      <td>6989781</td>\n",
       "      <td>0.0</td>\n",
       "      <td>0</td>\n",
       "      <td>0</td>\n",
       "      <td>7</td>\n",
       "      <td>2</td>\n",
       "      <td>0</td>\n",
       "      <td>122.0</td>\n",
       "      <td>1251.000000</td>\n",
       "      <td>415215</td>\n",
       "      <td>2</td>\n",
       "      <td>685</td>\n",
       "      <td>0.246715</td>\n",
       "      <td>19097.0</td>\n",
       "      <td>2.721482e-04</td>\n",
       "      <td>67.15</td>\n",
       "      <td>5</td>\n",
       "      <td>1601.0</td>\n",
       "      <td>0</td>\n",
       "      <td>0</td>\n",
       "      <td>0</td>\n",
       "      <td>0</td>\n",
       "      <td>0</td>\n",
       "      <td>0</td>\n",
       "      <td>0</td>\n",
       "      <td>0</td>\n",
       "      <td>0</td>\n",
       "      <td>0</td>\n",
       "      <td>0</td>\n",
       "      <td>0</td>\n",
       "      <td>0</td>\n",
       "      <td>0</td>\n",
       "      <td>0</td>\n",
       "      <td>0</td>\n",
       "      <td>0</td>\n",
       "      <td>0</td>\n",
       "      <td>0</td>\n",
       "      <td>0</td>\n",
       "      <td>0</td>\n",
       "      <td>0</td>\n",
       "      <td>0</td>\n",
       "      <td>0</td>\n",
       "      <td>0</td>\n",
       "      <td>0</td>\n",
       "      <td>0</td>\n",
       "      <td>0</td>\n",
       "      <td>0</td>\n",
       "      <td>0</td>\n",
       "      <td>1</td>\n",
       "      <td>0</td>\n",
       "    </tr>\n",
       "    <tr>\n",
       "      <th>3715</th>\n",
       "      <td>1663.0</td>\n",
       "      <td>0.0</td>\n",
       "      <td>7.0</td>\n",
       "      <td>187265.0</td>\n",
       "      <td>3958349</td>\n",
       "      <td>0.0</td>\n",
       "      <td>1</td>\n",
       "      <td>0</td>\n",
       "      <td>2</td>\n",
       "      <td>2</td>\n",
       "      <td>0</td>\n",
       "      <td>254.0</td>\n",
       "      <td>1404.000000</td>\n",
       "      <td>516092</td>\n",
       "      <td>70</td>\n",
       "      <td>1126</td>\n",
       "      <td>1.476909</td>\n",
       "      <td>11641.0</td>\n",
       "      <td>1.356347e-05</td>\n",
       "      <td>82.77</td>\n",
       "      <td>5</td>\n",
       "      <td>2666.0</td>\n",
       "      <td>0</td>\n",
       "      <td>0</td>\n",
       "      <td>0</td>\n",
       "      <td>0</td>\n",
       "      <td>0</td>\n",
       "      <td>0</td>\n",
       "      <td>0</td>\n",
       "      <td>0</td>\n",
       "      <td>0</td>\n",
       "      <td>0</td>\n",
       "      <td>0</td>\n",
       "      <td>0</td>\n",
       "      <td>0</td>\n",
       "      <td>0</td>\n",
       "      <td>0</td>\n",
       "      <td>0</td>\n",
       "      <td>0</td>\n",
       "      <td>0</td>\n",
       "      <td>1</td>\n",
       "      <td>0</td>\n",
       "      <td>0</td>\n",
       "      <td>0</td>\n",
       "      <td>0</td>\n",
       "      <td>0</td>\n",
       "      <td>0</td>\n",
       "      <td>0</td>\n",
       "      <td>0</td>\n",
       "      <td>0</td>\n",
       "      <td>0</td>\n",
       "      <td>0</td>\n",
       "      <td>0</td>\n",
       "      <td>0</td>\n",
       "    </tr>\n",
       "    <tr>\n",
       "      <th>1522</th>\n",
       "      <td>5490.0</td>\n",
       "      <td>0.0</td>\n",
       "      <td>5.0</td>\n",
       "      <td>187791.0</td>\n",
       "      <td>10831262</td>\n",
       "      <td>0.0</td>\n",
       "      <td>1</td>\n",
       "      <td>1</td>\n",
       "      <td>1</td>\n",
       "      <td>1</td>\n",
       "      <td>0</td>\n",
       "      <td>49.0</td>\n",
       "      <td>1363.871276</td>\n",
       "      <td>2860009</td>\n",
       "      <td>37</td>\n",
       "      <td>2589</td>\n",
       "      <td>2.120510</td>\n",
       "      <td>27450.0</td>\n",
       "      <td>1.748246e-06</td>\n",
       "      <td>250.88</td>\n",
       "      <td>1</td>\n",
       "      <td>5948.0</td>\n",
       "      <td>0</td>\n",
       "      <td>0</td>\n",
       "      <td>0</td>\n",
       "      <td>0</td>\n",
       "      <td>0</td>\n",
       "      <td>0</td>\n",
       "      <td>0</td>\n",
       "      <td>0</td>\n",
       "      <td>0</td>\n",
       "      <td>0</td>\n",
       "      <td>0</td>\n",
       "      <td>0</td>\n",
       "      <td>0</td>\n",
       "      <td>0</td>\n",
       "      <td>0</td>\n",
       "      <td>0</td>\n",
       "      <td>0</td>\n",
       "      <td>0</td>\n",
       "      <td>0</td>\n",
       "      <td>0</td>\n",
       "      <td>0</td>\n",
       "      <td>0</td>\n",
       "      <td>0</td>\n",
       "      <td>0</td>\n",
       "      <td>0</td>\n",
       "      <td>0</td>\n",
       "      <td>1</td>\n",
       "      <td>0</td>\n",
       "      <td>0</td>\n",
       "      <td>0</td>\n",
       "      <td>0</td>\n",
       "      <td>0</td>\n",
       "    </tr>\n",
       "    <tr>\n",
       "      <th>4314</th>\n",
       "      <td>1731.0</td>\n",
       "      <td>2.0</td>\n",
       "      <td>42.0</td>\n",
       "      <td>189541.0</td>\n",
       "      <td>4509673</td>\n",
       "      <td>0.0</td>\n",
       "      <td>0</td>\n",
       "      <td>0</td>\n",
       "      <td>4</td>\n",
       "      <td>1</td>\n",
       "      <td>0</td>\n",
       "      <td>86.0</td>\n",
       "      <td>1592.000000</td>\n",
       "      <td>794128</td>\n",
       "      <td>10</td>\n",
       "      <td>819</td>\n",
       "      <td>2.113553</td>\n",
       "      <td>72702.0</td>\n",
       "      <td>5.288820e-05</td>\n",
       "      <td>87.09</td>\n",
       "      <td>3</td>\n",
       "      <td>1964.0</td>\n",
       "      <td>0</td>\n",
       "      <td>0</td>\n",
       "      <td>0</td>\n",
       "      <td>0</td>\n",
       "      <td>0</td>\n",
       "      <td>0</td>\n",
       "      <td>0</td>\n",
       "      <td>1</td>\n",
       "      <td>0</td>\n",
       "      <td>0</td>\n",
       "      <td>0</td>\n",
       "      <td>0</td>\n",
       "      <td>0</td>\n",
       "      <td>0</td>\n",
       "      <td>0</td>\n",
       "      <td>0</td>\n",
       "      <td>0</td>\n",
       "      <td>0</td>\n",
       "      <td>0</td>\n",
       "      <td>0</td>\n",
       "      <td>0</td>\n",
       "      <td>0</td>\n",
       "      <td>0</td>\n",
       "      <td>0</td>\n",
       "      <td>0</td>\n",
       "      <td>0</td>\n",
       "      <td>0</td>\n",
       "      <td>0</td>\n",
       "      <td>0</td>\n",
       "      <td>0</td>\n",
       "      <td>0</td>\n",
       "      <td>0</td>\n",
       "    </tr>\n",
       "    <tr>\n",
       "      <th>2055</th>\n",
       "      <td>10772.0</td>\n",
       "      <td>0.0</td>\n",
       "      <td>6.0</td>\n",
       "      <td>186338.0</td>\n",
       "      <td>10094682</td>\n",
       "      <td>0.0</td>\n",
       "      <td>1</td>\n",
       "      <td>1</td>\n",
       "      <td>1</td>\n",
       "      <td>1</td>\n",
       "      <td>0</td>\n",
       "      <td>24.0</td>\n",
       "      <td>1385.000000</td>\n",
       "      <td>8909081</td>\n",
       "      <td>24</td>\n",
       "      <td>7193</td>\n",
       "      <td>1.497567</td>\n",
       "      <td>64632.0</td>\n",
       "      <td>6.734701e-07</td>\n",
       "      <td>117.09</td>\n",
       "      <td>1</td>\n",
       "      <td>16444.0</td>\n",
       "      <td>0</td>\n",
       "      <td>0</td>\n",
       "      <td>0</td>\n",
       "      <td>0</td>\n",
       "      <td>0</td>\n",
       "      <td>0</td>\n",
       "      <td>0</td>\n",
       "      <td>0</td>\n",
       "      <td>0</td>\n",
       "      <td>0</td>\n",
       "      <td>0</td>\n",
       "      <td>0</td>\n",
       "      <td>0</td>\n",
       "      <td>0</td>\n",
       "      <td>0</td>\n",
       "      <td>0</td>\n",
       "      <td>1</td>\n",
       "      <td>0</td>\n",
       "      <td>0</td>\n",
       "      <td>0</td>\n",
       "      <td>0</td>\n",
       "      <td>0</td>\n",
       "      <td>0</td>\n",
       "      <td>0</td>\n",
       "      <td>0</td>\n",
       "      <td>0</td>\n",
       "      <td>0</td>\n",
       "      <td>0</td>\n",
       "      <td>0</td>\n",
       "      <td>0</td>\n",
       "      <td>0</td>\n",
       "      <td>0</td>\n",
       "    </tr>\n",
       "    <tr>\n",
       "      <th>8024</th>\n",
       "      <td>93.0</td>\n",
       "      <td>3.0</td>\n",
       "      <td>703.0</td>\n",
       "      <td>186338.0</td>\n",
       "      <td>2468914</td>\n",
       "      <td>0.0</td>\n",
       "      <td>0</td>\n",
       "      <td>0</td>\n",
       "      <td>5</td>\n",
       "      <td>2</td>\n",
       "      <td>0</td>\n",
       "      <td>0.0</td>\n",
       "      <td>1125.000000</td>\n",
       "      <td>8909081</td>\n",
       "      <td>24</td>\n",
       "      <td>7193</td>\n",
       "      <td>0.012929</td>\n",
       "      <td>65379.0</td>\n",
       "      <td>7.890825e-05</td>\n",
       "      <td>117.09</td>\n",
       "      <td>1</td>\n",
       "      <td>16444.0</td>\n",
       "      <td>0</td>\n",
       "      <td>0</td>\n",
       "      <td>0</td>\n",
       "      <td>0</td>\n",
       "      <td>0</td>\n",
       "      <td>0</td>\n",
       "      <td>0</td>\n",
       "      <td>0</td>\n",
       "      <td>0</td>\n",
       "      <td>0</td>\n",
       "      <td>0</td>\n",
       "      <td>0</td>\n",
       "      <td>0</td>\n",
       "      <td>0</td>\n",
       "      <td>0</td>\n",
       "      <td>0</td>\n",
       "      <td>1</td>\n",
       "      <td>0</td>\n",
       "      <td>0</td>\n",
       "      <td>0</td>\n",
       "      <td>0</td>\n",
       "      <td>0</td>\n",
       "      <td>0</td>\n",
       "      <td>0</td>\n",
       "      <td>0</td>\n",
       "      <td>0</td>\n",
       "      <td>0</td>\n",
       "      <td>0</td>\n",
       "      <td>0</td>\n",
       "      <td>0</td>\n",
       "      <td>0</td>\n",
       "      <td>0</td>\n",
       "    </tr>\n",
       "  </tbody>\n",
       "</table>\n",
       "</div>"
      ],
      "text/plain": [
       "      ranking  price_range  number_of_rev    url_ta     id_ta  rating  \\\n",
       "9046   8762.0          1.0           10.0  186338.0  10815566     0.0   \n",
       "4201   1033.0          0.0            0.0  274856.0  12030280     0.0   \n",
       "5794    990.0          2.0           34.0  113649.0  12785767     0.0   \n",
       "3320   1069.0          3.0          277.0  187147.0    719211     0.0   \n",
       "2588    169.0          2.0          113.0  188113.0   6989781     0.0   \n",
       "3715   1663.0          0.0            7.0  187265.0   3958349     0.0   \n",
       "1522   5490.0          0.0            5.0  187791.0  10831262     0.0   \n",
       "4314   1731.0          2.0           42.0  189541.0   4509673     0.0   \n",
       "2055  10772.0          0.0            6.0  186338.0  10094682     0.0   \n",
       "8024     93.0          3.0          703.0  186338.0   2468914     0.0   \n",
       "\n",
       "      price_range_is_NAN  cuisine_style_is_NAN  number_of_cuisines  \\\n",
       "9046                   0                     0                   5   \n",
       "4201                   1                     1                   1   \n",
       "5794                   0                     0                   3   \n",
       "3320                   0                     0                   2   \n",
       "2588                   0                     0                   7   \n",
       "3715                   1                     0                   2   \n",
       "1522                   1                     1                   1   \n",
       "4314                   0                     0                   4   \n",
       "2055                   1                     1                   1   \n",
       "8024                   0                     0                   5   \n",
       "\n",
       "      most_common_cuisine  top_unique_cuisine  days_between_reviews  \\\n",
       "9046                    1                   0                  35.0   \n",
       "4201                    1                   0                   0.0   \n",
       "5794                    1                   0                 176.0   \n",
       "3320                    2                   0                  40.0   \n",
       "2588                    2                   0                 122.0   \n",
       "3715                    2                   0                 254.0   \n",
       "1522                    1                   0                  49.0   \n",
       "4314                    1                   0                  86.0   \n",
       "2055                    1                   0                  24.0   \n",
       "8024                    2                   0                   0.0   \n",
       "\n",
       "      days_tillnow  population  purchasing_power  rest_city_count  \\\n",
       "9046   1254.000000     8909081                24             7193   \n",
       "4201   1482.000000     1793579                29              925   \n",
       "5794   1074.000000     1208542                15             1314   \n",
       "3320   1125.000000     2148271                22             6108   \n",
       "2588   1251.000000      415215                 2              685   \n",
       "3715   1404.000000      516092                70             1126   \n",
       "1522   1363.871276     2860009                37             2589   \n",
       "4314   1592.000000      794128                10              819   \n",
       "2055   1385.000000     8909081                24             7193   \n",
       "8024   1125.000000     8909081                24             7193   \n",
       "\n",
       "      city_ranking  ranking_rev_count  reviews_per_city_pop  \\\n",
       "9046      1.218129            87620.0          1.122450e-06   \n",
       "4201      1.116757                0.0          0.000000e+00   \n",
       "5794      0.753425            33660.0          2.813307e-05   \n",
       "3320      0.175016           296113.0          1.289409e-04   \n",
       "2588      0.246715            19097.0          2.721482e-04   \n",
       "3715      1.476909            11641.0          1.356347e-05   \n",
       "1522      2.120510            27450.0          1.748246e-06   \n",
       "4314      2.113553            72702.0          5.288820e-05   \n",
       "2055      1.497567            64632.0          6.734701e-07   \n",
       "8024      0.012929            65379.0          7.890825e-05   \n",
       "\n",
       "      mean_rev_per_city  tourist_attract  rating_max_per_city  city_Amsterdam  \\\n",
       "9046             117.09                1              16444.0               0   \n",
       "4201              56.84                3               2154.0               0   \n",
       "5794              80.42                3               3006.0               0   \n",
       "3320             107.36                1              13986.0               0   \n",
       "2588              67.15                5               1601.0               0   \n",
       "3715              82.77                5               2666.0               0   \n",
       "1522             250.88                1               5948.0               0   \n",
       "4314              87.09                3               1964.0               0   \n",
       "2055             117.09                1              16444.0               0   \n",
       "8024             117.09                1              16444.0               0   \n",
       "\n",
       "      city_Athens  city_Barcelona  city_Berlin  city_Bratislava  \\\n",
       "9046            0               0            0                0   \n",
       "4201            0               0            0                0   \n",
       "5794            0               0            0                0   \n",
       "3320            0               0            0                0   \n",
       "2588            0               0            0                0   \n",
       "3715            0               0            0                0   \n",
       "1522            0               0            0                0   \n",
       "4314            0               0            0                0   \n",
       "2055            0               0            0                0   \n",
       "8024            0               0            0                0   \n",
       "\n",
       "      city_Brussels  city_Budapest  city_Copenhagen  city_Dublin  \\\n",
       "9046              0              0                0            0   \n",
       "4201              0              0                0            0   \n",
       "5794              1              0                0            0   \n",
       "3320              0              0                0            0   \n",
       "2588              0              0                0            0   \n",
       "3715              0              0                0            0   \n",
       "1522              0              0                0            0   \n",
       "4314              0              0                1            0   \n",
       "2055              0              0                0            0   \n",
       "8024              0              0                0            0   \n",
       "\n",
       "      city_Edinburgh  city_Geneva  city_Hamburg  city_Helsinki  city_Krakow  \\\n",
       "9046               0            0             0              0            0   \n",
       "4201               0            0             0              0            0   \n",
       "5794               0            0             0              0            0   \n",
       "3320               0            0             0              0            0   \n",
       "2588               0            0             0              0            0   \n",
       "3715               0            0             0              0            0   \n",
       "1522               0            0             0              0            0   \n",
       "4314               0            0             0              0            0   \n",
       "2055               0            0             0              0            0   \n",
       "8024               0            0             0              0            0   \n",
       "\n",
       "      city_Lisbon  city_Ljubljana  city_London  city_Luxembourg  city_Lyon  \\\n",
       "9046            0               0            1                0          0   \n",
       "4201            0               0            0                0          0   \n",
       "5794            0               0            0                0          0   \n",
       "3320            0               0            0                0          0   \n",
       "2588            0               0            0                0          0   \n",
       "3715            0               0            0                0          1   \n",
       "1522            0               0            0                0          0   \n",
       "4314            0               0            0                0          0   \n",
       "2055            0               0            1                0          0   \n",
       "8024            0               0            1                0          0   \n",
       "\n",
       "      city_Madrid  city_Milan  city_Munich  city_Oporto  city_Oslo  \\\n",
       "9046            0           0            0            0          0   \n",
       "4201            0           0            0            0          0   \n",
       "5794            0           0            0            0          0   \n",
       "3320            0           0            0            0          0   \n",
       "2588            0           0            0            0          0   \n",
       "3715            0           0            0            0          0   \n",
       "1522            0           0            0            0          0   \n",
       "4314            0           0            0            0          0   \n",
       "2055            0           0            0            0          0   \n",
       "8024            0           0            0            0          0   \n",
       "\n",
       "      city_Paris  city_Prague  city_Rome  city_Stockholm  city_Vienna  \\\n",
       "9046           0            0          0               0            0   \n",
       "4201           0            0          0               0            0   \n",
       "5794           0            0          0               0            0   \n",
       "3320           1            0          0               0            0   \n",
       "2588           0            0          0               0            0   \n",
       "3715           0            0          0               0            0   \n",
       "1522           0            0          1               0            0   \n",
       "4314           0            0          0               0            0   \n",
       "2055           0            0          0               0            0   \n",
       "8024           0            0          0               0            0   \n",
       "\n",
       "      city_Warsaw  city_Zurich  city_nan  \n",
       "9046            0            0         0  \n",
       "4201            1            0         0  \n",
       "5794            0            0         0  \n",
       "3320            0            0         0  \n",
       "2588            0            1         0  \n",
       "3715            0            0         0  \n",
       "1522            0            0         0  \n",
       "4314            0            0         0  \n",
       "2055            0            0         0  \n",
       "8024            0            0         0  "
      ]
     },
     "execution_count": 122,
     "metadata": {},
     "output_type": "execute_result"
    }
   ],
   "source": [
    "test_data.sample(10)"
   ]
  },
  {
   "cell_type": "code",
   "execution_count": 123,
   "metadata": {},
   "outputs": [],
   "source": [
    "test_data = test_data.drop(['rating'], axis=1)"
   ]
  },
  {
   "cell_type": "code",
   "execution_count": 124,
   "metadata": {},
   "outputs": [
    {
     "data": {
      "text/html": [
       "<div>\n",
       "<style scoped>\n",
       "    .dataframe tbody tr th:only-of-type {\n",
       "        vertical-align: middle;\n",
       "    }\n",
       "\n",
       "    .dataframe tbody tr th {\n",
       "        vertical-align: top;\n",
       "    }\n",
       "\n",
       "    .dataframe thead th {\n",
       "        text-align: right;\n",
       "    }\n",
       "</style>\n",
       "<table border=\"1\" class=\"dataframe\">\n",
       "  <thead>\n",
       "    <tr style=\"text-align: right;\">\n",
       "      <th></th>\n",
       "      <th>Restaurant_id</th>\n",
       "      <th>Rating</th>\n",
       "    </tr>\n",
       "  </thead>\n",
       "  <tbody>\n",
       "    <tr>\n",
       "      <th>0</th>\n",
       "      <td>id_0</td>\n",
       "      <td>2.0</td>\n",
       "    </tr>\n",
       "    <tr>\n",
       "      <th>1</th>\n",
       "      <td>id_1</td>\n",
       "      <td>2.5</td>\n",
       "    </tr>\n",
       "    <tr>\n",
       "      <th>2</th>\n",
       "      <td>id_2</td>\n",
       "      <td>4.0</td>\n",
       "    </tr>\n",
       "    <tr>\n",
       "      <th>3</th>\n",
       "      <td>id_3</td>\n",
       "      <td>1.0</td>\n",
       "    </tr>\n",
       "    <tr>\n",
       "      <th>4</th>\n",
       "      <td>id_4</td>\n",
       "      <td>4.0</td>\n",
       "    </tr>\n",
       "    <tr>\n",
       "      <th>...</th>\n",
       "      <td>...</td>\n",
       "      <td>...</td>\n",
       "    </tr>\n",
       "    <tr>\n",
       "      <th>9995</th>\n",
       "      <td>id_9995</td>\n",
       "      <td>3.0</td>\n",
       "    </tr>\n",
       "    <tr>\n",
       "      <th>9996</th>\n",
       "      <td>id_9996</td>\n",
       "      <td>1.5</td>\n",
       "    </tr>\n",
       "    <tr>\n",
       "      <th>9997</th>\n",
       "      <td>id_9997</td>\n",
       "      <td>4.5</td>\n",
       "    </tr>\n",
       "    <tr>\n",
       "      <th>9998</th>\n",
       "      <td>id_9998</td>\n",
       "      <td>1.0</td>\n",
       "    </tr>\n",
       "    <tr>\n",
       "      <th>9999</th>\n",
       "      <td>id_9999</td>\n",
       "      <td>2.5</td>\n",
       "    </tr>\n",
       "  </tbody>\n",
       "</table>\n",
       "<p>10000 rows × 2 columns</p>\n",
       "</div>"
      ],
      "text/plain": [
       "     Restaurant_id  Rating\n",
       "0             id_0     2.0\n",
       "1             id_1     2.5\n",
       "2             id_2     4.0\n",
       "3             id_3     1.0\n",
       "4             id_4     4.0\n",
       "...            ...     ...\n",
       "9995       id_9995     3.0\n",
       "9996       id_9996     1.5\n",
       "9997       id_9997     4.5\n",
       "9998       id_9998     1.0\n",
       "9999       id_9999     2.5\n",
       "\n",
       "[10000 rows x 2 columns]"
      ]
     },
     "execution_count": 124,
     "metadata": {},
     "output_type": "execute_result"
    }
   ],
   "source": [
    "sample_submission"
   ]
  },
  {
   "cell_type": "code",
   "execution_count": 125,
   "metadata": {},
   "outputs": [
    {
     "name": "stderr",
     "output_type": "stream",
     "text": [
      "[Parallel(n_jobs=4)]: Using backend ThreadingBackend with 4 concurrent workers.\n",
      "[Parallel(n_jobs=4)]: Done  42 tasks      | elapsed:    0.0s\n",
      "[Parallel(n_jobs=4)]: Done 100 out of 100 | elapsed:    0.1s finished\n"
     ]
    }
   ],
   "source": [
    "predict_submission = model.predict(test_data)"
   ]
  },
  {
   "cell_type": "code",
   "execution_count": 126,
   "metadata": {},
   "outputs": [],
   "source": [
    "predict_submission = np.round(predict_submission * 2)/2"
   ]
  },
  {
   "cell_type": "code",
   "execution_count": 127,
   "metadata": {},
   "outputs": [
    {
     "data": {
      "text/plain": [
       "array([3. , 4. , 4.5, ..., 3. , 4.5, 4.5])"
      ]
     },
     "execution_count": 127,
     "metadata": {},
     "output_type": "execute_result"
    }
   ],
   "source": [
    "predict_submission"
   ]
  },
  {
   "cell_type": "code",
   "execution_count": 128,
   "metadata": {},
   "outputs": [
    {
     "data": {
      "text/html": [
       "<div>\n",
       "<style scoped>\n",
       "    .dataframe tbody tr th:only-of-type {\n",
       "        vertical-align: middle;\n",
       "    }\n",
       "\n",
       "    .dataframe tbody tr th {\n",
       "        vertical-align: top;\n",
       "    }\n",
       "\n",
       "    .dataframe thead th {\n",
       "        text-align: right;\n",
       "    }\n",
       "</style>\n",
       "<table border=\"1\" class=\"dataframe\">\n",
       "  <thead>\n",
       "    <tr style=\"text-align: right;\">\n",
       "      <th></th>\n",
       "      <th>Restaurant_id</th>\n",
       "      <th>Rating</th>\n",
       "    </tr>\n",
       "  </thead>\n",
       "  <tbody>\n",
       "    <tr>\n",
       "      <th>0</th>\n",
       "      <td>id_0</td>\n",
       "      <td>3.0</td>\n",
       "    </tr>\n",
       "    <tr>\n",
       "      <th>1</th>\n",
       "      <td>id_1</td>\n",
       "      <td>4.0</td>\n",
       "    </tr>\n",
       "    <tr>\n",
       "      <th>2</th>\n",
       "      <td>id_2</td>\n",
       "      <td>4.5</td>\n",
       "    </tr>\n",
       "    <tr>\n",
       "      <th>3</th>\n",
       "      <td>id_3</td>\n",
       "      <td>4.5</td>\n",
       "    </tr>\n",
       "    <tr>\n",
       "      <th>4</th>\n",
       "      <td>id_4</td>\n",
       "      <td>4.5</td>\n",
       "    </tr>\n",
       "    <tr>\n",
       "      <th>5</th>\n",
       "      <td>id_5</td>\n",
       "      <td>4.5</td>\n",
       "    </tr>\n",
       "    <tr>\n",
       "      <th>6</th>\n",
       "      <td>id_6</td>\n",
       "      <td>2.5</td>\n",
       "    </tr>\n",
       "    <tr>\n",
       "      <th>7</th>\n",
       "      <td>id_7</td>\n",
       "      <td>2.0</td>\n",
       "    </tr>\n",
       "    <tr>\n",
       "      <th>8</th>\n",
       "      <td>id_8</td>\n",
       "      <td>4.0</td>\n",
       "    </tr>\n",
       "    <tr>\n",
       "      <th>9</th>\n",
       "      <td>id_9</td>\n",
       "      <td>4.5</td>\n",
       "    </tr>\n",
       "  </tbody>\n",
       "</table>\n",
       "</div>"
      ],
      "text/plain": [
       "  Restaurant_id  Rating\n",
       "0          id_0     3.0\n",
       "1          id_1     4.0\n",
       "2          id_2     4.5\n",
       "3          id_3     4.5\n",
       "4          id_4     4.5\n",
       "5          id_5     4.5\n",
       "6          id_6     2.5\n",
       "7          id_7     2.0\n",
       "8          id_8     4.0\n",
       "9          id_9     4.5"
      ]
     },
     "execution_count": 128,
     "metadata": {},
     "output_type": "execute_result"
    }
   ],
   "source": [
    "sample_submission['Rating'] = predict_submission\n",
    "sample_submission.to_csv('submission.csv', index=False)\n",
    "sample_submission.head(10)"
   ]
  },
  {
   "cell_type": "code",
   "execution_count": null,
   "metadata": {},
   "outputs": [],
   "source": []
  }
 ],
 "metadata": {
  "kernelspec": {
   "display_name": "Python 3",
   "language": "python",
   "name": "python3"
  },
  "language_info": {
   "codemirror_mode": {
    "name": "ipython",
    "version": 3
   },
   "file_extension": ".py",
   "mimetype": "text/x-python",
   "name": "python",
   "nbconvert_exporter": "python",
   "pygments_lexer": "ipython3",
   "version": "3.8.3"
  }
 },
 "nbformat": 4,
 "nbformat_minor": 4
}
