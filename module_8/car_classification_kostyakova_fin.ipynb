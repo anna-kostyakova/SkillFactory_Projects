{
  "metadata": {
    "kernelspec": {
      "language": "python",
      "display_name": "Python 3",
      "name": "python3"
    },
    "language_info": {
      "name": "python",
      "version": "3.7.12",
      "mimetype": "text/x-python",
      "codemirror_mode": {
        "name": "ipython",
        "version": 3
      },
      "pygments_lexer": "ipython3",
      "nbconvert_exporter": "python",
      "file_extension": ".py"
    },
    "colab": {
      "name": "car-classification-kostyakova-2.ipynb",
      "provenance": []
    }
  },
  "nbformat_minor": 0,
  "nbformat": 4,
  "cells": [
    {
      "cell_type": "markdown",
      "source": [
        "# Ford vs Ferrari project\n",
        "by Anna Kostyakova\n",
        "\n",
        "Цель проекта - построить модель классификации изображений автомобилей."
      ],
      "metadata": {
        "id": "hNf6V7y2-XoF"
      }
    },
    {
      "cell_type": "markdown",
      "source": [
        "# IMPORT"
      ],
      "metadata": {
        "id": "UitnSsIq-XoK"
      }
    },
    {
      "cell_type": "code",
      "source": [
        "# Загружаем ImageDataAugmentor\n",
        "!pip install git+https://github.com/mjkvaak/ImageDataAugmentor"
      ],
      "metadata": {
        "execution": {
          "iopub.status.busy": "2021-12-27T22:12:22.618016Z",
          "iopub.execute_input": "2021-12-27T22:12:22.618355Z",
          "iopub.status.idle": "2021-12-27T22:12:34.981234Z",
          "shell.execute_reply.started": "2021-12-27T22:12:22.618261Z",
          "shell.execute_reply": "2021-12-27T22:12:34.980430Z"
        },
        "trusted": true,
        "id": "fQ4hggV7-XoL"
      },
      "execution_count": null,
      "outputs": []
    },
    {
      "cell_type": "code",
      "source": [
        "import numpy as np\n",
        "import pandas as pd\n",
        "import matplotlib.pyplot as plt\n",
        "import seaborn as sns\n",
        "import pickle\n",
        "import zipfile\n",
        "import csv\n",
        "import sys\n",
        "import os\n",
        "\n",
        "import tensorflow as tf\n",
        "from tensorflow import keras\n",
        "from tensorflow.keras.layers import Dense\n",
        "from tensorflow.keras.models import Sequential\n",
        "from tensorflow.keras.backend import clear_session\n",
        "from tensorflow.keras.preprocessing import image\n",
        "from tensorflow.keras.preprocessing.image import ImageDataGenerator\n",
        "from tensorflow.keras.callbacks import LearningRateScheduler, ModelCheckpoint\n",
        "from tensorflow.keras.callbacks import Callback, EarlyStopping, ReduceLROnPlateau\n",
        "from tensorflow.keras.regularizers import l2\n",
        "from tensorflow.keras import optimizers\n",
        "\n",
        "import keras.models as M\n",
        "import keras.layers as L\n",
        "import keras.backend as K\n",
        "\n",
        "from ImageDataAugmentor.image_data_augmentor import *\n",
        "import albumentations as A\n",
        "\n",
        "from tensorflow.keras.applications.xception import Xception\n",
        "from tensorflow.keras.applications.inception_v3 import InceptionV3\n",
        "from tensorflow.keras.applications.efficientnet import EfficientNetB7, EfficientNetB5\n",
        "from tensorflow.keras.layers import *\n",
        "\n",
        "from skimage import io\n",
        "\n",
        "import PIL\n",
        "from PIL import ImageOps, ImageFilter\n",
        "#увеличим дефолтный размер графиков\n",
        "from pylab import rcParams\n",
        "rcParams['figure.figsize'] = 10, 5\n",
        "#графики в svg выглядят более четкими\n",
        "%config InlineBackend.figure_format = 'svg' \n",
        "%matplotlib inline\n",
        "\n",
        "print(os.listdir(\"../input\"))\n",
        "print('Python       :', sys.version.split('\\n')[0])\n",
        "print('Numpy        :', np.__version__)\n",
        "print('Tensorflow   :', tf.__version__)\n",
        "print('Keras        :', tf.keras.__version__)"
      ],
      "metadata": {
        "execution": {
          "iopub.status.busy": "2021-12-27T22:12:34.984892Z",
          "iopub.execute_input": "2021-12-27T22:12:34.985105Z",
          "iopub.status.idle": "2021-12-27T22:12:41.745040Z",
          "shell.execute_reply.started": "2021-12-27T22:12:34.985080Z",
          "shell.execute_reply": "2021-12-27T22:12:41.744335Z"
        },
        "trusted": true,
        "id": "n3JDqz3g-XoM"
      },
      "execution_count": null,
      "outputs": []
    },
    {
      "cell_type": "markdown",
      "source": [
        "# SETUP"
      ],
      "metadata": {
        "id": "L4sk3XTV-XoN"
      }
    },
    {
      "cell_type": "code",
      "source": [
        "# В setup выносим основные настройки: так удобнее их перебирать в дальнейшем.\n",
        "\n",
        "EPOCHS               = 12  # эпох на обучение\n",
        "BATCH_SIZE           = 24 # уменьшаем batch если сеть большая, иначе не поместится в память на GPU \n",
        "LR                   = 1e-3\n",
        "VAL_SPLIT            = 0.15 # сколько данных выделяем на тест = 15%\n",
        "\n",
        "CLASS_NUM            = 10  # количество классов в нашей задаче\n",
        "IMG_SIZE             = 336 # какого размера подаем изображения в сеть (было 224)\n",
        "IMG_CHANNELS         = 3   # у RGB 3 канала\n",
        "input_shape          = (IMG_SIZE, IMG_SIZE, IMG_CHANNELS)\n",
        "\n",
        "RANDOM_SEED = 42"
      ],
      "metadata": {
        "execution": {
          "iopub.status.busy": "2021-12-27T22:12:41.746244Z",
          "iopub.execute_input": "2021-12-27T22:12:41.746494Z",
          "iopub.status.idle": "2021-12-27T22:12:41.755595Z",
          "shell.execute_reply.started": "2021-12-27T22:12:41.746459Z",
          "shell.execute_reply": "2021-12-27T22:12:41.753481Z"
        },
        "trusted": true,
        "id": "oHpmNlm9-XoO"
      },
      "execution_count": null,
      "outputs": []
    },
    {
      "cell_type": "code",
      "source": [
        "for dirname, _, filenames in os.walk('/kaggle/input'):\n",
        "    for filename in filenames:\n",
        "        print(os.path.join(dirname, filename))"
      ],
      "metadata": {
        "execution": {
          "iopub.status.busy": "2021-12-27T22:12:41.757697Z",
          "iopub.execute_input": "2021-12-27T22:12:41.758277Z",
          "iopub.status.idle": "2021-12-27T22:12:41.773007Z",
          "shell.execute_reply.started": "2021-12-27T22:12:41.758240Z",
          "shell.execute_reply": "2021-12-27T22:12:41.772053Z"
        },
        "trusted": true,
        "id": "pKekP-tH-XoP"
      },
      "execution_count": null,
      "outputs": []
    },
    {
      "cell_type": "code",
      "source": [
        "DATA_PATH = '../input/sf-dl-car-classification/'\n",
        "PATH = \"../working/\" # рабочая директория"
      ],
      "metadata": {
        "execution": {
          "iopub.status.busy": "2021-12-27T22:12:41.774239Z",
          "iopub.execute_input": "2021-12-27T22:12:41.774570Z",
          "iopub.status.idle": "2021-12-27T22:12:41.779824Z",
          "shell.execute_reply.started": "2021-12-27T22:12:41.774535Z",
          "shell.execute_reply": "2021-12-27T22:12:41.779004Z"
        },
        "trusted": true,
        "id": "H9SPpfdF-XoP"
      },
      "execution_count": null,
      "outputs": []
    },
    {
      "cell_type": "markdown",
      "source": [
        "# DATA / EDA"
      ],
      "metadata": {
        "id": "Ywz1ktR8-XoQ"
      }
    },
    {
      "cell_type": "code",
      "source": [
        "# Импортируем данные\n",
        "\n",
        "train_df = pd.read_csv(DATA_PATH+\"train.csv\")\n",
        "sample_submission = pd.read_csv(DATA_PATH+\"sample-submission.csv\")\n",
        "\n",
        "# Посмотрим, что из себя представляет датасет train\n",
        "train_df.head()"
      ],
      "metadata": {
        "execution": {
          "iopub.status.busy": "2021-12-27T22:12:41.781356Z",
          "iopub.execute_input": "2021-12-27T22:12:41.781611Z",
          "iopub.status.idle": "2021-12-27T22:12:41.831718Z",
          "shell.execute_reply.started": "2021-12-27T22:12:41.781578Z",
          "shell.execute_reply": "2021-12-27T22:12:41.831059Z"
        },
        "trusted": true,
        "id": "lbysDn6Q-XoQ"
      },
      "execution_count": null,
      "outputs": []
    },
    {
      "cell_type": "code",
      "source": [
        "train_df.info()"
      ],
      "metadata": {
        "execution": {
          "iopub.status.busy": "2021-12-27T22:12:41.832796Z",
          "iopub.execute_input": "2021-12-27T22:12:41.833012Z",
          "iopub.status.idle": "2021-12-27T22:12:41.855686Z",
          "shell.execute_reply.started": "2021-12-27T22:12:41.832982Z",
          "shell.execute_reply": "2021-12-27T22:12:41.854896Z"
        },
        "trusted": true,
        "id": "um7zRZTb-XoR"
      },
      "execution_count": null,
      "outputs": []
    },
    {
      "cell_type": "markdown",
      "source": [
        "Пропусков не наблюдается."
      ],
      "metadata": {
        "id": "Z5sTBXbB-XoR"
      }
    },
    {
      "cell_type": "code",
      "source": [
        "# Посмотрим распределение данных.\n",
        "\n",
        "train_df.Category.value_counts()"
      ],
      "metadata": {
        "execution": {
          "iopub.status.busy": "2021-12-27T22:12:41.857010Z",
          "iopub.execute_input": "2021-12-27T22:12:41.857708Z",
          "iopub.status.idle": "2021-12-27T22:12:41.864807Z",
          "shell.execute_reply.started": "2021-12-27T22:12:41.857677Z",
          "shell.execute_reply": "2021-12-27T22:12:41.863990Z"
        },
        "trusted": true,
        "id": "yQeHOWoU-XoS"
      },
      "execution_count": null,
      "outputs": []
    },
    {
      "cell_type": "code",
      "source": [
        "train_df.Category.hist()"
      ],
      "metadata": {
        "execution": {
          "iopub.status.busy": "2021-12-27T22:12:41.866360Z",
          "iopub.execute_input": "2021-12-27T22:12:41.866909Z",
          "iopub.status.idle": "2021-12-27T22:12:42.107860Z",
          "shell.execute_reply.started": "2021-12-27T22:12:41.866873Z",
          "shell.execute_reply": "2021-12-27T22:12:42.107240Z"
        },
        "trusted": true,
        "id": "HTncxeZt-XoS"
      },
      "execution_count": null,
      "outputs": []
    },
    {
      "cell_type": "markdown",
      "source": [
        "В целом, данные распределены более менее равномерно."
      ],
      "metadata": {
        "id": "wAnKfmHx-XoS"
      }
    },
    {
      "cell_type": "code",
      "source": [
        "# На всякий случай, удостоверимся в количестве классов.\n",
        "\n",
        "train_df.Category.nunique()"
      ],
      "metadata": {
        "execution": {
          "iopub.status.busy": "2021-12-27T22:12:42.110487Z",
          "iopub.execute_input": "2021-12-27T22:12:42.110799Z",
          "iopub.status.idle": "2021-12-27T22:12:42.116554Z",
          "shell.execute_reply.started": "2021-12-27T22:12:42.110762Z",
          "shell.execute_reply": "2021-12-27T22:12:42.115634Z"
        },
        "trusted": true,
        "id": "qhnWsh8v-XoT"
      },
      "execution_count": null,
      "outputs": []
    },
    {
      "cell_type": "markdown",
      "source": [
        "Посмотрим, что из себя представляют изображения."
      ],
      "metadata": {
        "id": "MJNCyb_O-XoU"
      }
    },
    {
      "cell_type": "code",
      "source": [
        "print('Распаковываем картинки')\n",
        "\n",
        "for data_zip in ['train.zip', 'test.zip']:\n",
        "   with zipfile.ZipFile(DATA_PATH+data_zip,\"r\") as z:\n",
        "       z.extractall(PATH)\n",
        "        \n",
        "print(os.listdir(PATH))"
      ],
      "metadata": {
        "execution": {
          "iopub.status.busy": "2021-12-27T22:12:42.118068Z",
          "iopub.execute_input": "2021-12-27T22:12:42.118433Z",
          "iopub.status.idle": "2021-12-27T22:13:08.405768Z",
          "shell.execute_reply.started": "2021-12-27T22:12:42.118395Z",
          "shell.execute_reply": "2021-12-27T22:13:08.404895Z"
        },
        "trusted": true,
        "id": "sMv-PoWm-XoU"
      },
      "execution_count": null,
      "outputs": []
    },
    {
      "cell_type": "code",
      "source": [
        "print('Пример картинок (random sample)')\n",
        "plt.figure(figsize=(12,8))\n",
        "\n",
        "random_image = train_df.sample(n=9)\n",
        "random_image_paths = random_image['Id'].values\n",
        "random_image_cat = random_image['Category'].values\n",
        "\n",
        "for index, path in enumerate(random_image_paths):\n",
        "   im = PIL.Image.open(PATH+f'train/{random_image_cat[index]}/{path}')\n",
        "   plt.subplot(3,3, index+1)\n",
        "   plt.imshow(im)\n",
        "   plt.title('Class: '+str(random_image_cat[index]))\n",
        "   plt.axis('off')\n",
        "plt.show()"
      ],
      "metadata": {
        "execution": {
          "iopub.status.busy": "2021-12-27T22:13:08.407027Z",
          "iopub.execute_input": "2021-12-27T22:13:08.407453Z",
          "iopub.status.idle": "2021-12-27T22:13:09.207891Z",
          "shell.execute_reply.started": "2021-12-27T22:13:08.407413Z",
          "shell.execute_reply": "2021-12-27T22:13:09.207268Z"
        },
        "trusted": true,
        "id": "J7oRxlo9-XoV"
      },
      "execution_count": null,
      "outputs": []
    },
    {
      "cell_type": "code",
      "source": [
        "# Посмотрим на пример картинки и размер.\n",
        "\n",
        "image = PIL.Image.open(PATH+'/train/0/100380.jpg')\n",
        "imgplot = plt.imshow(image)\n",
        "plt.show()\n",
        "image.size"
      ],
      "metadata": {
        "execution": {
          "iopub.status.busy": "2021-12-27T22:13:09.208775Z",
          "iopub.execute_input": "2021-12-27T22:13:09.208990Z",
          "iopub.status.idle": "2021-12-27T22:13:09.457634Z",
          "shell.execute_reply.started": "2021-12-27T22:13:09.208959Z",
          "shell.execute_reply": "2021-12-27T22:13:09.456995Z"
        },
        "trusted": true,
        "id": "NadbPO9y-XoV"
      },
      "execution_count": null,
      "outputs": []
    },
    {
      "cell_type": "markdown",
      "source": [
        "# AUGMENTATION"
      ],
      "metadata": {
        "id": "6iZftU4B-XoW"
      }
    },
    {
      "cell_type": "markdown",
      "source": [
        "В рамках эксперимента было испробовано несколько методов:\n",
        "- ImageDataGenerator\n",
        "- ImageDataGenerator с albumentations в виде функции\n",
        "- ImageDataAugmentor с albumentations\n",
        "\n",
        "Наилучшие результаты в итоге показал третий вариант, представленный ниже."
      ],
      "metadata": {
        "id": "nPaYs8pY-XoW"
      }
    },
    {
      "cell_type": "code",
      "source": [
        "AUGMENTATIONS = A.Compose([\n",
        "    A.GaussianBlur(p=0.05),\n",
        "    A.RandomBrightness(limit=0.2, p=0.5),\n",
        "    A.ShiftScaleRotate(shift_limit=0.0625, \n",
        "                       scale_limit=0.01, \n",
        "                       interpolation=1, \n",
        "                       border_mode=4, \n",
        "                       rotate_limit=20, \n",
        "                       p=.75),\n",
        "    A.OneOf([\n",
        "        A.CenterCrop(height=224, width=200),\n",
        "        A.CenterCrop(height=200, width=224)],\n",
        "        p=0.5),\n",
        "    A.OneOf([\n",
        "        A.RandomBrightnessContrast(brightness_limit=0.3, \n",
        "                                                contrast_limit=0.3),\n",
        "        A.RandomBrightnessContrast(brightness_limit=0.1, \n",
        "                                                contrast_limit=0.1)],\n",
        "        p=0.5),\n",
        "    A.HorizontalFlip(p=0.5),\n",
        "    A.HueSaturationValue(p=0.5),\n",
        "    A.RGBShift(p=0.5),\n",
        "    A.FancyPCA(alpha=0.1, \n",
        "               always_apply=False, \n",
        "               p=0.5),\n",
        "    A.Resize(IMG_SIZE, IMG_SIZE)\n",
        "])"
      ],
      "metadata": {
        "execution": {
          "iopub.status.busy": "2021-12-27T22:13:09.458874Z",
          "iopub.execute_input": "2021-12-27T22:13:09.459287Z",
          "iopub.status.idle": "2021-12-27T22:13:09.471016Z",
          "shell.execute_reply.started": "2021-12-27T22:13:09.459252Z",
          "shell.execute_reply": "2021-12-27T22:13:09.470218Z"
        },
        "trusted": true,
        "id": "7c_0Hwvh-XoW"
      },
      "execution_count": null,
      "outputs": []
    },
    {
      "cell_type": "code",
      "source": [
        "train_datagen = ImageDataAugmentor(rescale=1/255,\n",
        "                        augment=AUGMENTATIONS, \n",
        "                        seed=RANDOM_SEED,\n",
        "                        validation_split=VAL_SPLIT\n",
        "                       )\n",
        "\n",
        "\n",
        "test_datagen = ImageDataAugmentor(\n",
        "   rescale=1/255,\n",
        "   validation_split=VAL_SPLIT,\n",
        ")\n"
      ],
      "metadata": {
        "execution": {
          "iopub.status.busy": "2021-12-27T22:13:09.472379Z",
          "iopub.execute_input": "2021-12-27T22:13:09.473009Z",
          "iopub.status.idle": "2021-12-27T22:13:09.479366Z",
          "shell.execute_reply.started": "2021-12-27T22:13:09.472972Z",
          "shell.execute_reply": "2021-12-27T22:13:09.478596Z"
        },
        "trusted": true,
        "id": "-_0-4wkO-XoX"
      },
      "execution_count": null,
      "outputs": []
    },
    {
      "cell_type": "code",
      "source": [
        "train_generator = train_datagen.flow_from_directory(\n",
        "    PATH+'train/',     \n",
        "   target_size=(IMG_SIZE, IMG_SIZE),\n",
        "   batch_size=BATCH_SIZE,\n",
        "   class_mode='categorical',\n",
        "   shuffle=True, seed=RANDOM_SEED,\n",
        "   subset='training') \n",
        "\n",
        "test_generator = test_datagen.flow_from_directory(\n",
        "    PATH+'train/',\n",
        "   target_size=(IMG_SIZE, IMG_SIZE),\n",
        "   batch_size=BATCH_SIZE,\n",
        "   class_mode='categorical',\n",
        "   shuffle=True, seed=RANDOM_SEED,\n",
        "   subset='validation') \n"
      ],
      "metadata": {
        "execution": {
          "iopub.status.busy": "2021-12-27T22:13:09.480287Z",
          "iopub.execute_input": "2021-12-27T22:13:09.481065Z",
          "iopub.status.idle": "2021-12-27T22:13:10.534754Z",
          "shell.execute_reply.started": "2021-12-27T22:13:09.480961Z",
          "shell.execute_reply": "2021-12-27T22:13:10.533491Z"
        },
        "trusted": true,
        "id": "ZQCGO7hb-XoY"
      },
      "execution_count": null,
      "outputs": []
    },
    {
      "cell_type": "markdown",
      "source": [
        "Посмотрим, что у нас получилось."
      ],
      "metadata": {
        "id": "1pHJQqez-XoY"
      }
    },
    {
      "cell_type": "code",
      "source": [
        "def imshow(image_RGB):\n",
        "    io.imshow(image_RGB)\n",
        "    io.show()\n",
        "\n",
        "x,y = train_generator.next()\n",
        "print('Пример картинок из train_generator')\n",
        "plt.figure(figsize=(12,8))\n",
        "\n",
        "for i in range(0,9):\n",
        "   image = x[i]\n",
        "   plt.subplot(3,3, i+1)\n",
        "   plt.imshow(image)\n",
        "plt.show()"
      ],
      "metadata": {
        "execution": {
          "iopub.status.busy": "2021-12-27T22:13:10.536012Z",
          "iopub.execute_input": "2021-12-27T22:13:10.536488Z",
          "iopub.status.idle": "2021-12-27T22:13:12.178667Z",
          "shell.execute_reply.started": "2021-12-27T22:13:10.536447Z",
          "shell.execute_reply": "2021-12-27T22:13:12.178074Z"
        },
        "trusted": true,
        "id": "uwcu3in1-XoY"
      },
      "execution_count": null,
      "outputs": []
    },
    {
      "cell_type": "code",
      "source": [
        "x,y = test_generator.next()\n",
        "print('Пример картинок из test_generator')\n",
        "plt.figure(figsize=(12,8))\n",
        "\n",
        "for i in range(0,9):\n",
        "   image = x[i]\n",
        "   plt.subplot(3,3, i+1)\n",
        "   plt.imshow(image)\n",
        "plt.show()"
      ],
      "metadata": {
        "execution": {
          "iopub.status.busy": "2021-12-27T22:13:12.179920Z",
          "iopub.execute_input": "2021-12-27T22:13:12.180421Z",
          "iopub.status.idle": "2021-12-27T22:13:13.296728Z",
          "shell.execute_reply.started": "2021-12-27T22:13:12.180384Z",
          "shell.execute_reply": "2021-12-27T22:13:13.296068Z"
        },
        "trusted": true,
        "id": "-NwgzDW1-XoZ"
      },
      "execution_count": null,
      "outputs": []
    },
    {
      "cell_type": "markdown",
      "source": [
        "# Model"
      ],
      "metadata": {
        "id": "41LajHu5-XoZ"
      }
    },
    {
      "cell_type": "markdown",
      "source": [
        "Был проведен эксперимент использования разных базовых моделей, включая Xception, InceptionV3, EfficientNetB5, EfficientNetB7.\n",
        "Наилучшие результаты показал InceptionV3.\n",
        "\n",
        "Используем transfer learning & fine-tuning в 4 шага."
      ],
      "metadata": {
        "id": "h4pSABZ--XoZ"
      }
    },
    {
      "cell_type": "markdown",
      "source": [
        "## Step 1"
      ],
      "metadata": {
        "id": "HsrGks0b-Xoa"
      }
    },
    {
      "cell_type": "code",
      "source": [
        "# base_model = Xception(weights='imagenet', include_top=False, input_shape = input_shape)\n",
        "\n",
        "base_model = InceptionV3(weights='imagenet', include_top=False, input_shape = input_shape)\n",
        "\n",
        "# base_model = EfficientNetB5(weights='imagenet', include_top=False, input_shape = input_shape)\n",
        "\n",
        "# base_model = EfficientNetB7(weights='imagenet', include_top=False, input_shape = input_shape)"
      ],
      "metadata": {
        "execution": {
          "iopub.status.busy": "2021-12-27T22:13:13.299274Z",
          "iopub.execute_input": "2021-12-27T22:13:13.299935Z",
          "iopub.status.idle": "2021-12-27T22:13:18.408917Z",
          "shell.execute_reply.started": "2021-12-27T22:13:13.299898Z",
          "shell.execute_reply": "2021-12-27T22:13:18.408171Z"
        },
        "trusted": true,
        "id": "kVy6CGAs-Xoa"
      },
      "execution_count": null,
      "outputs": []
    },
    {
      "cell_type": "code",
      "source": [
        "# Pамораживаем предварительно обученные веса модели, тренируем только верхние слои\n",
        "\n",
        "base_model.trainable = False"
      ],
      "metadata": {
        "execution": {
          "iopub.status.busy": "2021-12-27T15:30:17.977125Z",
          "iopub.execute_input": "2021-12-27T15:30:17.977336Z",
          "iopub.status.idle": "2021-12-27T15:30:18.01014Z",
          "shell.execute_reply.started": "2021-12-27T15:30:17.977309Z",
          "shell.execute_reply": "2021-12-27T15:30:18.008535Z"
        },
        "trusted": true,
        "id": "0If7P-0A-Xob"
      },
      "execution_count": null,
      "outputs": []
    },
    {
      "cell_type": "code",
      "source": [
        "model = Sequential()\n",
        "model.add(base_model)\n",
        "model.add(L.GlobalAveragePooling2D())\n",
        "model.add(L.Dense(256, activation='relu'))\n",
        "model.add(L.BatchNormalization())\n",
        "model.add(L.Dropout(0.25))\n",
        "model.add(L.Dense(CLASS_NUM, activation='softmax'))"
      ],
      "metadata": {
        "execution": {
          "iopub.status.busy": "2021-12-27T22:13:18.410130Z",
          "iopub.execute_input": "2021-12-27T22:13:18.410401Z",
          "iopub.status.idle": "2021-12-27T22:13:18.972741Z",
          "shell.execute_reply.started": "2021-12-27T22:13:18.410368Z",
          "shell.execute_reply": "2021-12-27T22:13:18.972053Z"
        },
        "trusted": true,
        "id": "j7rgxXiu-Xoc"
      },
      "execution_count": null,
      "outputs": []
    },
    {
      "cell_type": "code",
      "source": [
        "model.summary()"
      ],
      "metadata": {
        "execution": {
          "iopub.status.busy": "2021-12-27T22:13:18.973988Z",
          "iopub.execute_input": "2021-12-27T22:13:18.974236Z",
          "iopub.status.idle": "2021-12-27T22:13:19.004259Z",
          "shell.execute_reply.started": "2021-12-27T22:13:18.974187Z",
          "shell.execute_reply": "2021-12-27T22:13:19.003581Z"
        },
        "trusted": true,
        "id": "JGSBEx2M-Xod"
      },
      "execution_count": null,
      "outputs": []
    },
    {
      "cell_type": "code",
      "source": [
        "# Проверим статус отдельных слоев\n",
        "\n",
        "for layer in model.layers:\n",
        "    print(layer, layer.trainable)"
      ],
      "metadata": {
        "execution": {
          "iopub.status.busy": "2021-12-27T15:30:18.639437Z",
          "iopub.execute_input": "2021-12-27T15:30:18.639786Z",
          "iopub.status.idle": "2021-12-27T15:30:18.647599Z",
          "shell.execute_reply.started": "2021-12-27T15:30:18.639756Z",
          "shell.execute_reply": "2021-12-27T15:30:18.646717Z"
        },
        "trusted": true,
        "id": "F4sXxKQn-Xof"
      },
      "execution_count": null,
      "outputs": []
    },
    {
      "cell_type": "markdown",
      "source": [
        "Был проведен эксперимент по подбору оптимизатора. Adam показал наилучшие результаты."
      ],
      "metadata": {
        "id": "GZfm53J9-Xog"
      }
    },
    {
      "cell_type": "code",
      "source": [
        "model.compile(loss=\"categorical_crossentropy\", \n",
        "             optimizer=optimizers.Adam(learning_rate=LR), \n",
        "             metrics=[\"accuracy\"])"
      ],
      "metadata": {
        "execution": {
          "iopub.status.busy": "2021-12-27T22:13:19.005371Z",
          "iopub.execute_input": "2021-12-27T22:13:19.005608Z",
          "iopub.status.idle": "2021-12-27T22:13:19.216524Z",
          "shell.execute_reply.started": "2021-12-27T22:13:19.005574Z",
          "shell.execute_reply": "2021-12-27T22:13:19.215768Z"
        },
        "trusted": true,
        "id": "2I0_aPzV-Xog"
      },
      "execution_count": null,
      "outputs": []
    },
    {
      "cell_type": "code",
      "source": [
        "# Добавим callbacks для сохранения прогресса обучения, для ранней остановки и уменьшения Learning Rate.\n",
        "\n",
        "checkpoint = ModelCheckpoint('best_model.hdf5', \n",
        "                            monitor = 'val_accuracy', \n",
        "                            verbose = 1,\n",
        "                            mode = 'max',\n",
        "                            save_best_only = True)\n",
        "earlystop = EarlyStopping(monitor = 'val_accuracy',\n",
        "                         patience = 5,\n",
        "                         restore_best_weights = True)\n",
        "reduce_lr = ReduceLROnPlateau(monitor='val_loss',\n",
        "                             factor=0.25,\n",
        "                             patience=2,\n",
        "                             min_lr=0.0000001,\n",
        "                             verbose=1,\n",
        "                             mode='auto')\n",
        "callbacks_list = [checkpoint, earlystop, reduce_lr]"
      ],
      "metadata": {
        "execution": {
          "iopub.status.busy": "2021-12-27T22:13:19.218039Z",
          "iopub.execute_input": "2021-12-27T22:13:19.218525Z",
          "iopub.status.idle": "2021-12-27T22:13:19.224637Z",
          "shell.execute_reply.started": "2021-12-27T22:13:19.218487Z",
          "shell.execute_reply": "2021-12-27T22:13:19.224011Z"
        },
        "trusted": true,
        "id": "rQBNsbhk-Xoh"
      },
      "execution_count": null,
      "outputs": []
    },
    {
      "cell_type": "code",
      "source": [
        "# Обучаем\n",
        "\n",
        "history = model.fit_generator(\n",
        "       train_generator,\n",
        "       steps_per_epoch = len(train_generator),\n",
        "       validation_data = test_generator, \n",
        "       validation_steps = len(test_generator),\n",
        "       epochs = EPOCHS,\n",
        "       callbacks = callbacks_list)"
      ],
      "metadata": {
        "execution": {
          "iopub.status.busy": "2021-12-27T22:13:19.225916Z",
          "iopub.execute_input": "2021-12-27T22:13:19.226379Z"
        },
        "trusted": true,
        "id": "yRrLVHJX-Xoh"
      },
      "execution_count": null,
      "outputs": []
    },
    {
      "cell_type": "code",
      "source": [
        "# Сохраним итоговую сеть и подгрузим лучшую итерацию в обучении (best_model)\n",
        "\n",
        "model.save('../working/model_step_1.hdf5')\n",
        "model.load_weights('best_model.hdf5')"
      ],
      "metadata": {
        "execution": {
          "iopub.status.busy": "2021-12-27T16:12:40.495087Z",
          "iopub.execute_input": "2021-12-27T16:12:40.495298Z",
          "iopub.status.idle": "2021-12-27T16:12:41.280436Z",
          "shell.execute_reply.started": "2021-12-27T16:12:40.495273Z",
          "shell.execute_reply": "2021-12-27T16:12:41.279725Z"
        },
        "trusted": true,
        "id": "XYpa02oP-Xoh"
      },
      "execution_count": null,
      "outputs": []
    },
    {
      "cell_type": "code",
      "source": [
        "scores = model.evaluate_generator(test_generator, steps=len(test_generator), verbose=1)\n",
        "print(\"Accuracy: %.2f%%\" % (scores[1]*100))"
      ],
      "metadata": {
        "execution": {
          "iopub.status.busy": "2021-12-27T16:12:41.285296Z",
          "iopub.execute_input": "2021-12-27T16:12:41.285493Z",
          "iopub.status.idle": "2021-12-27T16:12:59.081154Z",
          "shell.execute_reply.started": "2021-12-27T16:12:41.285468Z",
          "shell.execute_reply": "2021-12-27T16:12:59.080378Z"
        },
        "trusted": true,
        "id": "aw5Pecg0-Xoi"
      },
      "execution_count": null,
      "outputs": []
    },
    {
      "cell_type": "code",
      "source": [
        "# Посмотрим на графики обучения\n",
        "\n",
        "acc = history.history['accuracy']\n",
        "val_acc = history.history['val_accuracy']\n",
        "loss = history.history['loss']\n",
        "val_loss = history.history['val_loss']\n",
        " \n",
        "epochs = range(len(acc))\n",
        " \n",
        "plt.plot(epochs, acc, 'b', label='Training acc')\n",
        "plt.plot(epochs, val_acc, 'r', label='Validation acc')\n",
        "plt.title('Training and validation accuracy')\n",
        "plt.legend()\n",
        " \n",
        "plt.figure()\n",
        " \n",
        "plt.plot(epochs, loss, 'b', label='Training loss')\n",
        "plt.plot(epochs, val_loss, 'r', label='Validation loss')\n",
        "plt.title('Training and validation loss')\n",
        "plt.legend()\n",
        " \n",
        "plt.show()"
      ],
      "metadata": {
        "execution": {
          "iopub.status.busy": "2021-12-27T16:12:59.082656Z",
          "iopub.execute_input": "2021-12-27T16:12:59.083157Z",
          "iopub.status.idle": "2021-12-27T16:12:59.463977Z",
          "shell.execute_reply.started": "2021-12-27T16:12:59.083118Z",
          "shell.execute_reply": "2021-12-27T16:12:59.463307Z"
        },
        "trusted": true,
        "id": "nFV6cECn-Xoi"
      },
      "execution_count": null,
      "outputs": []
    },
    {
      "cell_type": "markdown",
      "source": [
        "## Step 2"
      ],
      "metadata": {
        "id": "C-fwFEy0-Xoj"
      }
    },
    {
      "cell_type": "code",
      "source": [
        "# Посмотрим, сколько слоев в базовой модели\n",
        "\n",
        "print(\"Number of layers in the base model: \", len(base_model.layers))"
      ],
      "metadata": {
        "execution": {
          "iopub.status.busy": "2021-12-27T16:12:59.465321Z",
          "iopub.execute_input": "2021-12-27T16:12:59.465589Z",
          "iopub.status.idle": "2021-12-27T16:12:59.473544Z",
          "shell.execute_reply.started": "2021-12-27T16:12:59.465553Z",
          "shell.execute_reply": "2021-12-27T16:12:59.472717Z"
        },
        "trusted": true,
        "id": "N4vBSr_a-Xoj"
      },
      "execution_count": null,
      "outputs": []
    },
    {
      "cell_type": "code",
      "source": [
        "base_model.trainable = True\n",
        "\n",
        "# Fine-tune с этого слоя\n",
        "fine_tune_at = len(base_model.layers)//2\n",
        "\n",
        "# Заморозим все слои перед `fine_tune_at` слоем\n",
        "for layer in base_model.layers[:fine_tune_at]:\n",
        "    layer.trainable =  False"
      ],
      "metadata": {
        "execution": {
          "iopub.status.busy": "2021-12-27T16:12:59.475804Z",
          "iopub.execute_input": "2021-12-27T16:12:59.476394Z",
          "iopub.status.idle": "2021-12-27T16:12:59.495927Z",
          "shell.execute_reply.started": "2021-12-27T16:12:59.476357Z",
          "shell.execute_reply": "2021-12-27T16:12:59.495257Z"
        },
        "trusted": true,
        "id": "aqdTmYa7-Xok"
      },
      "execution_count": null,
      "outputs": []
    },
    {
      "cell_type": "code",
      "source": [
        "len(base_model.trainable_variables)"
      ],
      "metadata": {
        "execution": {
          "iopub.status.busy": "2021-12-27T16:12:59.496985Z",
          "iopub.execute_input": "2021-12-27T16:12:59.497278Z",
          "iopub.status.idle": "2021-12-27T16:12:59.508296Z",
          "shell.execute_reply.started": "2021-12-27T16:12:59.497244Z",
          "shell.execute_reply": "2021-12-27T16:12:59.507618Z"
        },
        "trusted": true,
        "id": "OD-rNB-Y-Xok"
      },
      "execution_count": null,
      "outputs": []
    },
    {
      "cell_type": "code",
      "source": [
        "# Проверим статус отдельных слоев\n",
        "\n",
        "for layer in model.layers:\n",
        "    print(layer, layer.trainable)"
      ],
      "metadata": {
        "execution": {
          "iopub.status.busy": "2021-12-27T16:12:59.509494Z",
          "iopub.execute_input": "2021-12-27T16:12:59.509769Z",
          "iopub.status.idle": "2021-12-27T16:12:59.519253Z",
          "shell.execute_reply.started": "2021-12-27T16:12:59.509735Z",
          "shell.execute_reply": "2021-12-27T16:12:59.518537Z"
        },
        "trusted": true,
        "id": "pKWm-Uhz-Xok"
      },
      "execution_count": null,
      "outputs": []
    },
    {
      "cell_type": "code",
      "source": [
        "LR=0.0001\n",
        "model.compile(loss=\"categorical_crossentropy\", \n",
        "              optimizer=optimizers.Adam(learning_rate=LR), \n",
        "              metrics=[\"accuracy\"])"
      ],
      "metadata": {
        "execution": {
          "iopub.status.busy": "2021-12-27T16:12:59.520532Z",
          "iopub.execute_input": "2021-12-27T16:12:59.520938Z",
          "iopub.status.idle": "2021-12-27T16:12:59.536985Z",
          "shell.execute_reply.started": "2021-12-27T16:12:59.520902Z",
          "shell.execute_reply": "2021-12-27T16:12:59.536294Z"
        },
        "trusted": true,
        "id": "vOqc-KCz-Xok"
      },
      "execution_count": null,
      "outputs": []
    },
    {
      "cell_type": "code",
      "source": [
        "model.summary()"
      ],
      "metadata": {
        "execution": {
          "iopub.status.busy": "2021-12-27T16:12:59.538198Z",
          "iopub.execute_input": "2021-12-27T16:12:59.538441Z",
          "iopub.status.idle": "2021-12-27T16:12:59.561685Z",
          "shell.execute_reply.started": "2021-12-27T16:12:59.538407Z",
          "shell.execute_reply": "2021-12-27T16:12:59.561024Z"
        },
        "trusted": true,
        "id": "lYmbjU3X-Xol"
      },
      "execution_count": null,
      "outputs": []
    },
    {
      "cell_type": "code",
      "source": [
        "# Обучаем\n",
        "\n",
        "history = model.fit_generator(\n",
        "        train_generator,\n",
        "        steps_per_epoch = len(train_generator),\n",
        "        validation_data = test_generator, \n",
        "        validation_steps = len(test_generator),\n",
        "        epochs = EPOCHS,\n",
        "        callbacks = callbacks_list)"
      ],
      "metadata": {
        "execution": {
          "iopub.status.busy": "2021-12-27T16:12:59.563258Z",
          "iopub.execute_input": "2021-12-27T16:12:59.563614Z",
          "iopub.status.idle": "2021-12-27T16:56:03.199442Z",
          "shell.execute_reply.started": "2021-12-27T16:12:59.563578Z",
          "shell.execute_reply": "2021-12-27T16:56:03.19874Z"
        },
        "trusted": true,
        "id": "jaumV7LD-Xol"
      },
      "execution_count": null,
      "outputs": []
    },
    {
      "cell_type": "code",
      "source": [
        "model.save('../working/model_step_2.hdf5')\n",
        "model.load_weights('best_model.hdf5')"
      ],
      "metadata": {
        "execution": {
          "iopub.status.busy": "2021-12-27T16:56:03.201034Z",
          "iopub.execute_input": "2021-12-27T16:56:03.201452Z",
          "iopub.status.idle": "2021-12-27T16:56:04.260598Z",
          "shell.execute_reply.started": "2021-12-27T16:56:03.201414Z",
          "shell.execute_reply": "2021-12-27T16:56:04.259862Z"
        },
        "trusted": true,
        "id": "V_WuRcHG-Xom"
      },
      "execution_count": null,
      "outputs": []
    },
    {
      "cell_type": "code",
      "source": [
        "scores = model.evaluate_generator(test_generator, steps=len(test_generator), verbose=1)\n",
        "print(\"Accuracy: %.2f%%\" % (scores[1]*100))"
      ],
      "metadata": {
        "execution": {
          "iopub.status.busy": "2021-12-27T16:56:04.262232Z",
          "iopub.execute_input": "2021-12-27T16:56:04.262458Z",
          "iopub.status.idle": "2021-12-27T16:56:24.97292Z",
          "shell.execute_reply.started": "2021-12-27T16:56:04.262424Z",
          "shell.execute_reply": "2021-12-27T16:56:24.972136Z"
        },
        "trusted": true,
        "id": "-xMmobSQ-Xom"
      },
      "execution_count": null,
      "outputs": []
    },
    {
      "cell_type": "markdown",
      "source": [
        "## Step 3"
      ],
      "metadata": {
        "id": "MdHlUr7D-Xom"
      }
    },
    {
      "cell_type": "code",
      "source": [
        "base_model.trainable = True\n",
        "\n",
        "# Fine-tune с этого слоя\n",
        "fine_tune_at = len(base_model.layers)//4\n",
        "\n",
        "# Заморозим все слои перед `fine_tune_at` слоем\n",
        "for layer in base_model.layers[:fine_tune_at]:\n",
        "    layer.trainable =  False"
      ],
      "metadata": {
        "execution": {
          "iopub.status.busy": "2021-12-27T16:56:24.974402Z",
          "iopub.execute_input": "2021-12-27T16:56:24.974687Z",
          "iopub.status.idle": "2021-12-27T16:56:24.993357Z",
          "shell.execute_reply.started": "2021-12-27T16:56:24.974635Z",
          "shell.execute_reply": "2021-12-27T16:56:24.992583Z"
        },
        "trusted": true,
        "id": "-rNmy57o-Xon"
      },
      "execution_count": null,
      "outputs": []
    },
    {
      "cell_type": "code",
      "source": [
        "LR=0.00001\n",
        "model.compile(loss=\"categorical_crossentropy\", \n",
        "              optimizer=optimizers.Adam(learning_rate=LR), \n",
        "              metrics=[\"accuracy\"])"
      ],
      "metadata": {
        "execution": {
          "iopub.status.busy": "2021-12-27T16:56:24.994399Z",
          "iopub.execute_input": "2021-12-27T16:56:24.994736Z",
          "iopub.status.idle": "2021-12-27T16:56:25.023874Z",
          "shell.execute_reply.started": "2021-12-27T16:56:24.994698Z",
          "shell.execute_reply": "2021-12-27T16:56:25.023246Z"
        },
        "trusted": true,
        "id": "vwtLaUjZ-Xon"
      },
      "execution_count": null,
      "outputs": []
    },
    {
      "cell_type": "code",
      "source": [
        "model.summary()"
      ],
      "metadata": {
        "execution": {
          "iopub.status.busy": "2021-12-27T16:56:25.024987Z",
          "iopub.execute_input": "2021-12-27T16:56:25.025236Z",
          "iopub.status.idle": "2021-12-27T16:56:25.050263Z",
          "shell.execute_reply.started": "2021-12-27T16:56:25.025188Z",
          "shell.execute_reply": "2021-12-27T16:56:25.04965Z"
        },
        "trusted": true,
        "id": "ATiY3pU6-Xon"
      },
      "execution_count": null,
      "outputs": []
    },
    {
      "cell_type": "code",
      "source": [
        "# Обучаем\n",
        "\n",
        "history = model.fit_generator(\n",
        "        train_generator,\n",
        "        steps_per_epoch = len(train_generator),\n",
        "        validation_data = test_generator, \n",
        "        validation_steps = len(test_generator),\n",
        "        epochs = EPOCHS,\n",
        "        callbacks = callbacks_list)"
      ],
      "metadata": {
        "execution": {
          "iopub.status.busy": "2021-12-27T16:56:25.051293Z",
          "iopub.execute_input": "2021-12-27T16:56:25.05159Z",
          "iopub.status.idle": "2021-12-27T17:25:54.608811Z",
          "shell.execute_reply.started": "2021-12-27T16:56:25.051554Z",
          "shell.execute_reply": "2021-12-27T17:25:54.607388Z"
        },
        "trusted": true,
        "id": "jSmMo1r1-Xon"
      },
      "execution_count": null,
      "outputs": []
    },
    {
      "cell_type": "markdown",
      "source": [
        "На этом шаге улучшения показателей не произошло."
      ],
      "metadata": {
        "id": "sZ9f3uTX-Xon"
      }
    },
    {
      "cell_type": "code",
      "source": [
        "# model.save('../working/model_step_3.hdf5')\n",
        "# model.load_weights('best_model.hdf5')"
      ],
      "metadata": {
        "execution": {
          "iopub.status.busy": "2021-12-27T17:28:27.98219Z",
          "iopub.execute_input": "2021-12-27T17:28:27.98247Z",
          "iopub.status.idle": "2021-12-27T17:28:27.986039Z",
          "shell.execute_reply.started": "2021-12-27T17:28:27.982439Z",
          "shell.execute_reply": "2021-12-27T17:28:27.985236Z"
        },
        "trusted": true,
        "id": "ZpDaEZ_w-Xoo"
      },
      "execution_count": null,
      "outputs": []
    },
    {
      "cell_type": "code",
      "source": [
        "scores = model.evaluate_generator(test_generator, steps=len(test_generator), verbose=1)\n",
        "print(\"Accuracy: %.2f%%\" % (scores[1]*100))"
      ],
      "metadata": {
        "execution": {
          "iopub.status.busy": "2021-12-27T17:28:29.992405Z",
          "iopub.execute_input": "2021-12-27T17:28:29.993204Z",
          "iopub.status.idle": "2021-12-27T17:28:50.737466Z",
          "shell.execute_reply.started": "2021-12-27T17:28:29.993152Z",
          "shell.execute_reply": "2021-12-27T17:28:50.735749Z"
        },
        "trusted": true,
        "id": "UzUmEref-Xoo"
      },
      "execution_count": null,
      "outputs": []
    },
    {
      "cell_type": "markdown",
      "source": [
        "Посмотрим на графики."
      ],
      "metadata": {
        "id": "8evZl_u4-Xoo"
      }
    },
    {
      "cell_type": "code",
      "source": [
        "acc = history.history['accuracy']\n",
        "val_acc = history.history['val_accuracy']\n",
        "loss = history.history['loss']\n",
        "val_loss = history.history['val_loss']\n",
        " \n",
        "epochs = range(len(acc))\n",
        " \n",
        "plt.plot(epochs, acc, 'b', label='Training acc')\n",
        "plt.plot(epochs, val_acc, 'r', label='Validation acc')\n",
        "plt.title('Training and validation accuracy')\n",
        "plt.legend()\n",
        " \n",
        "plt.figure()\n",
        " \n",
        "plt.plot(epochs, loss, 'b', label='Training loss')\n",
        "plt.plot(epochs, val_loss, 'r', label='Validation loss')\n",
        "plt.title('Training and validation loss')\n",
        "plt.legend()\n",
        " \n",
        "plt.show()"
      ],
      "metadata": {
        "execution": {
          "iopub.status.busy": "2021-12-27T17:28:50.739388Z",
          "iopub.execute_input": "2021-12-27T17:28:50.739658Z",
          "iopub.status.idle": "2021-12-27T17:28:51.113582Z",
          "shell.execute_reply.started": "2021-12-27T17:28:50.73962Z",
          "shell.execute_reply": "2021-12-27T17:28:51.112944Z"
        },
        "trusted": true,
        "id": "KHjw9D3L-Xoo"
      },
      "execution_count": null,
      "outputs": []
    },
    {
      "cell_type": "markdown",
      "source": [
        "## Step 4"
      ],
      "metadata": {
        "id": "vFQ340Q5-Xoo"
      }
    },
    {
      "cell_type": "markdown",
      "source": [
        "Полностью размораживаем веса."
      ],
      "metadata": {
        "id": "beK6AOW2-Xop"
      }
    },
    {
      "cell_type": "code",
      "source": [
        "base_model.trainable = True"
      ],
      "metadata": {
        "execution": {
          "iopub.status.busy": "2021-12-27T17:28:51.11477Z",
          "iopub.execute_input": "2021-12-27T17:28:51.115083Z",
          "iopub.status.idle": "2021-12-27T17:28:51.128811Z",
          "shell.execute_reply.started": "2021-12-27T17:28:51.115046Z",
          "shell.execute_reply": "2021-12-27T17:28:51.128089Z"
        },
        "trusted": true,
        "id": "hBdkKMhK-Xop"
      },
      "execution_count": null,
      "outputs": []
    },
    {
      "cell_type": "code",
      "source": [
        "model.summary()"
      ],
      "metadata": {
        "execution": {
          "iopub.status.busy": "2021-12-27T17:28:51.13086Z",
          "iopub.execute_input": "2021-12-27T17:28:51.131161Z",
          "iopub.status.idle": "2021-12-27T17:28:51.163065Z",
          "shell.execute_reply.started": "2021-12-27T17:28:51.131121Z",
          "shell.execute_reply": "2021-12-27T17:28:51.162429Z"
        },
        "trusted": true,
        "id": "_pBWapKO-Xop"
      },
      "execution_count": null,
      "outputs": []
    },
    {
      "cell_type": "code",
      "source": [
        "LR=0.000001\n",
        "model.compile(loss=\"categorical_crossentropy\", \n",
        "              optimizer=optimizers.Adam(learning_rate=LR), \n",
        "              metrics=[\"accuracy\"])"
      ],
      "metadata": {
        "execution": {
          "iopub.status.busy": "2021-12-27T17:28:51.164099Z",
          "iopub.execute_input": "2021-12-27T17:28:51.164347Z",
          "iopub.status.idle": "2021-12-27T17:28:51.190421Z",
          "shell.execute_reply.started": "2021-12-27T17:28:51.164314Z",
          "shell.execute_reply": "2021-12-27T17:28:51.18971Z"
        },
        "trusted": true,
        "id": "fe3rfmnY-Xop"
      },
      "execution_count": null,
      "outputs": []
    },
    {
      "cell_type": "code",
      "source": [
        "# Обучаем\n",
        "\n",
        "history = model.fit_generator(\n",
        "        train_generator,\n",
        "        steps_per_epoch = len(train_generator),\n",
        "        validation_data = test_generator, \n",
        "        validation_steps = len(test_generator),\n",
        "        epochs = EPOCHS,\n",
        "        callbacks = callbacks_list)"
      ],
      "metadata": {
        "execution": {
          "iopub.status.busy": "2021-12-27T17:28:51.191515Z",
          "iopub.execute_input": "2021-12-27T17:28:51.191834Z",
          "iopub.status.idle": "2021-12-27T18:04:00.934652Z",
          "shell.execute_reply.started": "2021-12-27T17:28:51.191798Z",
          "shell.execute_reply": "2021-12-27T18:04:00.933118Z"
        },
        "trusted": true,
        "id": "36diyC4A-Xop"
      },
      "execution_count": null,
      "outputs": []
    },
    {
      "cell_type": "code",
      "source": [
        "model.save('../working/model_step_4.hdf5')\n",
        "model.load_weights('best_model.hdf5')"
      ],
      "metadata": {
        "execution": {
          "iopub.status.busy": "2021-12-27T18:04:00.935974Z",
          "iopub.execute_input": "2021-12-27T18:04:00.936226Z",
          "iopub.status.idle": "2021-12-27T18:04:02.264639Z",
          "shell.execute_reply.started": "2021-12-27T18:04:00.93619Z",
          "shell.execute_reply": "2021-12-27T18:04:02.263853Z"
        },
        "trusted": true,
        "id": "gMSqSGNa-Xop"
      },
      "execution_count": null,
      "outputs": []
    },
    {
      "cell_type": "code",
      "source": [
        "scores = model.evaluate_generator(test_generator, steps=len(test_generator), verbose=1)\n",
        "print(\"Accuracy: %.2f%%\" % (scores[1]*100))"
      ],
      "metadata": {
        "execution": {
          "iopub.status.busy": "2021-12-27T18:04:02.269571Z",
          "iopub.execute_input": "2021-12-27T18:04:02.271719Z",
          "iopub.status.idle": "2021-12-27T18:04:21.194105Z",
          "shell.execute_reply.started": "2021-12-27T18:04:02.27165Z",
          "shell.execute_reply": "2021-12-27T18:04:21.193364Z"
        },
        "trusted": true,
        "id": "GG34Qs-L-Xoq"
      },
      "execution_count": null,
      "outputs": []
    },
    {
      "cell_type": "code",
      "source": [
        "acc = history.history['accuracy']\n",
        "val_acc = history.history['val_accuracy']\n",
        "loss = history.history['loss']\n",
        "val_loss = history.history['val_loss']\n",
        " \n",
        "epochs = range(len(acc))\n",
        " \n",
        "plt.plot(epochs, acc, 'b', label='Training acc')\n",
        "plt.plot(epochs, val_acc, 'r', label='Validation acc')\n",
        "plt.title('Training and validation accuracy')\n",
        "plt.legend()\n",
        " \n",
        "plt.figure()\n",
        " \n",
        "plt.plot(epochs, loss, 'b', label='Training loss')\n",
        "plt.plot(epochs, val_loss, 'r', label='Validation loss')\n",
        "plt.title('Training and validation loss')\n",
        "plt.legend()\n",
        " \n",
        "plt.show()"
      ],
      "metadata": {
        "execution": {
          "iopub.status.busy": "2021-12-27T18:04:21.195651Z",
          "iopub.execute_input": "2021-12-27T18:04:21.196402Z",
          "iopub.status.idle": "2021-12-27T18:04:21.605209Z",
          "shell.execute_reply.started": "2021-12-27T18:04:21.196356Z",
          "shell.execute_reply": "2021-12-27T18:04:21.604544Z"
        },
        "trusted": true,
        "id": "vmrfIzpI-Xoq"
      },
      "execution_count": null,
      "outputs": []
    },
    {
      "cell_type": "markdown",
      "source": [
        "# TTA / Submission"
      ],
      "metadata": {
        "id": "SQV7nfpP-Xoq"
      }
    },
    {
      "cell_type": "markdown",
      "source": [
        "Сделаем несколько прогнозов одной картинки по-разному. Окончательный прогноз получим путем усреднения нескольких прогнозов."
      ],
      "metadata": {
        "id": "cDj6MZgQ-Xoq"
      }
    },
    {
      "cell_type": "code",
      "source": [
        "model.load_weights('best_model.hdf5')"
      ],
      "metadata": {
        "execution": {
          "iopub.status.busy": "2021-12-27T18:04:21.609754Z",
          "iopub.execute_input": "2021-12-27T18:04:21.610324Z",
          "iopub.status.idle": "2021-12-27T18:04:21.925198Z",
          "shell.execute_reply.started": "2021-12-27T18:04:21.610283Z",
          "shell.execute_reply": "2021-12-27T18:04:21.924416Z"
        },
        "trusted": true,
        "id": "l5Q2lsWl-Xoq"
      },
      "execution_count": null,
      "outputs": []
    },
    {
      "cell_type": "code",
      "source": [
        "sub_test_datagen = ImageDataAugmentor(rescale=1/255,\n",
        "                        augment=AUGMENTATIONS, \n",
        "                        seed=RANDOM_SEED\n",
        "                       )\n",
        "\n",
        "test_sub_generator = sub_test_datagen.flow_from_dataframe( \n",
        "    dataframe=sample_submission,\n",
        "    directory=PATH+'test_upload/',\n",
        "    x_col=\"Id\",\n",
        "    y_col=None,\n",
        "    shuffle=False,\n",
        "    class_mode=None,\n",
        "    seed=RANDOM_SEED,\n",
        "    target_size=(IMG_SIZE, IMG_SIZE),\n",
        "    batch_size=BATCH_SIZE,)"
      ],
      "metadata": {
        "execution": {
          "iopub.status.busy": "2021-12-27T18:04:21.9266Z",
          "iopub.execute_input": "2021-12-27T18:04:21.926892Z",
          "iopub.status.idle": "2021-12-27T18:04:22.007929Z",
          "shell.execute_reply.started": "2021-12-27T18:04:21.926857Z",
          "shell.execute_reply": "2021-12-27T18:04:22.007233Z"
        },
        "trusted": true,
        "id": "q5Pl-xYr-Xor"
      },
      "execution_count": null,
      "outputs": []
    },
    {
      "cell_type": "code",
      "source": [
        "tta_steps = 10\n",
        "predictions = []\n",
        "\n",
        "for i in range(tta_steps):\n",
        "    preds = model.predict(test_sub_generator, verbose=1) \n",
        "    predictions.append(preds)\n",
        "\n",
        "pred = np.mean(predictions, axis=0)"
      ],
      "metadata": {
        "execution": {
          "iopub.status.busy": "2021-12-27T18:04:22.00924Z",
          "iopub.execute_input": "2021-12-27T18:04:22.010841Z",
          "iopub.status.idle": "2021-12-27T18:23:16.216Z",
          "shell.execute_reply.started": "2021-12-27T18:04:22.010801Z",
          "shell.execute_reply": "2021-12-27T18:23:16.215223Z"
        },
        "trusted": true,
        "id": "KyOfUMIt-Xor"
      },
      "execution_count": null,
      "outputs": []
    },
    {
      "cell_type": "code",
      "source": [
        "predictions = np.argmax(pred, axis=-1) #несколько категорий\n",
        "label_map = (train_generator.class_indices)\n",
        "label_map = dict((v,k) for k,v in label_map.items()) #перевернем k,v\n",
        "predictions = [label_map[k] for k in predictions]\n"
      ],
      "metadata": {
        "execution": {
          "iopub.status.busy": "2021-12-27T18:23:16.217362Z",
          "iopub.execute_input": "2021-12-27T18:23:16.217712Z",
          "iopub.status.idle": "2021-12-27T18:23:16.229356Z",
          "shell.execute_reply.started": "2021-12-27T18:23:16.217659Z",
          "shell.execute_reply": "2021-12-27T18:23:16.228593Z"
        },
        "trusted": true,
        "id": "uWLYb2AR-Xor"
      },
      "execution_count": null,
      "outputs": []
    },
    {
      "cell_type": "code",
      "source": [
        "filenames_with_dir=test_sub_generator.filenames\n",
        "submission = pd.DataFrame({'Id':filenames_with_dir, 'Category':predictions}, \n",
        "                          columns=['Id', 'Category'])\n",
        "submission['Id'] = submission['Id'].replace('test_upload/','')"
      ],
      "metadata": {
        "execution": {
          "iopub.status.busy": "2021-12-27T18:23:16.231027Z",
          "iopub.execute_input": "2021-12-27T18:23:16.231361Z",
          "iopub.status.idle": "2021-12-27T18:23:16.241489Z",
          "shell.execute_reply.started": "2021-12-27T18:23:16.231325Z",
          "shell.execute_reply": "2021-12-27T18:23:16.240576Z"
        },
        "trusted": true,
        "id": "Jy8OfRnx-Xor"
      },
      "execution_count": null,
      "outputs": []
    },
    {
      "cell_type": "code",
      "source": [
        "scores = model.evaluate(test_generator, verbose=1)\n",
        "print(\"Accuracy: %.2f%%\" % (scores[1]*100))"
      ],
      "metadata": {
        "execution": {
          "iopub.status.busy": "2021-12-27T18:23:16.243303Z",
          "iopub.execute_input": "2021-12-27T18:23:16.243882Z",
          "iopub.status.idle": "2021-12-27T18:23:35.118992Z",
          "shell.execute_reply.started": "2021-12-27T18:23:16.243844Z",
          "shell.execute_reply": "2021-12-27T18:23:35.118255Z"
        },
        "trusted": true,
        "id": "3zcBTTZ1-Xor"
      },
      "execution_count": null,
      "outputs": []
    },
    {
      "cell_type": "code",
      "source": [
        "submission.to_csv('submission.csv', index=False)\n",
        "print('Save submit')"
      ],
      "metadata": {
        "execution": {
          "iopub.status.busy": "2021-12-27T18:23:35.120384Z",
          "iopub.execute_input": "2021-12-27T18:23:35.120635Z",
          "iopub.status.idle": "2021-12-27T18:23:35.142065Z",
          "shell.execute_reply.started": "2021-12-27T18:23:35.1206Z",
          "shell.execute_reply": "2021-12-27T18:23:35.141357Z"
        },
        "trusted": true,
        "id": "3F20_nC--Xor"
      },
      "execution_count": null,
      "outputs": []
    },
    {
      "cell_type": "markdown",
      "source": [
        "## Итоги\n",
        "\n",
        "В результате работы над проектом было сделано:\n",
        "- transfer learning и fine-tuning (обучение головы -> 50% разморозка весов предобученной модели -> 75% разморозка -> 100% разморозка)\n",
        "- дополнительные функции callback в Keras\n",
        "- настройка LR и optimizer\n",
        "- применен способ заполнения пропусков c помощью ImageDataAugmentor с использованием библиотеки аугментации изображений albumentations\n",
        "- подобраны переменные (размер картинки, батч, количество эпох)\n",
        "- добавлена Batch Normalization в архитектуре “головы” модели\n",
        "- добавлена TTA (Test Time Augmentation)\n",
        "- подобрана архитектура\n",
        "\n",
        "Экспеименты, не принесшие результатов\n",
        "- параметры регуляризации полносвязного слоя нейронной сети \n",
        "- архитектуры Xception, EfficientNetB5, EfficientNetB7\n",
        "\n",
        "Xception и InceptionV3 показали очень похожие результаты с разницей в несколько десятых.\n",
        "EfficientNet, в свою очередь, показал очень скромные результаты, не доходившие до 90%. Даже при уменьшении размера батча часто вылетала ошибка о нехватке памяти. В связи с отсутствием ресурса, с B7 эксперимент так и не удалось завершить до конца.\n",
        "Модели подгружались через keras.applications, не через установку efficientnet. При попытке второго была ошибка, которую не удалось решить. Другого объяснения, почему у меня модель сработала хуже, чем у других участников соревнования при равных условиях - я не вижу. Если в своем фидбеке вы этот момент мне поясните - буду благодарна.\n",
        "\n",
        "Самый лучший результат, тем не менее, продемонстрировала модель Xception БЕЗ fine tuning. Но в рамках учебного проекта было решено пожертовать парой тысячных и показать вариант с fine tuning и InceptionV3, так как при fine tuning именно Inception дала лучшие результаты.\n",
        "\n",
        "\n",
        "\n"
      ],
      "metadata": {
        "id": "3bXDUI_w-Xos"
      }
    },
    {
      "cell_type": "code",
      "source": [
        ""
      ],
      "metadata": {
        "id": "r2b-xhQ5-Xos"
      },
      "execution_count": null,
      "outputs": []
    }
  ]
}